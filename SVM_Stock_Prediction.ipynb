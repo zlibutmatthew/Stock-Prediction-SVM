{
  "nbformat": 4,
  "nbformat_minor": 0,
  "metadata": {
    "colab": {
      "name": "SVM_Stock_Prediction.ipynb",
      "provenance": [],
      "collapsed_sections": [],
      "authorship_tag": "ABX9TyMdP+KdilZNZhY/Soam0G+n",
      "include_colab_link": true
    },
    "kernelspec": {
      "name": "python3",
      "display_name": "Python 3"
    }
  },
  "cells": [
    {
      "cell_type": "markdown",
      "metadata": {
        "id": "view-in-github",
        "colab_type": "text"
      },
      "source": [
        "<a href=\"https://colab.research.google.com/github/zlibutmatthew/Stock-Prediction-SVM/blob/master/SVM_Stock_Prediction.ipynb\" target=\"_parent\"><img src=\"https://colab.research.google.com/assets/colab-badge.svg\" alt=\"Open In Colab\"/></a>"
      ]
    },
    {
      "cell_type": "code",
      "metadata": {
        "id": "PI3dDje16wV5",
        "colab_type": "code",
        "colab": {
          "base_uri": "https://localhost:8080/",
          "height": 504
        },
        "outputId": "35c2e5fc-cde4-4a70-aa55-330414180391"
      },
      "source": [
        "import numpy as np\n",
        "import pandas as pd\n",
        "import pandas_datareader as web\n",
        "import matplotlib.pyplot as plt\n",
        "from sklearn import svm\n",
        "\n",
        "#Get the stock info and store into a dataframe\n",
        "df = web.DataReader('AAPL', data_source='yahoo', start='2008-01-01', end='2019-12-31')\n",
        "df"
      ],
      "execution_count": null,
      "outputs": [
        {
          "output_type": "stream",
          "text": [
            "/usr/local/lib/python3.6/dist-packages/pandas_datareader/compat/__init__.py:7: FutureWarning: pandas.util.testing is deprecated. Use the functions in the public API at pandas.testing instead.\n",
            "  from pandas.util.testing import assert_frame_equal\n"
          ],
          "name": "stderr"
        },
        {
          "output_type": "execute_result",
          "data": {
            "text/html": [
              "<div>\n",
              "<style scoped>\n",
              "    .dataframe tbody tr th:only-of-type {\n",
              "        vertical-align: middle;\n",
              "    }\n",
              "\n",
              "    .dataframe tbody tr th {\n",
              "        vertical-align: top;\n",
              "    }\n",
              "\n",
              "    .dataframe thead th {\n",
              "        text-align: right;\n",
              "    }\n",
              "</style>\n",
              "<table border=\"1\" class=\"dataframe\">\n",
              "  <thead>\n",
              "    <tr style=\"text-align: right;\">\n",
              "      <th></th>\n",
              "      <th>High</th>\n",
              "      <th>Low</th>\n",
              "      <th>Open</th>\n",
              "      <th>Close</th>\n",
              "      <th>Volume</th>\n",
              "      <th>Adj Close</th>\n",
              "    </tr>\n",
              "    <tr>\n",
              "      <th>Date</th>\n",
              "      <th></th>\n",
              "      <th></th>\n",
              "      <th></th>\n",
              "      <th></th>\n",
              "      <th></th>\n",
              "      <th></th>\n",
              "    </tr>\n",
              "  </thead>\n",
              "  <tbody>\n",
              "    <tr>\n",
              "      <th>2008-01-02</th>\n",
              "      <td>7.152143</td>\n",
              "      <td>6.876786</td>\n",
              "      <td>7.116786</td>\n",
              "      <td>6.958571</td>\n",
              "      <td>1.079179e+09</td>\n",
              "      <td>6.013175</td>\n",
              "    </tr>\n",
              "    <tr>\n",
              "      <th>2008-01-03</th>\n",
              "      <td>7.049643</td>\n",
              "      <td>6.881786</td>\n",
              "      <td>6.978929</td>\n",
              "      <td>6.961786</td>\n",
              "      <td>8.420664e+08</td>\n",
              "      <td>6.015953</td>\n",
              "    </tr>\n",
              "    <tr>\n",
              "      <th>2008-01-04</th>\n",
              "      <td>6.892857</td>\n",
              "      <td>6.388928</td>\n",
              "      <td>6.837500</td>\n",
              "      <td>6.430357</td>\n",
              "      <td>1.455832e+09</td>\n",
              "      <td>5.556723</td>\n",
              "    </tr>\n",
              "    <tr>\n",
              "      <th>2008-01-07</th>\n",
              "      <td>6.557143</td>\n",
              "      <td>6.079643</td>\n",
              "      <td>6.473214</td>\n",
              "      <td>6.344285</td>\n",
              "      <td>2.072193e+09</td>\n",
              "      <td>5.482346</td>\n",
              "    </tr>\n",
              "    <tr>\n",
              "      <th>2008-01-08</th>\n",
              "      <td>6.516428</td>\n",
              "      <td>6.100000</td>\n",
              "      <td>6.433571</td>\n",
              "      <td>6.116071</td>\n",
              "      <td>1.523816e+09</td>\n",
              "      <td>5.285137</td>\n",
              "    </tr>\n",
              "    <tr>\n",
              "      <th>...</th>\n",
              "      <td>...</td>\n",
              "      <td>...</td>\n",
              "      <td>...</td>\n",
              "      <td>...</td>\n",
              "      <td>...</td>\n",
              "      <td>...</td>\n",
              "    </tr>\n",
              "    <tr>\n",
              "      <th>2019-12-24</th>\n",
              "      <td>71.222504</td>\n",
              "      <td>70.730003</td>\n",
              "      <td>71.172501</td>\n",
              "      <td>71.067497</td>\n",
              "      <td>4.847880e+07</td>\n",
              "      <td>70.580566</td>\n",
              "    </tr>\n",
              "    <tr>\n",
              "      <th>2019-12-26</th>\n",
              "      <td>72.495003</td>\n",
              "      <td>71.175003</td>\n",
              "      <td>71.205002</td>\n",
              "      <td>72.477501</td>\n",
              "      <td>9.312120e+07</td>\n",
              "      <td>71.980911</td>\n",
              "    </tr>\n",
              "    <tr>\n",
              "      <th>2019-12-27</th>\n",
              "      <td>73.492500</td>\n",
              "      <td>72.029999</td>\n",
              "      <td>72.779999</td>\n",
              "      <td>72.449997</td>\n",
              "      <td>1.462660e+08</td>\n",
              "      <td>71.953598</td>\n",
              "    </tr>\n",
              "    <tr>\n",
              "      <th>2019-12-30</th>\n",
              "      <td>73.172501</td>\n",
              "      <td>71.305000</td>\n",
              "      <td>72.364998</td>\n",
              "      <td>72.879997</td>\n",
              "      <td>1.441144e+08</td>\n",
              "      <td>72.380653</td>\n",
              "    </tr>\n",
              "    <tr>\n",
              "      <th>2019-12-31</th>\n",
              "      <td>73.419998</td>\n",
              "      <td>72.379997</td>\n",
              "      <td>72.482498</td>\n",
              "      <td>73.412498</td>\n",
              "      <td>1.008056e+08</td>\n",
              "      <td>72.909500</td>\n",
              "    </tr>\n",
              "  </tbody>\n",
              "</table>\n",
              "<p>3021 rows × 6 columns</p>\n",
              "</div>"
            ],
            "text/plain": [
              "                 High        Low       Open      Close        Volume  Adj Close\n",
              "Date                                                                           \n",
              "2008-01-02   7.152143   6.876786   7.116786   6.958571  1.079179e+09   6.013175\n",
              "2008-01-03   7.049643   6.881786   6.978929   6.961786  8.420664e+08   6.015953\n",
              "2008-01-04   6.892857   6.388928   6.837500   6.430357  1.455832e+09   5.556723\n",
              "2008-01-07   6.557143   6.079643   6.473214   6.344285  2.072193e+09   5.482346\n",
              "2008-01-08   6.516428   6.100000   6.433571   6.116071  1.523816e+09   5.285137\n",
              "...               ...        ...        ...        ...           ...        ...\n",
              "2019-12-24  71.222504  70.730003  71.172501  71.067497  4.847880e+07  70.580566\n",
              "2019-12-26  72.495003  71.175003  71.205002  72.477501  9.312120e+07  71.980911\n",
              "2019-12-27  73.492500  72.029999  72.779999  72.449997  1.462660e+08  71.953598\n",
              "2019-12-30  73.172501  71.305000  72.364998  72.879997  1.441144e+08  72.380653\n",
              "2019-12-31  73.419998  72.379997  72.482498  73.412498  1.008056e+08  72.909500\n",
              "\n",
              "[3021 rows x 6 columns]"
            ]
          },
          "metadata": {
            "tags": []
          },
          "execution_count": 1
        }
      ]
    },
    {
      "cell_type": "code",
      "metadata": {
        "id": "2yZo889S72Xv",
        "colab_type": "code",
        "colab": {
          "base_uri": "https://localhost:8080/",
          "height": 34
        },
        "outputId": "d918bcf2-a760-4fa0-ec3f-44bf5a8119a1"
      },
      "source": [
        "df.shape"
      ],
      "execution_count": 2,
      "outputs": [
        {
          "output_type": "execute_result",
          "data": {
            "text/plain": [
              "(3021, 6)"
            ]
          },
          "metadata": {
            "tags": []
          },
          "execution_count": 2
        }
      ]
    },
    {
      "cell_type": "code",
      "metadata": {
        "id": "pOk9KkVv7-7W",
        "colab_type": "code",
        "colab": {
          "base_uri": "https://localhost:8080/",
          "height": 530
        },
        "outputId": "b33f0043-dbb1-4c9b-b860-c3a1e7da7bef"
      },
      "source": [
        "#Visualize the closing prince of the Apple stock.\n",
        "plt.figure(figsize=(16,8))\n",
        "plt.title('Close Price History')\n",
        "plt.plot(df['Close'])\n",
        "plt.xlabel('Date 2008-01-01:2019-12-31')\n",
        "plt.ylabel('Stock Close Price')"
      ],
      "execution_count": 3,
      "outputs": [
        {
          "output_type": "execute_result",
          "data": {
            "text/plain": [
              "Text(0, 0.5, 'Stock Close Price')"
            ]
          },
          "metadata": {
            "tags": []
          },
          "execution_count": 3
        },
        {
          "output_type": "display_data",
          "data": {
            "image/png": "[encoded data removed]",
            "text/plain": [
              "<Figure size 1152x576 with 1 Axes>"
            ]
          },
          "metadata": {
            "tags": [],
            "needs_background": "light"
          }
        }
      ]
    }
  ]
}