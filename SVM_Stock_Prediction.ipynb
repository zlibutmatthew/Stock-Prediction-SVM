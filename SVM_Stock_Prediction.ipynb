{
  "nbformat": 4,
  "nbformat_minor": 0,
  "metadata": {
    "colab": {
      "name": "SVM_Stock_Prediction.ipynb",
      "provenance": [],
      "collapsed_sections": [],
      "authorship_tag": "ABX9TyMMBD3N68LTl60zw5S0MF69",
      "include_colab_link": true
    },
    "kernelspec": {
      "name": "python3",
      "display_name": "Python 3"
    }
  },
  "cells": [
    {
      "cell_type": "markdown",
      "metadata": {
        "id": "view-in-github",
        "colab_type": "text"
      },
      "source": [
        "<a href=\"https://colab.research.google.com/github/zlibutmatthew/Stock-Prediction-SVM/blob/master/SVM_Stock_Prediction.ipynb\" target=\"_parent\"><img src=\"https://colab.research.google.com/assets/colab-badge.svg\" alt=\"Open In Colab\"/></a>"
      ]
    },
    {
      "cell_type": "markdown",
      "metadata": {
        "id": "KlPFYqAqDpKQ"
      },
      "source": [
        "# Stock Prediction \n",
        "### Matthew Zlibut"
      ]
    },
    {
      "cell_type": "code",
      "metadata": {
        "id": "PI3dDje16wV5"
      },
      "source": [
        "import numpy as np\n",
        "import pandas as pd\n",
        "import pandas_datareader as web\n",
        "import matplotlib.pyplot as plt\n",
        "from sklearn.svm import SVC\n",
        "from sklearn.svm import SVR\n",
        "from sklearn.preprocessing import MinMaxScaler"
      ],
      "execution_count": 1,
      "outputs": []
    },
    {
      "cell_type": "markdown",
      "metadata": {
        "id": "BpdbSCWLDsvi"
      },
      "source": [
        "## Importing Data from Yahoo\n",
        "\n",
        "### Data Attributes:\n",
        "High: The highest price of the day\n",
        "\n",
        "Low: The lowest price of the day\n",
        "\n",
        "Open: The opening price of the day\n",
        "\n",
        "Close: The Closing price of the day\n",
        "\n",
        "Volume: Amount of stocks traded in the day\n",
        "\n",
        "Adjusted Close: The adjusted closing price amends a stock's closing price to reflect that stock's value after accounting for any corporate actions."
      ]
    },
    {
      "cell_type": "code",
      "metadata": {
        "id": "XCAmAxEn40op",
        "outputId": "c5bef1c0-0c32-4ed6-81f9-1665cf2b31b5",
        "colab": {
          "base_uri": "https://localhost:8080/",
          "height": 235
        }
      },
      "source": [
        "#Get the stock info and store into a dataframe\n",
        "df = web.DataReader('AAPL', data_source='yahoo', start='2014-10-23', end='2019-12-31')\n",
        "df.head()"
      ],
      "execution_count": 2,
      "outputs": [
        {
          "output_type": "execute_result",
          "data": {
            "text/html": [
              "<div>\n",
              "<style scoped>\n",
              "    .dataframe tbody tr th:only-of-type {\n",
              "        vertical-align: middle;\n",
              "    }\n",
              "\n",
              "    .dataframe tbody tr th {\n",
              "        vertical-align: top;\n",
              "    }\n",
              "\n",
              "    .dataframe thead th {\n",
              "        text-align: right;\n",
              "    }\n",
              "</style>\n",
              "<table border=\"1\" class=\"dataframe\">\n",
              "  <thead>\n",
              "    <tr style=\"text-align: right;\">\n",
              "      <th></th>\n",
              "      <th>High</th>\n",
              "      <th>Low</th>\n",
              "      <th>Open</th>\n",
              "      <th>Close</th>\n",
              "      <th>Volume</th>\n",
              "      <th>Adj Close</th>\n",
              "    </tr>\n",
              "    <tr>\n",
              "      <th>Date</th>\n",
              "      <th></th>\n",
              "      <th></th>\n",
              "      <th></th>\n",
              "      <th></th>\n",
              "      <th></th>\n",
              "      <th></th>\n",
              "    </tr>\n",
              "  </thead>\n",
              "  <tbody>\n",
              "    <tr>\n",
              "      <th>2014-10-23</th>\n",
              "      <td>26.262501</td>\n",
              "      <td>25.907499</td>\n",
              "      <td>26.0200</td>\n",
              "      <td>26.207500</td>\n",
              "      <td>284298800.0</td>\n",
              "      <td>23.811670</td>\n",
              "    </tr>\n",
              "    <tr>\n",
              "      <th>2014-10-24</th>\n",
              "      <td>26.372499</td>\n",
              "      <td>26.132500</td>\n",
              "      <td>26.2950</td>\n",
              "      <td>26.305000</td>\n",
              "      <td>188215600.0</td>\n",
              "      <td>23.900255</td>\n",
              "    </tr>\n",
              "    <tr>\n",
              "      <th>2014-10-27</th>\n",
              "      <td>26.370001</td>\n",
              "      <td>26.174999</td>\n",
              "      <td>26.2125</td>\n",
              "      <td>26.277500</td>\n",
              "      <td>136750800.0</td>\n",
              "      <td>23.875267</td>\n",
              "    </tr>\n",
              "    <tr>\n",
              "      <th>2014-10-28</th>\n",
              "      <td>26.684999</td>\n",
              "      <td>26.337500</td>\n",
              "      <td>26.3500</td>\n",
              "      <td>26.684999</td>\n",
              "      <td>192243600.0</td>\n",
              "      <td>24.245510</td>\n",
              "    </tr>\n",
              "    <tr>\n",
              "      <th>2014-10-29</th>\n",
              "      <td>26.842501</td>\n",
              "      <td>26.590000</td>\n",
              "      <td>26.6625</td>\n",
              "      <td>26.834999</td>\n",
              "      <td>210751600.0</td>\n",
              "      <td>24.381798</td>\n",
              "    </tr>\n",
              "  </tbody>\n",
              "</table>\n",
              "</div>"
            ],
            "text/plain": [
              "                 High        Low     Open      Close       Volume  Adj Close\n",
              "Date                                                                        \n",
              "2014-10-23  26.262501  25.907499  26.0200  26.207500  284298800.0  23.811670\n",
              "2014-10-24  26.372499  26.132500  26.2950  26.305000  188215600.0  23.900255\n",
              "2014-10-27  26.370001  26.174999  26.2125  26.277500  136750800.0  23.875267\n",
              "2014-10-28  26.684999  26.337500  26.3500  26.684999  192243600.0  24.245510\n",
              "2014-10-29  26.842501  26.590000  26.6625  26.834999  210751600.0  24.381798"
            ]
          },
          "metadata": {
            "tags": []
          },
          "execution_count": 2
        }
      ]
    },
    {
      "cell_type": "code",
      "metadata": {
        "id": "d03UdOtK4BsO",
        "outputId": "f6e9d50f-94ca-4db2-b6c0-2e54b2bf237e",
        "colab": {
          "base_uri": "https://localhost:8080/",
          "height": 320
        }
      },
      "source": [
        "'''Nasdaq is a global electronic marketplace for buying and selling securities'''\n",
        "df_nas = web.DataReader('^IXIC', data_source='yahoo', start='2014-10-23', end='2019-12-31')\n",
        "df_nas.head()"
      ],
      "execution_count": 3,
      "outputs": [
        {
          "output_type": "execute_result",
          "data": {
            "text/html": [
              "<div>\n",
              "<style scoped>\n",
              "    .dataframe tbody tr th:only-of-type {\n",
              "        vertical-align: middle;\n",
              "    }\n",
              "\n",
              "    .dataframe tbody tr th {\n",
              "        vertical-align: top;\n",
              "    }\n",
              "\n",
              "    .dataframe thead th {\n",
              "        text-align: right;\n",
              "    }\n",
              "</style>\n",
              "<table border=\"1\" class=\"dataframe\">\n",
              "  <thead>\n",
              "    <tr style=\"text-align: right;\">\n",
              "      <th></th>\n",
              "      <th>High</th>\n",
              "      <th>Low</th>\n",
              "      <th>Open</th>\n",
              "      <th>Close</th>\n",
              "      <th>Volume</th>\n",
              "      <th>Adj Close</th>\n",
              "    </tr>\n",
              "    <tr>\n",
              "      <th>Date</th>\n",
              "      <th></th>\n",
              "      <th></th>\n",
              "      <th></th>\n",
              "      <th></th>\n",
              "      <th></th>\n",
              "      <th></th>\n",
              "    </tr>\n",
              "  </thead>\n",
              "  <tbody>\n",
              "    <tr>\n",
              "      <th>2014-10-23</th>\n",
              "      <td>4475.549805</td>\n",
              "      <td>4421.560059</td>\n",
              "      <td>4427.439941</td>\n",
              "      <td>4452.790039</td>\n",
              "      <td>1952380000</td>\n",
              "      <td>4452.790039</td>\n",
              "    </tr>\n",
              "    <tr>\n",
              "      <th>2014-10-24</th>\n",
              "      <td>4486.259766</td>\n",
              "      <td>4445.850098</td>\n",
              "      <td>4459.459961</td>\n",
              "      <td>4483.720215</td>\n",
              "      <td>1754300000</td>\n",
              "      <td>4483.720215</td>\n",
              "    </tr>\n",
              "    <tr>\n",
              "      <th>2014-10-27</th>\n",
              "      <td>4489.600098</td>\n",
              "      <td>4450.290039</td>\n",
              "      <td>4469.020020</td>\n",
              "      <td>4485.930176</td>\n",
              "      <td>1585580000</td>\n",
              "      <td>4485.930176</td>\n",
              "    </tr>\n",
              "    <tr>\n",
              "      <th>2014-10-28</th>\n",
              "      <td>4564.290039</td>\n",
              "      <td>4505.109863</td>\n",
              "      <td>4505.729980</td>\n",
              "      <td>4564.290039</td>\n",
              "      <td>1966920000</td>\n",
              "      <td>4564.290039</td>\n",
              "    </tr>\n",
              "    <tr>\n",
              "      <th>2014-10-29</th>\n",
              "      <td>4564.439941</td>\n",
              "      <td>4517.020020</td>\n",
              "      <td>4551.370117</td>\n",
              "      <td>4549.229980</td>\n",
              "      <td>2184050000</td>\n",
              "      <td>4549.229980</td>\n",
              "    </tr>\n",
              "  </tbody>\n",
              "</table>\n",
              "</div>"
            ],
            "text/plain": [
              "                   High          Low  ...      Volume    Adj Close\n",
              "Date                                  ...                         \n",
              "2014-10-23  4475.549805  4421.560059  ...  1952380000  4452.790039\n",
              "2014-10-24  4486.259766  4445.850098  ...  1754300000  4483.720215\n",
              "2014-10-27  4489.600098  4450.290039  ...  1585580000  4485.930176\n",
              "2014-10-28  4564.290039  4505.109863  ...  1966920000  4564.290039\n",
              "2014-10-29  4564.439941  4517.020020  ...  2184050000  4549.229980\n",
              "\n",
              "[5 rows x 6 columns]"
            ]
          },
          "metadata": {
            "tags": []
          },
          "execution_count": 3
        }
      ]
    },
    {
      "cell_type": "code",
      "metadata": {
        "id": "benMK3TMvXfA",
        "outputId": "d81b3a76-66f1-4a25-fc43-1d4ed235c884",
        "colab": {
          "base_uri": "https://localhost:8080/",
          "height": 340
        }
      },
      "source": [
        "'''The DJIA is a price-weighted index that tracks 30 large, publicly-owned companies trading \n",
        "on the New York Stock Exchange and the NASDAQ.'''\n",
        "df_dow = web.DataReader('^DJI', data_source='yahoo', start='2014-10-23', end='2019-12-31')\n",
        "df_dow.head()"
      ],
      "execution_count": 4,
      "outputs": [
        {
          "output_type": "execute_result",
          "data": {
            "text/html": [
              "<div>\n",
              "<style scoped>\n",
              "    .dataframe tbody tr th:only-of-type {\n",
              "        vertical-align: middle;\n",
              "    }\n",
              "\n",
              "    .dataframe tbody tr th {\n",
              "        vertical-align: top;\n",
              "    }\n",
              "\n",
              "    .dataframe thead th {\n",
              "        text-align: right;\n",
              "    }\n",
              "</style>\n",
              "<table border=\"1\" class=\"dataframe\">\n",
              "  <thead>\n",
              "    <tr style=\"text-align: right;\">\n",
              "      <th></th>\n",
              "      <th>High</th>\n",
              "      <th>Low</th>\n",
              "      <th>Open</th>\n",
              "      <th>Close</th>\n",
              "      <th>Volume</th>\n",
              "      <th>Adj Close</th>\n",
              "    </tr>\n",
              "    <tr>\n",
              "      <th>Date</th>\n",
              "      <th></th>\n",
              "      <th></th>\n",
              "      <th></th>\n",
              "      <th></th>\n",
              "      <th></th>\n",
              "      <th></th>\n",
              "    </tr>\n",
              "  </thead>\n",
              "  <tbody>\n",
              "    <tr>\n",
              "      <th>2014-10-23</th>\n",
              "      <td>16767.519531</td>\n",
              "      <td>16468.070312</td>\n",
              "      <td>16468.070312</td>\n",
              "      <td>16677.900391</td>\n",
              "      <td>99420000</td>\n",
              "      <td>16677.900391</td>\n",
              "    </tr>\n",
              "    <tr>\n",
              "      <th>2014-10-24</th>\n",
              "      <td>16811.710938</td>\n",
              "      <td>16649.720703</td>\n",
              "      <td>16677.039062</td>\n",
              "      <td>16805.410156</td>\n",
              "      <td>90400000</td>\n",
              "      <td>16805.410156</td>\n",
              "    </tr>\n",
              "    <tr>\n",
              "      <th>2014-10-27</th>\n",
              "      <td>16836.980469</td>\n",
              "      <td>16729.830078</td>\n",
              "      <td>16796.099609</td>\n",
              "      <td>16817.939453</td>\n",
              "      <td>72580000</td>\n",
              "      <td>16817.939453</td>\n",
              "    </tr>\n",
              "    <tr>\n",
              "      <th>2014-10-28</th>\n",
              "      <td>17006.449219</td>\n",
              "      <td>16825.189453</td>\n",
              "      <td>16825.189453</td>\n",
              "      <td>17005.750000</td>\n",
              "      <td>83870000</td>\n",
              "      <td>17005.750000</td>\n",
              "    </tr>\n",
              "    <tr>\n",
              "      <th>2014-10-29</th>\n",
              "      <td>17065.500000</td>\n",
              "      <td>16895.380859</td>\n",
              "      <td>17005.070312</td>\n",
              "      <td>16974.310547</td>\n",
              "      <td>76450000</td>\n",
              "      <td>16974.310547</td>\n",
              "    </tr>\n",
              "  </tbody>\n",
              "</table>\n",
              "</div>"
            ],
            "text/plain": [
              "                    High           Low  ...    Volume     Adj Close\n",
              "Date                                    ...                        \n",
              "2014-10-23  16767.519531  16468.070312  ...  99420000  16677.900391\n",
              "2014-10-24  16811.710938  16649.720703  ...  90400000  16805.410156\n",
              "2014-10-27  16836.980469  16729.830078  ...  72580000  16817.939453\n",
              "2014-10-28  17006.449219  16825.189453  ...  83870000  17005.750000\n",
              "2014-10-29  17065.500000  16895.380859  ...  76450000  16974.310547\n",
              "\n",
              "[5 rows x 6 columns]"
            ]
          },
          "metadata": {
            "tags": []
          },
          "execution_count": 4
        }
      ]
    },
    {
      "cell_type": "code",
      "metadata": {
        "id": "N8SCO4Kv3_ke",
        "outputId": "52e4eae7-06ed-4f24-caf0-470c00aaade3",
        "colab": {
          "base_uri": "https://localhost:8080/",
          "height": 320
        }
      },
      "source": [
        "'''S&P 500 tracks the top 500 traded stocks'''\n",
        "df_snp = web.DataReader('^GSPC', data_source='yahoo', start='2014-10-23', end='2019-12-31')\n",
        "df_snp.head()"
      ],
      "execution_count": 5,
      "outputs": [
        {
          "output_type": "execute_result",
          "data": {
            "text/html": [
              "<div>\n",
              "<style scoped>\n",
              "    .dataframe tbody tr th:only-of-type {\n",
              "        vertical-align: middle;\n",
              "    }\n",
              "\n",
              "    .dataframe tbody tr th {\n",
              "        vertical-align: top;\n",
              "    }\n",
              "\n",
              "    .dataframe thead th {\n",
              "        text-align: right;\n",
              "    }\n",
              "</style>\n",
              "<table border=\"1\" class=\"dataframe\">\n",
              "  <thead>\n",
              "    <tr style=\"text-align: right;\">\n",
              "      <th></th>\n",
              "      <th>High</th>\n",
              "      <th>Low</th>\n",
              "      <th>Open</th>\n",
              "      <th>Close</th>\n",
              "      <th>Volume</th>\n",
              "      <th>Adj Close</th>\n",
              "    </tr>\n",
              "    <tr>\n",
              "      <th>Date</th>\n",
              "      <th></th>\n",
              "      <th></th>\n",
              "      <th></th>\n",
              "      <th></th>\n",
              "      <th></th>\n",
              "      <th></th>\n",
              "    </tr>\n",
              "  </thead>\n",
              "  <tbody>\n",
              "    <tr>\n",
              "      <th>2014-10-23</th>\n",
              "      <td>1961.949951</td>\n",
              "      <td>1931.020020</td>\n",
              "      <td>1931.020020</td>\n",
              "      <td>1950.819946</td>\n",
              "      <td>3789250000</td>\n",
              "      <td>1950.819946</td>\n",
              "    </tr>\n",
              "    <tr>\n",
              "      <th>2014-10-24</th>\n",
              "      <td>1965.270020</td>\n",
              "      <td>1946.270020</td>\n",
              "      <td>1951.589966</td>\n",
              "      <td>1964.579956</td>\n",
              "      <td>3078380000</td>\n",
              "      <td>1964.579956</td>\n",
              "    </tr>\n",
              "    <tr>\n",
              "      <th>2014-10-27</th>\n",
              "      <td>1964.640015</td>\n",
              "      <td>1951.369995</td>\n",
              "      <td>1962.969971</td>\n",
              "      <td>1961.630005</td>\n",
              "      <td>3538860000</td>\n",
              "      <td>1961.630005</td>\n",
              "    </tr>\n",
              "    <tr>\n",
              "      <th>2014-10-28</th>\n",
              "      <td>1985.050049</td>\n",
              "      <td>1964.140015</td>\n",
              "      <td>1964.140015</td>\n",
              "      <td>1985.050049</td>\n",
              "      <td>3653260000</td>\n",
              "      <td>1985.050049</td>\n",
              "    </tr>\n",
              "    <tr>\n",
              "      <th>2014-10-29</th>\n",
              "      <td>1991.400024</td>\n",
              "      <td>1969.040039</td>\n",
              "      <td>1983.290039</td>\n",
              "      <td>1982.300049</td>\n",
              "      <td>3740350000</td>\n",
              "      <td>1982.300049</td>\n",
              "    </tr>\n",
              "  </tbody>\n",
              "</table>\n",
              "</div>"
            ],
            "text/plain": [
              "                   High          Low  ...      Volume    Adj Close\n",
              "Date                                  ...                         \n",
              "2014-10-23  1961.949951  1931.020020  ...  3789250000  1950.819946\n",
              "2014-10-24  1965.270020  1946.270020  ...  3078380000  1964.579956\n",
              "2014-10-27  1964.640015  1951.369995  ...  3538860000  1961.630005\n",
              "2014-10-28  1985.050049  1964.140015  ...  3653260000  1985.050049\n",
              "2014-10-29  1991.400024  1969.040039  ...  3740350000  1982.300049\n",
              "\n",
              "[5 rows x 6 columns]"
            ]
          },
          "metadata": {
            "tags": []
          },
          "execution_count": 5
        }
      ]
    },
    {
      "cell_type": "code",
      "metadata": {
        "id": "fcbhSFMEv4fH",
        "outputId": "52c23620-dbe8-44c0-a82e-5afeade2f86f",
        "colab": {
          "base_uri": "https://localhost:8080/",
          "height": 340
        }
      },
      "source": [
        "'''The Nikkei is short for Japan's Nikkei 225 Stock Average, the leading and most-respected index of Japanese stocks.'''\n",
        "df_nik = web.DataReader('^N225', data_source='yahoo', start='2014-10-23', end='2019-12-31')\n",
        "df_nik.head()"
      ],
      "execution_count": 6,
      "outputs": [
        {
          "output_type": "execute_result",
          "data": {
            "text/html": [
              "<div>\n",
              "<style scoped>\n",
              "    .dataframe tbody tr th:only-of-type {\n",
              "        vertical-align: middle;\n",
              "    }\n",
              "\n",
              "    .dataframe tbody tr th {\n",
              "        vertical-align: top;\n",
              "    }\n",
              "\n",
              "    .dataframe thead th {\n",
              "        text-align: right;\n",
              "    }\n",
              "</style>\n",
              "<table border=\"1\" class=\"dataframe\">\n",
              "  <thead>\n",
              "    <tr style=\"text-align: right;\">\n",
              "      <th></th>\n",
              "      <th>High</th>\n",
              "      <th>Low</th>\n",
              "      <th>Open</th>\n",
              "      <th>Close</th>\n",
              "      <th>Volume</th>\n",
              "      <th>Adj Close</th>\n",
              "    </tr>\n",
              "    <tr>\n",
              "      <th>Date</th>\n",
              "      <th></th>\n",
              "      <th></th>\n",
              "      <th></th>\n",
              "      <th></th>\n",
              "      <th></th>\n",
              "      <th></th>\n",
              "    </tr>\n",
              "  </thead>\n",
              "  <tbody>\n",
              "    <tr>\n",
              "      <th>2014-10-23</th>\n",
              "      <td>15232.509766</td>\n",
              "      <td>15059.639648</td>\n",
              "      <td>15093.780273</td>\n",
              "      <td>15138.959961</td>\n",
              "      <td>119600.0</td>\n",
              "      <td>15138.959961</td>\n",
              "    </tr>\n",
              "    <tr>\n",
              "      <th>2014-10-24</th>\n",
              "      <td>15377.049805</td>\n",
              "      <td>15232.000000</td>\n",
              "      <td>15354.349609</td>\n",
              "      <td>15291.639648</td>\n",
              "      <td>121800.0</td>\n",
              "      <td>15291.639648</td>\n",
              "    </tr>\n",
              "    <tr>\n",
              "      <th>2014-10-27</th>\n",
              "      <td>15424.049805</td>\n",
              "      <td>15333.709961</td>\n",
              "      <td>15404.280273</td>\n",
              "      <td>15388.719727</td>\n",
              "      <td>121000.0</td>\n",
              "      <td>15388.719727</td>\n",
              "    </tr>\n",
              "    <tr>\n",
              "      <th>2014-10-28</th>\n",
              "      <td>15374.459961</td>\n",
              "      <td>15263.360352</td>\n",
              "      <td>15363.280273</td>\n",
              "      <td>15329.910156</td>\n",
              "      <td>122300.0</td>\n",
              "      <td>15329.910156</td>\n",
              "    </tr>\n",
              "    <tr>\n",
              "      <th>2014-10-29</th>\n",
              "      <td>15595.290039</td>\n",
              "      <td>15394.790039</td>\n",
              "      <td>15442.389648</td>\n",
              "      <td>15553.910156</td>\n",
              "      <td>148800.0</td>\n",
              "      <td>15553.910156</td>\n",
              "    </tr>\n",
              "  </tbody>\n",
              "</table>\n",
              "</div>"
            ],
            "text/plain": [
              "                    High           Low  ...    Volume     Adj Close\n",
              "Date                                    ...                        \n",
              "2014-10-23  15232.509766  15059.639648  ...  119600.0  15138.959961\n",
              "2014-10-24  15377.049805  15232.000000  ...  121800.0  15291.639648\n",
              "2014-10-27  15424.049805  15333.709961  ...  121000.0  15388.719727\n",
              "2014-10-28  15374.459961  15263.360352  ...  122300.0  15329.910156\n",
              "2014-10-29  15595.290039  15394.790039  ...  148800.0  15553.910156\n",
              "\n",
              "[5 rows x 6 columns]"
            ]
          },
          "metadata": {
            "tags": []
          },
          "execution_count": 6
        }
      ]
    },
    {
      "cell_type": "code",
      "metadata": {
        "id": "2yZo889S72Xv",
        "outputId": "4be543fe-6b2c-4f7b-bf92-8c34e581345b",
        "colab": {
          "base_uri": "https://localhost:8080/",
          "height": 340
        }
      },
      "source": [
        "'''The Hang Seng Index (HSI) is a freefloat-adjusted market-capitalization-weighted stock-market index in Hong Kong.'''\n",
        "df_hsi = web.DataReader('^HSI', data_source='yahoo', start='2014-10-23', end='2019-12-31')\n",
        "df_hsi.head()"
      ],
      "execution_count": 7,
      "outputs": [
        {
          "output_type": "execute_result",
          "data": {
            "text/html": [
              "<div>\n",
              "<style scoped>\n",
              "    .dataframe tbody tr th:only-of-type {\n",
              "        vertical-align: middle;\n",
              "    }\n",
              "\n",
              "    .dataframe tbody tr th {\n",
              "        vertical-align: top;\n",
              "    }\n",
              "\n",
              "    .dataframe thead th {\n",
              "        text-align: right;\n",
              "    }\n",
              "</style>\n",
              "<table border=\"1\" class=\"dataframe\">\n",
              "  <thead>\n",
              "    <tr style=\"text-align: right;\">\n",
              "      <th></th>\n",
              "      <th>High</th>\n",
              "      <th>Low</th>\n",
              "      <th>Open</th>\n",
              "      <th>Close</th>\n",
              "      <th>Volume</th>\n",
              "      <th>Adj Close</th>\n",
              "    </tr>\n",
              "    <tr>\n",
              "      <th>Date</th>\n",
              "      <th></th>\n",
              "      <th></th>\n",
              "      <th></th>\n",
              "      <th></th>\n",
              "      <th></th>\n",
              "      <th></th>\n",
              "    </tr>\n",
              "  </thead>\n",
              "  <tbody>\n",
              "    <tr>\n",
              "      <th>2014-10-23</th>\n",
              "      <td>23397.169922</td>\n",
              "      <td>23221.689453</td>\n",
              "      <td>23296.000000</td>\n",
              "      <td>23333.179688</td>\n",
              "      <td>1.038978e+09</td>\n",
              "      <td>23333.179688</td>\n",
              "    </tr>\n",
              "    <tr>\n",
              "      <th>2014-10-24</th>\n",
              "      <td>23352.589844</td>\n",
              "      <td>23157.480469</td>\n",
              "      <td>23311.880859</td>\n",
              "      <td>23302.199219</td>\n",
              "      <td>1.201348e+09</td>\n",
              "      <td>23302.199219</td>\n",
              "    </tr>\n",
              "    <tr>\n",
              "      <th>2014-10-27</th>\n",
              "      <td>23275.400391</td>\n",
              "      <td>23012.800781</td>\n",
              "      <td>23275.400391</td>\n",
              "      <td>23143.230469</td>\n",
              "      <td>1.229645e+09</td>\n",
              "      <td>23143.230469</td>\n",
              "    </tr>\n",
              "    <tr>\n",
              "      <th>2014-10-28</th>\n",
              "      <td>23570.919922</td>\n",
              "      <td>23189.830078</td>\n",
              "      <td>23189.830078</td>\n",
              "      <td>23520.359375</td>\n",
              "      <td>1.889125e+09</td>\n",
              "      <td>23520.359375</td>\n",
              "    </tr>\n",
              "    <tr>\n",
              "      <th>2014-10-29</th>\n",
              "      <td>23855.669922</td>\n",
              "      <td>23699.560547</td>\n",
              "      <td>23703.949219</td>\n",
              "      <td>23819.869141</td>\n",
              "      <td>2.017536e+09</td>\n",
              "      <td>23819.869141</td>\n",
              "    </tr>\n",
              "  </tbody>\n",
              "</table>\n",
              "</div>"
            ],
            "text/plain": [
              "                    High           Low  ...        Volume     Adj Close\n",
              "Date                                    ...                            \n",
              "2014-10-23  23397.169922  23221.689453  ...  1.038978e+09  23333.179688\n",
              "2014-10-24  23352.589844  23157.480469  ...  1.201348e+09  23302.199219\n",
              "2014-10-27  23275.400391  23012.800781  ...  1.229645e+09  23143.230469\n",
              "2014-10-28  23570.919922  23189.830078  ...  1.889125e+09  23520.359375\n",
              "2014-10-29  23855.669922  23699.560547  ...  2.017536e+09  23819.869141\n",
              "\n",
              "[5 rows x 6 columns]"
            ]
          },
          "metadata": {
            "tags": []
          },
          "execution_count": 7
        }
      ]
    },
    {
      "cell_type": "code",
      "metadata": {
        "id": "pOk9KkVv7-7W",
        "outputId": "116a57c0-1ff3-4831-e318-f7fad32b5d04",
        "colab": {
          "base_uri": "https://localhost:8080/",
          "height": 235
        }
      },
      "source": [
        "'''The DAX—also known as the Deutscher Aktien Index—is a stock index that represents 30 of the largest and most \n",
        "liquid German companies that trade on the Frankfurt Exchange.'''\n",
        "df_dax = web.DataReader('DAX', data_source='yahoo', start='2014-10-23', end='2019-12-31')\n",
        "df_dax.head()"
      ],
      "execution_count": 8,
      "outputs": [
        {
          "output_type": "execute_result",
          "data": {
            "text/html": [
              "<div>\n",
              "<style scoped>\n",
              "    .dataframe tbody tr th:only-of-type {\n",
              "        vertical-align: middle;\n",
              "    }\n",
              "\n",
              "    .dataframe tbody tr th {\n",
              "        vertical-align: top;\n",
              "    }\n",
              "\n",
              "    .dataframe thead th {\n",
              "        text-align: right;\n",
              "    }\n",
              "</style>\n",
              "<table border=\"1\" class=\"dataframe\">\n",
              "  <thead>\n",
              "    <tr style=\"text-align: right;\">\n",
              "      <th></th>\n",
              "      <th>High</th>\n",
              "      <th>Low</th>\n",
              "      <th>Open</th>\n",
              "      <th>Close</th>\n",
              "      <th>Volume</th>\n",
              "      <th>Adj Close</th>\n",
              "    </tr>\n",
              "    <tr>\n",
              "      <th>Date</th>\n",
              "      <th></th>\n",
              "      <th></th>\n",
              "      <th></th>\n",
              "      <th></th>\n",
              "      <th></th>\n",
              "      <th></th>\n",
              "    </tr>\n",
              "  </thead>\n",
              "  <tbody>\n",
              "    <tr>\n",
              "      <th>2014-10-23</th>\n",
              "      <td>25.270000</td>\n",
              "      <td>25.090000</td>\n",
              "      <td>25.090000</td>\n",
              "      <td>25.250000</td>\n",
              "      <td>7400.0</td>\n",
              "      <td>22.448982</td>\n",
              "    </tr>\n",
              "    <tr>\n",
              "      <th>2014-10-24</th>\n",
              "      <td>25.190001</td>\n",
              "      <td>25.139999</td>\n",
              "      <td>25.139999</td>\n",
              "      <td>25.190001</td>\n",
              "      <td>15200.0</td>\n",
              "      <td>22.395638</td>\n",
              "    </tr>\n",
              "    <tr>\n",
              "      <th>2014-10-27</th>\n",
              "      <td>25.028000</td>\n",
              "      <td>25.028000</td>\n",
              "      <td>25.028000</td>\n",
              "      <td>25.028000</td>\n",
              "      <td>300.0</td>\n",
              "      <td>22.251610</td>\n",
              "    </tr>\n",
              "    <tr>\n",
              "      <th>2014-10-28</th>\n",
              "      <td>25.510000</td>\n",
              "      <td>25.440001</td>\n",
              "      <td>25.440001</td>\n",
              "      <td>25.510000</td>\n",
              "      <td>3800.0</td>\n",
              "      <td>22.680141</td>\n",
              "    </tr>\n",
              "    <tr>\n",
              "      <th>2014-10-29</th>\n",
              "      <td>25.670000</td>\n",
              "      <td>25.660000</td>\n",
              "      <td>25.660000</td>\n",
              "      <td>25.670000</td>\n",
              "      <td>13600.0</td>\n",
              "      <td>22.822393</td>\n",
              "    </tr>\n",
              "  </tbody>\n",
              "</table>\n",
              "</div>"
            ],
            "text/plain": [
              "                 High        Low       Open      Close   Volume  Adj Close\n",
              "Date                                                                      \n",
              "2014-10-23  25.270000  25.090000  25.090000  25.250000   7400.0  22.448982\n",
              "2014-10-24  25.190001  25.139999  25.139999  25.190001  15200.0  22.395638\n",
              "2014-10-27  25.028000  25.028000  25.028000  25.028000    300.0  22.251610\n",
              "2014-10-28  25.510000  25.440001  25.440001  25.510000   3800.0  22.680141\n",
              "2014-10-29  25.670000  25.660000  25.660000  25.670000  13600.0  22.822393"
            ]
          },
          "metadata": {
            "tags": []
          },
          "execution_count": 8
        }
      ]
    },
    {
      "cell_type": "code",
      "metadata": {
        "id": "w7OLfZRe5E3w",
        "outputId": "e0836b1e-1e36-4d1f-d828-937eba1aaa33",
        "colab": {
          "base_uri": "https://localhost:8080/",
          "height": 235
        }
      },
      "source": [
        "'''Crude Oil'''\n",
        "df_oil = web.DataReader('CL=F', data_source='yahoo', start='2014-10-23', end='2019-12-31')\n",
        "df_oil.head()"
      ],
      "execution_count": 9,
      "outputs": [
        {
          "output_type": "execute_result",
          "data": {
            "text/html": [
              "<div>\n",
              "<style scoped>\n",
              "    .dataframe tbody tr th:only-of-type {\n",
              "        vertical-align: middle;\n",
              "    }\n",
              "\n",
              "    .dataframe tbody tr th {\n",
              "        vertical-align: top;\n",
              "    }\n",
              "\n",
              "    .dataframe thead th {\n",
              "        text-align: right;\n",
              "    }\n",
              "</style>\n",
              "<table border=\"1\" class=\"dataframe\">\n",
              "  <thead>\n",
              "    <tr style=\"text-align: right;\">\n",
              "      <th></th>\n",
              "      <th>High</th>\n",
              "      <th>Low</th>\n",
              "      <th>Open</th>\n",
              "      <th>Close</th>\n",
              "      <th>Volume</th>\n",
              "      <th>Adj Close</th>\n",
              "    </tr>\n",
              "    <tr>\n",
              "      <th>Date</th>\n",
              "      <th></th>\n",
              "      <th></th>\n",
              "      <th></th>\n",
              "      <th></th>\n",
              "      <th></th>\n",
              "      <th></th>\n",
              "    </tr>\n",
              "  </thead>\n",
              "  <tbody>\n",
              "    <tr>\n",
              "      <th>2014-10-23</th>\n",
              "      <td>82.370003</td>\n",
              "      <td>80.050003</td>\n",
              "      <td>80.419998</td>\n",
              "      <td>82.089996</td>\n",
              "      <td>354839.0</td>\n",
              "      <td>82.089996</td>\n",
              "    </tr>\n",
              "    <tr>\n",
              "      <th>2014-10-24</th>\n",
              "      <td>81.949997</td>\n",
              "      <td>80.360001</td>\n",
              "      <td>81.949997</td>\n",
              "      <td>81.010002</td>\n",
              "      <td>272509.0</td>\n",
              "      <td>81.010002</td>\n",
              "    </tr>\n",
              "    <tr>\n",
              "      <th>2014-10-27</th>\n",
              "      <td>81.290001</td>\n",
              "      <td>79.440002</td>\n",
              "      <td>81.269997</td>\n",
              "      <td>81.000000</td>\n",
              "      <td>285327.0</td>\n",
              "      <td>81.000000</td>\n",
              "    </tr>\n",
              "    <tr>\n",
              "      <th>2014-10-28</th>\n",
              "      <td>81.660004</td>\n",
              "      <td>80.360001</td>\n",
              "      <td>80.639999</td>\n",
              "      <td>81.419998</td>\n",
              "      <td>226066.0</td>\n",
              "      <td>81.419998</td>\n",
              "    </tr>\n",
              "    <tr>\n",
              "      <th>2014-10-29</th>\n",
              "      <td>82.879997</td>\n",
              "      <td>81.440002</td>\n",
              "      <td>81.550003</td>\n",
              "      <td>82.199997</td>\n",
              "      <td>283762.0</td>\n",
              "      <td>82.199997</td>\n",
              "    </tr>\n",
              "  </tbody>\n",
              "</table>\n",
              "</div>"
            ],
            "text/plain": [
              "                 High        Low       Open      Close    Volume  Adj Close\n",
              "Date                                                                       \n",
              "2014-10-23  82.370003  80.050003  80.419998  82.089996  354839.0  82.089996\n",
              "2014-10-24  81.949997  80.360001  81.949997  81.010002  272509.0  81.010002\n",
              "2014-10-27  81.290001  79.440002  81.269997  81.000000  285327.0  81.000000\n",
              "2014-10-28  81.660004  80.360001  80.639999  81.419998  226066.0  81.419998\n",
              "2014-10-29  82.879997  81.440002  81.550003  82.199997  283762.0  82.199997"
            ]
          },
          "metadata": {
            "tags": []
          },
          "execution_count": 9
        }
      ]
    },
    {
      "cell_type": "code",
      "metadata": {
        "id": "I-p6pjSa5Rim",
        "outputId": "9df76520-5190-4019-d818-81c09c22add8",
        "colab": {
          "base_uri": "https://localhost:8080/",
          "height": 235
        }
      },
      "source": [
        "'''Gold Index'''\n",
        "df_gold = web.DataReader('XAU=F', data_source='yahoo', start='2014-10-23', end='2019-12-31')\n",
        "df_gold.head()"
      ],
      "execution_count": 10,
      "outputs": [
        {
          "output_type": "execute_result",
          "data": {
            "text/html": [
              "<div>\n",
              "<style scoped>\n",
              "    .dataframe tbody tr th:only-of-type {\n",
              "        vertical-align: middle;\n",
              "    }\n",
              "\n",
              "    .dataframe tbody tr th {\n",
              "        vertical-align: top;\n",
              "    }\n",
              "\n",
              "    .dataframe thead th {\n",
              "        text-align: right;\n",
              "    }\n",
              "</style>\n",
              "<table border=\"1\" class=\"dataframe\">\n",
              "  <thead>\n",
              "    <tr style=\"text-align: right;\">\n",
              "      <th></th>\n",
              "      <th>High</th>\n",
              "      <th>Low</th>\n",
              "      <th>Open</th>\n",
              "      <th>Close</th>\n",
              "      <th>Volume</th>\n",
              "      <th>Adj Close</th>\n",
              "    </tr>\n",
              "    <tr>\n",
              "      <th>Date</th>\n",
              "      <th></th>\n",
              "      <th></th>\n",
              "      <th></th>\n",
              "      <th></th>\n",
              "      <th></th>\n",
              "      <th></th>\n",
              "    </tr>\n",
              "  </thead>\n",
              "  <tbody>\n",
              "    <tr>\n",
              "      <th>2014-10-23</th>\n",
              "      <td>445.500000</td>\n",
              "      <td>441.299988</td>\n",
              "      <td>444.100006</td>\n",
              "      <td>442.700012</td>\n",
              "      <td>321.0</td>\n",
              "      <td>442.700012</td>\n",
              "    </tr>\n",
              "    <tr>\n",
              "      <th>2014-10-24</th>\n",
              "      <td>448.200012</td>\n",
              "      <td>443.799988</td>\n",
              "      <td>444.399994</td>\n",
              "      <td>447.200012</td>\n",
              "      <td>34.0</td>\n",
              "      <td>447.200012</td>\n",
              "    </tr>\n",
              "    <tr>\n",
              "      <th>2014-10-27</th>\n",
              "      <td>448.600006</td>\n",
              "      <td>445.299988</td>\n",
              "      <td>447.100006</td>\n",
              "      <td>446.299988</td>\n",
              "      <td>80.0</td>\n",
              "      <td>446.299988</td>\n",
              "    </tr>\n",
              "    <tr>\n",
              "      <th>2014-10-28</th>\n",
              "      <td>449.100006</td>\n",
              "      <td>444.100006</td>\n",
              "      <td>447.399994</td>\n",
              "      <td>449.100006</td>\n",
              "      <td>353.0</td>\n",
              "      <td>449.100006</td>\n",
              "    </tr>\n",
              "    <tr>\n",
              "      <th>2014-10-29</th>\n",
              "      <td>450.799988</td>\n",
              "      <td>442.299988</td>\n",
              "      <td>449.500000</td>\n",
              "      <td>446.500000</td>\n",
              "      <td>213.0</td>\n",
              "      <td>446.500000</td>\n",
              "    </tr>\n",
              "  </tbody>\n",
              "</table>\n",
              "</div>"
            ],
            "text/plain": [
              "                  High         Low        Open       Close  Volume   Adj Close\n",
              "Date                                                                          \n",
              "2014-10-23  445.500000  441.299988  444.100006  442.700012   321.0  442.700012\n",
              "2014-10-24  448.200012  443.799988  444.399994  447.200012    34.0  447.200012\n",
              "2014-10-27  448.600006  445.299988  447.100006  446.299988    80.0  446.299988\n",
              "2014-10-28  449.100006  444.100006  447.399994  449.100006   353.0  449.100006\n",
              "2014-10-29  450.799988  442.299988  449.500000  446.500000   213.0  446.500000"
            ]
          },
          "metadata": {
            "tags": []
          },
          "execution_count": 10
        }
      ]
    },
    {
      "cell_type": "markdown",
      "metadata": {
        "id": "yVqCSAIvEN3b"
      },
      "source": [
        "## Preprocessing"
      ]
    },
    {
      "cell_type": "code",
      "metadata": {
        "id": "DfSvfjfj5ak2"
      },
      "source": [
        "df = df.reset_index() \n",
        "df_nas = df_nas.reset_index() \n",
        "df_dow=df_dow.reset_index()\n",
        "df_snp=df_snp.reset_index() \n",
        "df_dax=df_dax.reset_index() \n",
        "df_hsi=df_hsi.reset_index()\n",
        "df_nik=df_nik.reset_index()\n",
        "df_oil=df_oil.reset_index()\n",
        "df_gold=df_gold.reset_index()"
      ],
      "execution_count": 11,
      "outputs": []
    },
    {
      "cell_type": "code",
      "metadata": {
        "id": "F1G_RJOhzx2o",
        "outputId": "4380d034-9341-4173-93e0-ad2cb26efcd7",
        "colab": {
          "base_uri": "https://localhost:8080/",
          "height": 34
        }
      },
      "source": [
        "print(len(df), len(df_nas), len(df_dow), len(df_snp), len(df_dax), len(df_hsi), len(df_nik), len(df_oil), len(df_gold))"
      ],
      "execution_count": 12,
      "outputs": [
        {
          "output_type": "stream",
          "text": [
            "1306 1306 1306 1306 1306 1278 1270 1294 1294\n"
          ],
          "name": "stdout"
        }
      ]
    },
    {
      "cell_type": "code",
      "metadata": {
        "id": "nOdcTbGMEYgK"
      },
      "source": [
        "df = df[:1270] \n",
        "df_nas = df_nas[:1270]\n",
        "df_dow=df_dow[:1270]\n",
        "df_snp=df_snp[:1270] \n",
        "df_dax=df_dax[:1270]\n",
        "df_hsi=df_hsi[:1270]\n",
        "df_nik=df_nik[:1270]\n",
        "df_oil=df_oil[:1270]\n",
        "df_gold=df_gold[:1270]"
      ],
      "execution_count": 13,
      "outputs": []
    },
    {
      "cell_type": "code",
      "metadata": {
        "id": "KPlQZJCGEY8s",
        "outputId": "29902896-698e-408d-fed6-d85e31e02deb",
        "colab": {
          "base_uri": "https://localhost:8080/",
          "height": 170
        }
      },
      "source": [
        "df.shape, df_nas.shape, df_dow.shape, df_snp.shape, df_dax.shape, df_hsi.shape, df_nik.shape, df_oil.shape, df_gold.shape"
      ],
      "execution_count": 14,
      "outputs": [
        {
          "output_type": "execute_result",
          "data": {
            "text/plain": [
              "((1270, 7),\n",
              " (1270, 7),\n",
              " (1270, 7),\n",
              " (1270, 7),\n",
              " (1270, 7),\n",
              " (1270, 7),\n",
              " (1270, 7),\n",
              " (1270, 7),\n",
              " (1270, 7))"
            ]
          },
          "metadata": {
            "tags": []
          },
          "execution_count": 14
        }
      ]
    },
    {
      "cell_type": "code",
      "metadata": {
        "id": "dBCzdvw9EZL8"
      },
      "source": [
        "adj_close = pd.concat([df_nas['Adj Close'], df_dow['Adj Close'], df_snp['Adj Close'], df_dax['Adj Close'], df_hsi['Adj Close'], df_nik['Adj Close'], df_oil['Adj Close'], df_gold['Adj Close']], axis=1)"
      ],
      "execution_count": 15,
      "outputs": []
    },
    {
      "cell_type": "code",
      "metadata": {
        "id": "jlYuOjmEEZdb",
        "outputId": "9c52b7dd-4315-40d9-94e0-6203674d888a",
        "colab": {
          "base_uri": "https://localhost:8080/",
          "height": 170
        }
      },
      "source": [
        "adj_close.isna().sum()"
      ],
      "execution_count": 16,
      "outputs": [
        {
          "output_type": "execute_result",
          "data": {
            "text/plain": [
              "Adj Close    0\n",
              "Adj Close    0\n",
              "Adj Close    0\n",
              "Adj Close    0\n",
              "Adj Close    0\n",
              "Adj Close    0\n",
              "Adj Close    0\n",
              "Adj Close    0\n",
              "dtype: int64"
            ]
          },
          "metadata": {
            "tags": []
          },
          "execution_count": 16
        }
      ]
    },
    {
      "cell_type": "code",
      "metadata": {
        "id": "tcmtvZ63EZhQ",
        "outputId": "fdb1da20-7262-47da-a875-c709d78fe47b",
        "colab": {
          "base_uri": "https://localhost:8080/",
          "height": 238
        }
      },
      "source": [
        "adj_close = adj_close.values\n",
        "adj_close"
      ],
      "execution_count": 17,
      "outputs": [
        {
          "output_type": "execute_result",
          "data": {
            "text/plain": [
              "array([[ 4452.79003906, 16677.90039062,  1950.81994629, ...,\n",
              "        15138.95996094,    82.08999634,   442.70001221],\n",
              "       [ 4483.72021484, 16805.41015625,  1964.57995605, ...,\n",
              "        15291.63964844,    81.01000214,   447.20001221],\n",
              "       [ 4485.93017578, 16817.93945312,  1961.63000488, ...,\n",
              "        15388.71972656,    81.        ,   446.29998779],\n",
              "       ...,\n",
              "       [ 8434.6796875 , 27492.63085938,  3074.62011719, ...,\n",
              "        23924.91992188,    55.20999908,   632.09997559],\n",
              "       [ 8410.62988281, 27492.56054688,  3076.7800293 , ...,\n",
              "        23837.72070312,    57.11000061,   636.09997559],\n",
              "       [ 8434.51953125, 27674.80078125,  3085.17993164, ...,\n",
              "        23656.61914062,    58.58000183,   633.70001221]])"
            ]
          },
          "metadata": {
            "tags": []
          },
          "execution_count": 17
        }
      ]
    },
    {
      "cell_type": "code",
      "metadata": {
        "id": "sVEiEc0wEZQC",
        "outputId": "c88d2055-a8c0-475a-b3ec-34eb80d933f9",
        "colab": {
          "base_uri": "https://localhost:8080/",
          "height": 34
        }
      },
      "source": [
        "adj_close.shape"
      ],
      "execution_count": 18,
      "outputs": [
        {
          "output_type": "execute_result",
          "data": {
            "text/plain": [
              "(1270, 8)"
            ]
          },
          "metadata": {
            "tags": []
          },
          "execution_count": 18
        }
      ]
    },
    {
      "cell_type": "code",
      "metadata": {
        "id": "UZUHqFSGEZDB",
        "outputId": "de3881e4-7c34-4b9a-92f8-e76c2c2041fe",
        "colab": {
          "base_uri": "https://localhost:8080/",
          "height": 68
        }
      },
      "source": [
        "appl = df['Adj Close']\n",
        "appl = appl.values\n",
        "print(len(appl))\n",
        "appl"
      ],
      "execution_count": 19,
      "outputs": [
        {
          "output_type": "stream",
          "text": [
            "1270\n"
          ],
          "name": "stdout"
        },
        {
          "output_type": "execute_result",
          "data": {
            "text/plain": [
              "array([23.8116703 , 23.9002552 , 23.87526703, ..., 63.65097046,\n",
              "       63.67819214, 64.41311646])"
            ]
          },
          "metadata": {
            "tags": []
          },
          "execution_count": 19
        }
      ]
    },
    {
      "cell_type": "code",
      "metadata": {
        "id": "hkQ-5ymIEY1V",
        "outputId": "1fc1fb68-0ea8-43c2-b280-8a28a83e55a9",
        "colab": {
          "base_uri": "https://localhost:8080/",
          "height": 238
        }
      },
      "source": [
        "scaler = MinMaxScaler(feature_range=(0,1))\n",
        "scaled_data = scaler.fit_transform(adj_close)\n",
        "scaled_data"
      ],
      "execution_count": 20,
      "outputs": [
        {
          "output_type": "execute_result",
          "data": {
            "text/plain": [
              "array([[0.04461548, 0.08470685, 0.09691903, ..., 0.020061  , 0.99803535,\n",
              "        0.13006141],\n",
              "       [0.05203664, 0.09531973, 0.10787358, ..., 0.0364454 , 0.9787463 ,\n",
              "        0.14846631],\n",
              "       [0.05256688, 0.09636257, 0.10552508, ..., 0.04686329, 0.97856766,\n",
              "        0.14478523],\n",
              "       ...,\n",
              "       [1.        , 0.98483765, 0.99159317, ..., 0.96290223, 0.51794965,\n",
              "        0.90470329],\n",
              "       [0.99422967, 0.9848318 , 0.99331271, ..., 0.95354469, 0.55188431,\n",
              "        0.9210632 ],\n",
              "       [0.99996157, 1.        , 1.        , ..., 0.93411027, 0.57813902,\n",
              "        0.9112474 ]])"
            ]
          },
          "metadata": {
            "tags": []
          },
          "execution_count": 20
        }
      ]
    },
    {
      "cell_type": "code",
      "metadata": {
        "id": "XuAs-La9EYNd"
      },
      "source": [
        "#create training dataset\n",
        "X = scaled_data\n",
        "y = appl\n",
        "from sklearn.model_selection import train_test_split\n",
        "\n",
        "X_train, X_test, y_train, y_test = \\\n",
        "    train_test_split(X, y, \n",
        "                     test_size=0.25,\n",
        "                     random_state=1)"
      ],
      "execution_count": 21,
      "outputs": []
    },
    {
      "cell_type": "code",
      "metadata": {
        "id": "UmtmO3wLEq4i",
        "outputId": "53790366-bf69-47d3-8a96-84fba888efc6",
        "colab": {
          "base_uri": "https://localhost:8080/",
          "height": 51
        }
      },
      "source": [
        "print(X_train.shape)\n",
        "print(len(y_train))"
      ],
      "execution_count": 22,
      "outputs": [
        {
          "output_type": "stream",
          "text": [
            "(952, 8)\n",
            "952\n"
          ],
          "name": "stdout"
        }
      ]
    },
    {
      "cell_type": "code",
      "metadata": {
        "id": "VX-J0_qxEqZO",
        "outputId": "a1df2096-b4d5-4b22-e52c-6f47c0e89b3b",
        "colab": {
          "base_uri": "https://localhost:8080/",
          "height": 51
        }
      },
      "source": [
        "print(X_test.shape)\n",
        "print(len(y_test))"
      ],
      "execution_count": 23,
      "outputs": [
        {
          "output_type": "stream",
          "text": [
            "(318, 8)\n",
            "318\n"
          ],
          "name": "stdout"
        }
      ]
    },
    {
      "cell_type": "markdown",
      "metadata": {
        "id": "Pa241_-wSeS8"
      },
      "source": [
        "### Support Vector Regression"
      ]
    },
    {
      "cell_type": "code",
      "metadata": {
        "id": "ih08jOGp0G_e",
        "outputId": "1bd74ba9-559b-47eb-8033-4de3dd31f575",
        "colab": {
          "base_uri": "https://localhost:8080/",
          "height": 51
        }
      },
      "source": [
        "#linear kernel\n",
        "lin_svr = SVR(kernel='linear', C=0.1)\n",
        "lin_svr.fit(X_train, y_train)\n",
        "\n",
        "# polynomial kernel\n",
        "poly_svr = SVR(kernel='poly', degree = 1)\n",
        "poly_svr.fit(X_train, y_train)\n",
        "\n",
        "# #rbf kernel\n",
        "rbf_svr = SVR(kernel='rbf', gamma=0.15)\n",
        "rbf_svr.fit(X_train, y_train)"
      ],
      "execution_count": 24,
      "outputs": [
        {
          "output_type": "execute_result",
          "data": {
            "text/plain": [
              "SVR(C=1.0, cache_size=200, coef0=0.0, degree=3, epsilon=0.1, gamma=0.15,\n",
              "    kernel='rbf', max_iter=-1, shrinking=True, tol=0.001, verbose=False)"
            ]
          },
          "metadata": {
            "tags": []
          },
          "execution_count": 24
        }
      ]
    },
    {
      "cell_type": "code",
      "metadata": {
        "id": "igNWG2sR6mgC",
        "outputId": "958928e6-8a1a-4a77-ef2b-219929993de2",
        "colab": {
          "base_uri": "https://localhost:8080/",
          "height": 119
        }
      },
      "source": [
        "print('linear train',lin_svr.score(X_train, y_train))\n",
        "print('linear test',lin_svr.score(X_test, y_test))\n",
        "\n",
        "print('poly train', poly_svr.score(X_train, y_train))\n",
        "print('poly test', poly_svr.score(X_test, y_test))\n",
        "\n",
        "print('rbf train', rbf_svr.score(X_train, y_train))\n",
        "print('rbf test',rbf_svr.score(X_test, y_test))"
      ],
      "execution_count": 25,
      "outputs": [
        {
          "output_type": "stream",
          "text": [
            "linear train 0.9093552050999227\n",
            "linear test 0.910450269360464\n",
            "poly train 0.9511913094395184\n",
            "poly test 0.9494936583748315\n",
            "rbf train 0.9454464222165856\n",
            "rbf test 0.945064068015088\n"
          ],
          "name": "stdout"
        }
      ]
    },
    {
      "cell_type": "code",
      "metadata": {
        "id": "-dcIni3ME3w6",
        "outputId": "38cdb6b2-e36f-4b1e-832e-c4d1b766a699",
        "colab": {
          "base_uri": "https://localhost:8080/",
          "height": 34
        }
      },
      "source": [
        "day_count=[]\n",
        "for i in range(1, 1271):\n",
        "    day_count.append(i)\n",
        "day_count[:10]"
      ],
      "execution_count": 26,
      "outputs": [
        {
          "output_type": "execute_result",
          "data": {
            "text/plain": [
              "[1, 2, 3, 4, 5, 6, 7, 8, 9, 10]"
            ]
          },
          "metadata": {
            "tags": []
          },
          "execution_count": 26
        }
      ]
    },
    {
      "cell_type": "markdown",
      "metadata": {
        "id": "-N60ELpUS40p"
      },
      "source": [
        "## Plotting the Model"
      ]
    },
    {
      "cell_type": "code",
      "metadata": {
        "id": "lqvy7s-U1CfG",
        "outputId": "9632717d-1277-4c2c-b9a8-35f772635396",
        "colab": {
          "base_uri": "https://localhost:8080/",
          "height": 349
        }
      },
      "source": [
        "plt.figure(figsize=(16,8))\n",
        "plt.title('SVR')\n",
        "plt.plot(day_count, y, color='red',label='Apple Close')\n",
        "plt.plot(day_count, lin_svr.predict(X), color='green', label='Linear Model')\n",
        "plt.plot(day_count, rbf_svr.predict(X), color='blue', label='RBF Model')\n",
        "plt.plot(day_count, poly_svr.predict(X), color='orange', label='Poly Model')\n",
        "plt.xlabel('Date 2008-01-01:2019-12-31')\n",
        "plt.ylabel('Stock Close Price')\n",
        "plt.legend()\n",
        "plt.show()"
      ],
      "execution_count": 27,
      "outputs": [
        {
          "output_type": "display_data",
          "data": {
            "image/png": "[encoded data removed]",
            "text/plain": [
              "<Figure size 1152x576 with 1 Axes>"
            ]
          },
          "metadata": {
            "tags": [],
            "needs_background": "light"
          }
        }
      ]
    },
    {
      "cell_type": "markdown",
      "metadata": {
        "id": "CFUfetcxE_yR"
      },
      "source": [
        "## Predicting Stocks Post-2020"
      ]
    },
    {
      "cell_type": "code",
      "metadata": {
        "id": "D6KfmAyV_eHI",
        "outputId": "1394f1bd-3ed4-45a1-b253-d9f4399c10c3",
        "colab": {
          "base_uri": "https://localhost:8080/",
          "height": 51
        }
      },
      "source": [
        "future_days=[]\n",
        "for i in range(1271, 1414):\n",
        "    future_days.append(i)\n",
        "print(len(future_days))\n",
        "future_days[:10]"
      ],
      "execution_count": 28,
      "outputs": [
        {
          "output_type": "stream",
          "text": [
            "143\n"
          ],
          "name": "stdout"
        },
        {
          "output_type": "execute_result",
          "data": {
            "text/plain": [
              "[1271, 1272, 1273, 1274, 1275, 1276, 1277, 1278, 1279, 1280]"
            ]
          },
          "metadata": {
            "tags": []
          },
          "execution_count": 28
        }
      ]
    },
    {
      "cell_type": "code",
      "metadata": {
        "id": "o0qLaUfz3y8h"
      },
      "source": [
        "df_appl_f = web.DataReader('AAPL', data_source='yahoo', start='2020-01-01', end='2020-12-31')\n",
        "# df_appl_f.head()\n",
        "df_nas_f = web.DataReader('^IXIC', data_source='yahoo', start='2020-01-01', end='2020-12-31')\n",
        "# df_nas_f.head()\n",
        "df_dow_f = web.DataReader('^DJI', data_source='yahoo', start='2020-01-01', end='2020-12-31')\n",
        "# df_dow_f.head()\n",
        "df_snp_f = web.DataReader('^GSPC', data_source='yahoo', start='2020-01-01', end='2020-12-31')\n",
        "# df_snp_f.head()\n",
        "df_nik_f = web.DataReader('^N225', data_source='yahoo', start='2020-01-01', end='2020-12-31')\n",
        "# df_nik.head()\n",
        "df_hsi_f = web.DataReader('^HSI', data_source='yahoo', start='2020-01-01', end='2020-12-31')\n",
        "# df_hsi.head()\n",
        "df_dax_f = web.DataReader('DAX', data_source='yahoo', start='2020-01-01', end='2020-12-31')\n",
        "# df_dax_f.head()\n",
        "df_oil_f = web.DataReader('CL=F', data_source='yahoo', start='2020-01-01', end='2020-12-31')\n",
        "# df_oil.head()\n",
        "df_gold_f = web.DataReader('XAU=F', data_source='yahoo', start='2020-01-01', end='2020-12-31')\n",
        "# df_gold.head()"
      ],
      "execution_count": 29,
      "outputs": []
    },
    {
      "cell_type": "code",
      "metadata": {
        "id": "A4-vcXjU4ngt"
      },
      "source": [
        "df_appl_f=df_appl_f.dropna()\n",
        "df_nas_f=df_nas_f.dropna()\n",
        "df_dow_f=df_dow_f.dropna()\n",
        "df_snp_f=df_snp_f.dropna()\n",
        "df_nik_f=df_nik_f.dropna()\n",
        "df_hsi_f=df_hsi_f.dropna()\n",
        "df_dax_f=df_dax_f.dropna()\n",
        "df_oil_f=df_oil_f.dropna()\n",
        "df_gold_f=df_gold_f.dropna()"
      ],
      "execution_count": 30,
      "outputs": []
    },
    {
      "cell_type": "code",
      "metadata": {
        "id": "LcNfnVfGWOj4",
        "outputId": "6d2444aa-a9fe-4455-d9df-9e98c0044722",
        "colab": {
          "base_uri": "https://localhost:8080/",
          "height": 170
        }
      },
      "source": [
        "df_appl_f.shape, df_nas_f.shape, df_dow_f.shape, df_snp_f.shape, df_nik_f.shape, df_hsi_f.shape, df_dax_f.shape, df_oil_f.shape, df_gold_f.shape"
      ],
      "execution_count": 31,
      "outputs": [
        {
          "output_type": "execute_result",
          "data": {
            "text/plain": [
              "((203, 6),\n",
              " (203, 6),\n",
              " (203, 6),\n",
              " (203, 6),\n",
              " (194, 6),\n",
              " (198, 6),\n",
              " (203, 6),\n",
              " (234, 6),\n",
              " (203, 6))"
            ]
          },
          "metadata": {
            "tags": []
          },
          "execution_count": 31
        }
      ]
    },
    {
      "cell_type": "code",
      "metadata": {
        "id": "WjlGjZPt5olR"
      },
      "source": [
        "df_appl_f = df_appl_f[:193]\n",
        "df_nas_f = df_nas_f[:193]\n",
        "df_dow_f = df_dow_f[:193]\n",
        "df_snp_f = df_snp_f[:193]\n",
        "df_nik_f = df_nik_f[:193]\n",
        "df_hsi_f = df_hsi_f[:193]\n",
        "df_dax_f = df_dax_f[:193]\n",
        "df_oil_f = df_oil_f[:193]\n",
        "df_gold_f = df_gold_f[:193]"
      ],
      "execution_count": 32,
      "outputs": []
    },
    {
      "cell_type": "code",
      "metadata": {
        "id": "cjsTSPR1UWnB",
        "outputId": "a9bab224-58c4-496b-d41c-60044d6c8e16",
        "colab": {
          "base_uri": "https://localhost:8080/",
          "height": 51
        }
      },
      "source": [
        "appl_df_f = df_appl_f['Adj Close']\n",
        "appl_f = appl_df_f.values\n",
        "appl_f = appl_f[:143]\n",
        "appl_f[:10]"
      ],
      "execution_count": 33,
      "outputs": [
        {
          "output_type": "execute_result",
          "data": {
            "text/plain": [
              "array([74.57303619, 73.84803009, 74.43647003, 74.08639526, 75.2781601 ,\n",
              "       76.87713623, 77.05092621, 78.69707489, 77.63440704, 77.30170441])"
            ]
          },
          "metadata": {
            "tags": []
          },
          "execution_count": 33
        }
      ]
    },
    {
      "cell_type": "code",
      "metadata": {
        "id": "J1VB2ZEQ7Jz3",
        "outputId": "4750e1d1-90f6-4af7-b1cc-2a0741067313",
        "colab": {
          "base_uri": "https://localhost:8080/",
          "height": 170
        }
      },
      "source": [
        "future_df = pd.concat([df_nas_f['Adj Close'], df_dow_f['Adj Close'], df_snp_f['Adj Close'], df_dax_f['Adj Close'], df_hsi_f['Adj Close'], df_nik_f['Adj Close'], df_oil_f['Adj Close'], df_gold_f['Adj Close']], axis=1)\n",
        "future_df = future_df.dropna()\n",
        "print(future_df.isna().sum())\n",
        "future_arr = future_df.values\n",
        "# future_arr"
      ],
      "execution_count": 34,
      "outputs": [
        {
          "output_type": "stream",
          "text": [
            "Adj Close    0\n",
            "Adj Close    0\n",
            "Adj Close    0\n",
            "Adj Close    0\n",
            "Adj Close    0\n",
            "Adj Close    0\n",
            "Adj Close    0\n",
            "Adj Close    0\n",
            "dtype: int64\n"
          ],
          "name": "stdout"
        }
      ]
    },
    {
      "cell_type": "code",
      "metadata": {
        "id": "ssTqi1EEY5Ap",
        "outputId": "7790e3de-3679-486c-b63b-a064c02cd2fb",
        "colab": {
          "base_uri": "https://localhost:8080/",
          "height": 238
        }
      },
      "source": [
        "scaler = MinMaxScaler(feature_range=(0,1))\n",
        "scaled_data_f = scaler.fit_transform(future_arr)\n",
        "scaled_data_f"
      ],
      "execution_count": 35,
      "outputs": [
        {
          "output_type": "execute_result",
          "data": {
            "text/plain": [
              "array([[0.48921784, 0.92262057, 0.84504307, ..., 0.88830764, 1.        ,\n",
              "        0.73694242],\n",
              "       [0.48857841, 0.91169843, 0.83742078, ..., 0.93783222, 0.99435085,\n",
              "        0.73122378],\n",
              "       [0.50200162, 0.92642632, 0.85071367, ..., 0.88829434, 0.96372646,\n",
              "        0.73084263],\n",
              "       ...,\n",
              "       [0.97460317, 0.83469218, 0.9616628 , ..., 0.84500881, 0.79494551,\n",
              "        0.54937111],\n",
              "       [0.98497031, 0.85208346, 0.97142082, ..., 0.85030787, 0.7925669 ,\n",
              "        0.55203963],\n",
              "       [1.        , 0.88658606, 1.        , ..., 0.85901584, 0.79534191,\n",
              "        0.57072062]])"
            ]
          },
          "metadata": {
            "tags": []
          },
          "execution_count": 35
        }
      ]
    },
    {
      "cell_type": "markdown",
      "metadata": {
        "id": "qtYRQxP1FX8B"
      },
      "source": [
        "## Plotting the Model"
      ]
    },
    {
      "cell_type": "code",
      "metadata": {
        "id": "8qPzRZncFemT",
        "outputId": "f6a2473d-b168-4654-fadc-480f8d698360",
        "colab": {
          "base_uri": "https://localhost:8080/",
          "height": 346
        }
      },
      "source": [
        "plt.figure(figsize=(16,8))\n",
        "plt.title('Linear SVR')\n",
        "plt.plot(day_count, y, color='red',label='Apple Close')\n",
        "plt.plot(future_days, appl_f, color='purple', label='Apple Close')\n",
        "plt.plot(day_count, lin_svr.predict(X), color='blue', label='Linear Model')\n",
        "plt.plot(future_days, lin_svr.predict(scaled_data_f), color='green', label='Linear Model (Future)')\n",
        "plt.xlabel('Date 2014-10-23:2019-12-31')\n",
        "plt.ylabel('Stock Close Price')\n",
        "plt.legend()\n",
        "plt.show()"
      ],
      "execution_count": 36,
      "outputs": [
        {
          "output_type": "display_data",
          "data": {
            "image/png": "[encoded data removed]",
            "text/plain": [
              "<Figure size 1152x576 with 1 Axes>"
            ]
          },
          "metadata": {
            "tags": [],
            "needs_background": "light"
          }
        }
      ]
    },
    {
      "cell_type": "code",
      "metadata": {
        "id": "12LTLoqvFh5i",
        "outputId": "11d9d865-115d-4d89-f4ce-35185198aa89",
        "colab": {
          "base_uri": "https://localhost:8080/",
          "height": 346
        }
      },
      "source": [
        "plt.figure(figsize=(16,8))\n",
        "plt.title('RBF SVR')\n",
        "plt.plot(day_count, y, color='red',label='Apple Close')\n",
        "plt.plot(future_days, appl_f, color='purple', label='Apple Close')\n",
        "plt.plot(day_count, rbf_svr.predict(X), color='orange', label='RBF Model')\n",
        "plt.plot(future_days, rbf_svr.predict(scaled_data_f), color='purple', label='RBF Model (Future)')\n",
        "plt.xlabel('Date 2014-10-23:2019-12-31')\n",
        "plt.ylabel('Stock Close Price')\n",
        "plt.legend()\n",
        "plt.show()"
      ],
      "execution_count": 37,
      "outputs": [
        {
          "output_type": "display_data",
          "data": {
            "image/png": "[encoded data removed]",
            "text/plain": [
              "<Figure size 1152x576 with 1 Axes>"
            ]
          },
          "metadata": {
            "tags": [],
            "needs_background": "light"
          }
        }
      ]
    },
    {
      "cell_type": "code",
      "metadata": {
        "id": "NvfTxCwJFjm9",
        "outputId": "a52e4ada-7e9e-4518-c240-0dc8fe783513",
        "colab": {
          "base_uri": "https://localhost:8080/",
          "height": 346
        }
      },
      "source": [
        "plt.figure(figsize=(16,8))\n",
        "plt.title('Polynomial SVR')\n",
        "plt.plot(day_count, y, color='red',label='Apple Close')\n",
        "plt.plot(future_days, appl_f, color='purple', label='Apple Close')\n",
        "plt.plot(day_count, poly_svr.predict(X), color='blue', label='Poly Model')\n",
        "plt.plot(future_days, poly_svr.predict(scaled_data_f), color='black', label='Poly Model (Future)')\n",
        "plt.xlabel('Date 2014-10-23:2019-12-31')\n",
        "plt.ylabel('Stock Close Price')\n",
        "plt.legend()\n",
        "plt.show()"
      ],
      "execution_count": 38,
      "outputs": [
        {
          "output_type": "display_data",
          "data": {
            "image/png": "[encoded data removed]",
            "text/plain": [
              "<Figure size 1152x576 with 1 Axes>"
            ]
          },
          "metadata": {
            "tags": [],
            "needs_background": "light"
          }
        }
      ]
    }
  ]
}