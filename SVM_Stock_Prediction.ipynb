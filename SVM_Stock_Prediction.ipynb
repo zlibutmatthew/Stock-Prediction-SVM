{
  "nbformat": 4,
  "nbformat_minor": 0,
  "metadata": {
    "colab": {
      "name": "SVM_Stock_Prediction.ipynb",
      "provenance": [],
      "collapsed_sections": [],
      "authorship_tag": "ABX9TyMkcjZubstJBkA8Olx6jTRZ",
      "include_colab_link": true
    },
    "kernelspec": {
      "name": "python3",
      "display_name": "Python 3"
    }
  },
  "cells": [
    {
      "cell_type": "markdown",
      "metadata": {
        "id": "view-in-github",
        "colab_type": "text"
      },
      "source": [
        "<a href=\"https://colab.research.google.com/github/zlibutmatthew/Stock-Prediction-SVM/blob/master/SVM_Stock_Prediction.ipynb\" target=\"_parent\"><img src=\"https://colab.research.google.com/assets/colab-badge.svg\" alt=\"Open In Colab\"/></a>"
      ]
    },
    {
      "cell_type": "code",
      "metadata": {
        "id": "PI3dDje16wV5"
      },
      "source": [
        "import numpy as np\n",
        "import pandas as pd\n",
        "import pandas_datareader as web\n",
        "import matplotlib.pyplot as plt\n",
        "from sklearn.svm import SVC\n",
        "from sklearn.svm import SVR\n",
        "from sklearn.preprocessing import MinMaxScaler"
      ],
      "execution_count": 3,
      "outputs": []
    },
    {
      "cell_type": "code",
      "metadata": {
        "id": "XCAmAxEn40op",
        "outputId": "40011682-8fca-445e-e3e0-3ff8634ada42",
        "colab": {
          "base_uri": "https://localhost:8080/",
          "height": 450
        }
      },
      "source": [
        "#Get the stock info and store into a dataframe\n",
        "df = web.DataReader('AAPL', data_source='yahoo', start='2008-01-01', end='2019-12-31')\n",
        "df"
      ],
      "execution_count": 4,
      "outputs": [
        {
          "output_type": "execute_result",
          "data": {
            "text/html": [
              "<div>\n",
              "<style scoped>\n",
              "    .dataframe tbody tr th:only-of-type {\n",
              "        vertical-align: middle;\n",
              "    }\n",
              "\n",
              "    .dataframe tbody tr th {\n",
              "        vertical-align: top;\n",
              "    }\n",
              "\n",
              "    .dataframe thead th {\n",
              "        text-align: right;\n",
              "    }\n",
              "</style>\n",
              "<table border=\"1\" class=\"dataframe\">\n",
              "  <thead>\n",
              "    <tr style=\"text-align: right;\">\n",
              "      <th></th>\n",
              "      <th>High</th>\n",
              "      <th>Low</th>\n",
              "      <th>Open</th>\n",
              "      <th>Close</th>\n",
              "      <th>Volume</th>\n",
              "      <th>Adj Close</th>\n",
              "    </tr>\n",
              "    <tr>\n",
              "      <th>Date</th>\n",
              "      <th></th>\n",
              "      <th></th>\n",
              "      <th></th>\n",
              "      <th></th>\n",
              "      <th></th>\n",
              "      <th></th>\n",
              "    </tr>\n",
              "  </thead>\n",
              "  <tbody>\n",
              "    <tr>\n",
              "      <th>2008-01-02</th>\n",
              "      <td>7.152143</td>\n",
              "      <td>6.876786</td>\n",
              "      <td>7.116786</td>\n",
              "      <td>6.958571</td>\n",
              "      <td>1.079179e+09</td>\n",
              "      <td>6.013175</td>\n",
              "    </tr>\n",
              "    <tr>\n",
              "      <th>2008-01-03</th>\n",
              "      <td>7.049643</td>\n",
              "      <td>6.881786</td>\n",
              "      <td>6.978929</td>\n",
              "      <td>6.961786</td>\n",
              "      <td>8.420664e+08</td>\n",
              "      <td>6.015953</td>\n",
              "    </tr>\n",
              "    <tr>\n",
              "      <th>2008-01-04</th>\n",
              "      <td>6.892857</td>\n",
              "      <td>6.388928</td>\n",
              "      <td>6.837500</td>\n",
              "      <td>6.430357</td>\n",
              "      <td>1.455832e+09</td>\n",
              "      <td>5.556723</td>\n",
              "    </tr>\n",
              "    <tr>\n",
              "      <th>2008-01-07</th>\n",
              "      <td>6.557143</td>\n",
              "      <td>6.079643</td>\n",
              "      <td>6.473214</td>\n",
              "      <td>6.344285</td>\n",
              "      <td>2.072193e+09</td>\n",
              "      <td>5.482346</td>\n",
              "    </tr>\n",
              "    <tr>\n",
              "      <th>2008-01-08</th>\n",
              "      <td>6.516428</td>\n",
              "      <td>6.100000</td>\n",
              "      <td>6.433571</td>\n",
              "      <td>6.116071</td>\n",
              "      <td>1.523816e+09</td>\n",
              "      <td>5.285137</td>\n",
              "    </tr>\n",
              "    <tr>\n",
              "      <th>...</th>\n",
              "      <td>...</td>\n",
              "      <td>...</td>\n",
              "      <td>...</td>\n",
              "      <td>...</td>\n",
              "      <td>...</td>\n",
              "      <td>...</td>\n",
              "    </tr>\n",
              "    <tr>\n",
              "      <th>2019-12-24</th>\n",
              "      <td>71.222504</td>\n",
              "      <td>70.730003</td>\n",
              "      <td>71.172501</td>\n",
              "      <td>71.067497</td>\n",
              "      <td>4.847880e+07</td>\n",
              "      <td>70.580566</td>\n",
              "    </tr>\n",
              "    <tr>\n",
              "      <th>2019-12-26</th>\n",
              "      <td>72.495003</td>\n",
              "      <td>71.175003</td>\n",
              "      <td>71.205002</td>\n",
              "      <td>72.477501</td>\n",
              "      <td>9.312120e+07</td>\n",
              "      <td>71.980911</td>\n",
              "    </tr>\n",
              "    <tr>\n",
              "      <th>2019-12-27</th>\n",
              "      <td>73.492500</td>\n",
              "      <td>72.029999</td>\n",
              "      <td>72.779999</td>\n",
              "      <td>72.449997</td>\n",
              "      <td>1.462660e+08</td>\n",
              "      <td>71.953598</td>\n",
              "    </tr>\n",
              "    <tr>\n",
              "      <th>2019-12-30</th>\n",
              "      <td>73.172501</td>\n",
              "      <td>71.305000</td>\n",
              "      <td>72.364998</td>\n",
              "      <td>72.879997</td>\n",
              "      <td>1.441144e+08</td>\n",
              "      <td>72.380653</td>\n",
              "    </tr>\n",
              "    <tr>\n",
              "      <th>2019-12-31</th>\n",
              "      <td>73.419998</td>\n",
              "      <td>72.379997</td>\n",
              "      <td>72.482498</td>\n",
              "      <td>73.412498</td>\n",
              "      <td>1.008056e+08</td>\n",
              "      <td>72.909500</td>\n",
              "    </tr>\n",
              "  </tbody>\n",
              "</table>\n",
              "<p>3021 rows × 6 columns</p>\n",
              "</div>"
            ],
            "text/plain": [
              "                 High        Low       Open      Close        Volume  Adj Close\n",
              "Date                                                                           \n",
              "2008-01-02   7.152143   6.876786   7.116786   6.958571  1.079179e+09   6.013175\n",
              "2008-01-03   7.049643   6.881786   6.978929   6.961786  8.420664e+08   6.015953\n",
              "2008-01-04   6.892857   6.388928   6.837500   6.430357  1.455832e+09   5.556723\n",
              "2008-01-07   6.557143   6.079643   6.473214   6.344285  2.072193e+09   5.482346\n",
              "2008-01-08   6.516428   6.100000   6.433571   6.116071  1.523816e+09   5.285137\n",
              "...               ...        ...        ...        ...           ...        ...\n",
              "2019-12-24  71.222504  70.730003  71.172501  71.067497  4.847880e+07  70.580566\n",
              "2019-12-26  72.495003  71.175003  71.205002  72.477501  9.312120e+07  71.980911\n",
              "2019-12-27  73.492500  72.029999  72.779999  72.449997  1.462660e+08  71.953598\n",
              "2019-12-30  73.172501  71.305000  72.364998  72.879997  1.441144e+08  72.380653\n",
              "2019-12-31  73.419998  72.379997  72.482498  73.412498  1.008056e+08  72.909500\n",
              "\n",
              "[3021 rows x 6 columns]"
            ]
          },
          "metadata": {
            "tags": []
          },
          "execution_count": 4
        }
      ]
    },
    {
      "cell_type": "code",
      "metadata": {
        "id": "d03UdOtK4BsO",
        "outputId": "d99f6f03-1cc1-4287-e456-7310a44c332e",
        "colab": {
          "base_uri": "https://localhost:8080/",
          "height": 34
        }
      },
      "source": [
        "df.shape"
      ],
      "execution_count": 5,
      "outputs": [
        {
          "output_type": "execute_result",
          "data": {
            "text/plain": [
              "(3021, 6)"
            ]
          },
          "metadata": {
            "tags": []
          },
          "execution_count": 5
        }
      ]
    },
    {
      "cell_type": "code",
      "metadata": {
        "id": "benMK3TMvXfA",
        "outputId": "af5a3e72-30ed-482a-fc9d-0ec26eee7fc1",
        "colab": {
          "base_uri": "https://localhost:8080/",
          "height": 450
        }
      },
      "source": [
        "df_nas = web.DataReader('^IXIC', data_source='yahoo', start='2008-01-01', end='2019-12-31')\n",
        "df_nas"
      ],
      "execution_count": 6,
      "outputs": [
        {
          "output_type": "execute_result",
          "data": {
            "text/html": [
              "<div>\n",
              "<style scoped>\n",
              "    .dataframe tbody tr th:only-of-type {\n",
              "        vertical-align: middle;\n",
              "    }\n",
              "\n",
              "    .dataframe tbody tr th {\n",
              "        vertical-align: top;\n",
              "    }\n",
              "\n",
              "    .dataframe thead th {\n",
              "        text-align: right;\n",
              "    }\n",
              "</style>\n",
              "<table border=\"1\" class=\"dataframe\">\n",
              "  <thead>\n",
              "    <tr style=\"text-align: right;\">\n",
              "      <th></th>\n",
              "      <th>High</th>\n",
              "      <th>Low</th>\n",
              "      <th>Open</th>\n",
              "      <th>Close</th>\n",
              "      <th>Volume</th>\n",
              "      <th>Adj Close</th>\n",
              "    </tr>\n",
              "    <tr>\n",
              "      <th>Date</th>\n",
              "      <th></th>\n",
              "      <th></th>\n",
              "      <th></th>\n",
              "      <th></th>\n",
              "      <th></th>\n",
              "      <th></th>\n",
              "    </tr>\n",
              "  </thead>\n",
              "  <tbody>\n",
              "    <tr>\n",
              "      <th>2008-01-02</th>\n",
              "      <td>2661.500000</td>\n",
              "      <td>2597.810059</td>\n",
              "      <td>2653.909912</td>\n",
              "      <td>2609.629883</td>\n",
              "      <td>2076690000</td>\n",
              "      <td>2609.629883</td>\n",
              "    </tr>\n",
              "    <tr>\n",
              "      <th>2008-01-03</th>\n",
              "      <td>2624.270020</td>\n",
              "      <td>2592.179932</td>\n",
              "      <td>2611.959961</td>\n",
              "      <td>2602.679932</td>\n",
              "      <td>1970200000</td>\n",
              "      <td>2602.679932</td>\n",
              "    </tr>\n",
              "    <tr>\n",
              "      <th>2008-01-04</th>\n",
              "      <td>2571.080078</td>\n",
              "      <td>2502.679932</td>\n",
              "      <td>2571.080078</td>\n",
              "      <td>2504.649902</td>\n",
              "      <td>2516310000</td>\n",
              "      <td>2504.649902</td>\n",
              "    </tr>\n",
              "    <tr>\n",
              "      <th>2008-01-07</th>\n",
              "      <td>2521.620117</td>\n",
              "      <td>2471.229980</td>\n",
              "      <td>2514.149902</td>\n",
              "      <td>2499.459961</td>\n",
              "      <td>2600100000</td>\n",
              "      <td>2499.459961</td>\n",
              "    </tr>\n",
              "    <tr>\n",
              "      <th>2008-01-08</th>\n",
              "      <td>2527.419922</td>\n",
              "      <td>2440.510010</td>\n",
              "      <td>2506.969971</td>\n",
              "      <td>2440.510010</td>\n",
              "      <td>2566480000</td>\n",
              "      <td>2440.510010</td>\n",
              "    </tr>\n",
              "    <tr>\n",
              "      <th>...</th>\n",
              "      <td>...</td>\n",
              "      <td>...</td>\n",
              "      <td>...</td>\n",
              "      <td>...</td>\n",
              "      <td>...</td>\n",
              "      <td>...</td>\n",
              "    </tr>\n",
              "    <tr>\n",
              "      <th>2019-12-24</th>\n",
              "      <td>8957.120117</td>\n",
              "      <td>8934.360352</td>\n",
              "      <td>8955.009766</td>\n",
              "      <td>8952.879883</td>\n",
              "      <td>1014520000</td>\n",
              "      <td>8952.879883</td>\n",
              "    </tr>\n",
              "    <tr>\n",
              "      <th>2019-12-26</th>\n",
              "      <td>9022.459961</td>\n",
              "      <td>8968.459961</td>\n",
              "      <td>8970.209961</td>\n",
              "      <td>9022.389648</td>\n",
              "      <td>1634920000</td>\n",
              "      <td>9022.389648</td>\n",
              "    </tr>\n",
              "    <tr>\n",
              "      <th>2019-12-27</th>\n",
              "      <td>9052.000000</td>\n",
              "      <td>8987.320312</td>\n",
              "      <td>9049.469727</td>\n",
              "      <td>9006.620117</td>\n",
              "      <td>1832200000</td>\n",
              "      <td>9006.620117</td>\n",
              "    </tr>\n",
              "    <tr>\n",
              "      <th>2019-12-30</th>\n",
              "      <td>9006.360352</td>\n",
              "      <td>8909.190430</td>\n",
              "      <td>9004.450195</td>\n",
              "      <td>8945.990234</td>\n",
              "      <td>2042420000</td>\n",
              "      <td>8945.990234</td>\n",
              "    </tr>\n",
              "    <tr>\n",
              "      <th>2019-12-31</th>\n",
              "      <td>8975.360352</td>\n",
              "      <td>8912.769531</td>\n",
              "      <td>8918.740234</td>\n",
              "      <td>8972.599609</td>\n",
              "      <td>2182800000</td>\n",
              "      <td>8972.599609</td>\n",
              "    </tr>\n",
              "  </tbody>\n",
              "</table>\n",
              "<p>3021 rows × 6 columns</p>\n",
              "</div>"
            ],
            "text/plain": [
              "                   High          Low  ...      Volume    Adj Close\n",
              "Date                                  ...                         \n",
              "2008-01-02  2661.500000  2597.810059  ...  2076690000  2609.629883\n",
              "2008-01-03  2624.270020  2592.179932  ...  1970200000  2602.679932\n",
              "2008-01-04  2571.080078  2502.679932  ...  2516310000  2504.649902\n",
              "2008-01-07  2521.620117  2471.229980  ...  2600100000  2499.459961\n",
              "2008-01-08  2527.419922  2440.510010  ...  2566480000  2440.510010\n",
              "...                 ...          ...  ...         ...          ...\n",
              "2019-12-24  8957.120117  8934.360352  ...  1014520000  8952.879883\n",
              "2019-12-26  9022.459961  8968.459961  ...  1634920000  9022.389648\n",
              "2019-12-27  9052.000000  8987.320312  ...  1832200000  9006.620117\n",
              "2019-12-30  9006.360352  8909.190430  ...  2042420000  8945.990234\n",
              "2019-12-31  8975.360352  8912.769531  ...  2182800000  8972.599609\n",
              "\n",
              "[3021 rows x 6 columns]"
            ]
          },
          "metadata": {
            "tags": []
          },
          "execution_count": 6
        }
      ]
    },
    {
      "cell_type": "code",
      "metadata": {
        "id": "N8SCO4Kv3_ke",
        "outputId": "70821c63-1142-4e18-af72-452ab0d90a8f",
        "colab": {
          "base_uri": "https://localhost:8080/",
          "height": 34
        }
      },
      "source": [
        "df_nas.shape"
      ],
      "execution_count": 7,
      "outputs": [
        {
          "output_type": "execute_result",
          "data": {
            "text/plain": [
              "(3021, 6)"
            ]
          },
          "metadata": {
            "tags": []
          },
          "execution_count": 7
        }
      ]
    },
    {
      "cell_type": "code",
      "metadata": {
        "id": "fcbhSFMEv4fH",
        "outputId": "51455f9c-d90e-4b10-f8ee-ea90d2471d61",
        "colab": {
          "base_uri": "https://localhost:8080/",
          "height": 450
        }
      },
      "source": [
        "df_dow = web.DataReader('^DJI', data_source='yahoo', start='2008-01-01', end='2019-12-31')\n",
        "df_dow"
      ],
      "execution_count": 8,
      "outputs": [
        {
          "output_type": "execute_result",
          "data": {
            "text/html": [
              "<div>\n",
              "<style scoped>\n",
              "    .dataframe tbody tr th:only-of-type {\n",
              "        vertical-align: middle;\n",
              "    }\n",
              "\n",
              "    .dataframe tbody tr th {\n",
              "        vertical-align: top;\n",
              "    }\n",
              "\n",
              "    .dataframe thead th {\n",
              "        text-align: right;\n",
              "    }\n",
              "</style>\n",
              "<table border=\"1\" class=\"dataframe\">\n",
              "  <thead>\n",
              "    <tr style=\"text-align: right;\">\n",
              "      <th></th>\n",
              "      <th>High</th>\n",
              "      <th>Low</th>\n",
              "      <th>Open</th>\n",
              "      <th>Close</th>\n",
              "      <th>Volume</th>\n",
              "      <th>Adj Close</th>\n",
              "    </tr>\n",
              "    <tr>\n",
              "      <th>Date</th>\n",
              "      <th></th>\n",
              "      <th></th>\n",
              "      <th></th>\n",
              "      <th></th>\n",
              "      <th></th>\n",
              "      <th></th>\n",
              "    </tr>\n",
              "  </thead>\n",
              "  <tbody>\n",
              "    <tr>\n",
              "      <th>2008-01-02</th>\n",
              "      <td>13279.540039</td>\n",
              "      <td>12991.370117</td>\n",
              "      <td>13261.820312</td>\n",
              "      <td>13043.959961</td>\n",
              "      <td>239580000</td>\n",
              "      <td>13043.959961</td>\n",
              "    </tr>\n",
              "    <tr>\n",
              "      <th>2008-01-03</th>\n",
              "      <td>13137.929688</td>\n",
              "      <td>13023.559570</td>\n",
              "      <td>13044.120117</td>\n",
              "      <td>13056.719727</td>\n",
              "      <td>200620000</td>\n",
              "      <td>13056.719727</td>\n",
              "    </tr>\n",
              "    <tr>\n",
              "      <th>2008-01-04</th>\n",
              "      <td>13046.719727</td>\n",
              "      <td>12789.040039</td>\n",
              "      <td>13046.559570</td>\n",
              "      <td>12800.179688</td>\n",
              "      <td>304210000</td>\n",
              "      <td>12800.179688</td>\n",
              "    </tr>\n",
              "    <tr>\n",
              "      <th>2008-01-07</th>\n",
              "      <td>12884.150391</td>\n",
              "      <td>12733.839844</td>\n",
              "      <td>12801.150391</td>\n",
              "      <td>12827.490234</td>\n",
              "      <td>306700000</td>\n",
              "      <td>12827.490234</td>\n",
              "    </tr>\n",
              "    <tr>\n",
              "      <th>2008-01-08</th>\n",
              "      <td>12906.419922</td>\n",
              "      <td>12565.410156</td>\n",
              "      <td>12820.900391</td>\n",
              "      <td>12589.070312</td>\n",
              "      <td>322690000</td>\n",
              "      <td>12589.070312</td>\n",
              "    </tr>\n",
              "    <tr>\n",
              "      <th>...</th>\n",
              "      <td>...</td>\n",
              "      <td>...</td>\n",
              "      <td>...</td>\n",
              "      <td>...</td>\n",
              "      <td>...</td>\n",
              "      <td>...</td>\n",
              "    </tr>\n",
              "    <tr>\n",
              "      <th>2019-12-24</th>\n",
              "      <td>28576.800781</td>\n",
              "      <td>28503.210938</td>\n",
              "      <td>28572.570312</td>\n",
              "      <td>28515.449219</td>\n",
              "      <td>86150000</td>\n",
              "      <td>28515.449219</td>\n",
              "    </tr>\n",
              "    <tr>\n",
              "      <th>2019-12-26</th>\n",
              "      <td>28624.099609</td>\n",
              "      <td>28535.150391</td>\n",
              "      <td>28539.460938</td>\n",
              "      <td>28621.390625</td>\n",
              "      <td>155970000</td>\n",
              "      <td>28621.390625</td>\n",
              "    </tr>\n",
              "    <tr>\n",
              "      <th>2019-12-27</th>\n",
              "      <td>28701.660156</td>\n",
              "      <td>28608.980469</td>\n",
              "      <td>28675.339844</td>\n",
              "      <td>28645.259766</td>\n",
              "      <td>182280000</td>\n",
              "      <td>28645.259766</td>\n",
              "    </tr>\n",
              "    <tr>\n",
              "      <th>2019-12-30</th>\n",
              "      <td>28664.689453</td>\n",
              "      <td>28428.980469</td>\n",
              "      <td>28654.759766</td>\n",
              "      <td>28462.140625</td>\n",
              "      <td>181600000</td>\n",
              "      <td>28462.140625</td>\n",
              "    </tr>\n",
              "    <tr>\n",
              "      <th>2019-12-31</th>\n",
              "      <td>28547.349609</td>\n",
              "      <td>28376.490234</td>\n",
              "      <td>28414.640625</td>\n",
              "      <td>28538.439453</td>\n",
              "      <td>193340000</td>\n",
              "      <td>28538.439453</td>\n",
              "    </tr>\n",
              "  </tbody>\n",
              "</table>\n",
              "<p>3021 rows × 6 columns</p>\n",
              "</div>"
            ],
            "text/plain": [
              "                    High           Low  ...     Volume     Adj Close\n",
              "Date                                    ...                         \n",
              "2008-01-02  13279.540039  12991.370117  ...  239580000  13043.959961\n",
              "2008-01-03  13137.929688  13023.559570  ...  200620000  13056.719727\n",
              "2008-01-04  13046.719727  12789.040039  ...  304210000  12800.179688\n",
              "2008-01-07  12884.150391  12733.839844  ...  306700000  12827.490234\n",
              "2008-01-08  12906.419922  12565.410156  ...  322690000  12589.070312\n",
              "...                  ...           ...  ...        ...           ...\n",
              "2019-12-24  28576.800781  28503.210938  ...   86150000  28515.449219\n",
              "2019-12-26  28624.099609  28535.150391  ...  155970000  28621.390625\n",
              "2019-12-27  28701.660156  28608.980469  ...  182280000  28645.259766\n",
              "2019-12-30  28664.689453  28428.980469  ...  181600000  28462.140625\n",
              "2019-12-31  28547.349609  28376.490234  ...  193340000  28538.439453\n",
              "\n",
              "[3021 rows x 6 columns]"
            ]
          },
          "metadata": {
            "tags": []
          },
          "execution_count": 8
        }
      ]
    },
    {
      "cell_type": "code",
      "metadata": {
        "id": "2yZo889S72Xv",
        "outputId": "8e958c38-fca7-4b16-85f0-5b5ccb9c294e",
        "colab": {
          "base_uri": "https://localhost:8080/",
          "height": 34
        }
      },
      "source": [
        "df_dow.shape"
      ],
      "execution_count": 9,
      "outputs": [
        {
          "output_type": "execute_result",
          "data": {
            "text/plain": [
              "(3021, 6)"
            ]
          },
          "metadata": {
            "tags": []
          },
          "execution_count": 9
        }
      ]
    },
    {
      "cell_type": "code",
      "metadata": {
        "id": "pOk9KkVv7-7W",
        "outputId": "2afeb9ec-33af-44f5-f48e-ebdf0a7f9f26",
        "colab": {
          "base_uri": "https://localhost:8080/",
          "height": 530
        }
      },
      "source": [
        "#Visualize the closing prince of the Apple stock.\n",
        "plt.figure(figsize=(16,8))\n",
        "plt.title('Close Price History')\n",
        "plt.plot(df['Close'], 'r', label='Apple Close')\n",
        "# plt.plot(df_nas['Close'], 'b', label='NASDAQ Close')\n",
        "# plt.plot(df_dow['Close'], 'g', label='Dow Close')\n",
        "plt.xlabel('Date 2008-01-01:2019-12-31')\n",
        "plt.ylabel('Stock Close Price')\n",
        "plt.legend()"
      ],
      "execution_count": 10,
      "outputs": [
        {
          "output_type": "execute_result",
          "data": {
            "text/plain": [
              "<matplotlib.legend.Legend at 0x7f85d71c4940>"
            ]
          },
          "metadata": {
            "tags": []
          },
          "execution_count": 10
        },
        {
          "output_type": "display_data",
          "data": {
            "image/png": "[encoded data removed]",
            "text/plain": [
              "<Figure size 1152x576 with 1 Axes>"
            ]
          },
          "metadata": {
            "tags": [],
            "needs_background": "light"
          }
        }
      ]
    },
    {
      "cell_type": "code",
      "metadata": {
        "id": "w7OLfZRe5E3w",
        "outputId": "c9ba784f-e724-4f8a-95cf-0effe720c8c4",
        "colab": {
          "base_uri": "https://localhost:8080/",
          "height": 51
        }
      },
      "source": [
        "dep_df= df['Adj Close']\n",
        "dep_df = dep_df.values\n",
        "dep_df"
      ],
      "execution_count": 12,
      "outputs": [
        {
          "output_type": "execute_result",
          "data": {
            "text/plain": [
              "array([ 6.01317501,  6.01595306,  5.55672312, ..., 71.95359802,\n",
              "       72.38065338, 72.90950012])"
            ]
          },
          "metadata": {
            "tags": []
          },
          "execution_count": 12
        }
      ]
    },
    {
      "cell_type": "code",
      "metadata": {
        "id": "I-p6pjSa5Rim",
        "outputId": "78ffc578-2d59-48a2-e100-7e4752f03125",
        "colab": {
          "base_uri": "https://localhost:8080/",
          "height": 136
        }
      },
      "source": [
        "adj_close = pd.concat([df_nas['Adj Close'], df_dow['Adj Close']], axis=1)\n",
        "adj_close = adj_close.values\n",
        "adj_close"
      ],
      "execution_count": 13,
      "outputs": [
        {
          "output_type": "execute_result",
          "data": {
            "text/plain": [
              "array([[ 2609.62988281, 13043.95996094],\n",
              "       [ 2602.67993164, 13056.71972656],\n",
              "       [ 2504.64990234, 12800.1796875 ],\n",
              "       ...,\n",
              "       [ 9006.62011719, 28645.25976562],\n",
              "       [ 8945.99023438, 28462.140625  ],\n",
              "       [ 8972.59960938, 28538.43945312]])"
            ]
          },
          "metadata": {
            "tags": []
          },
          "execution_count": 13
        }
      ]
    },
    {
      "cell_type": "code",
      "metadata": {
        "id": "DfSvfjfj5ak2",
        "outputId": "7b4523b9-4562-4818-9e4a-a464620d1424",
        "colab": {
          "base_uri": "https://localhost:8080/",
          "height": 153
        }
      },
      "source": [
        "test_X = adj_close[:40,:]\n",
        "# test_X\n",
        "test_y = dep_df[:40]\n",
        "test_y.reshape(-1,1)\n",
        "test_y"
      ],
      "execution_count": 32,
      "outputs": [
        {
          "output_type": "execute_result",
          "data": {
            "text/plain": [
              "array([6.01317501, 6.01595306, 5.55672312, 5.48234558, 5.2851367 ,\n",
              "       5.53666258, 5.49407387, 5.32957792, 5.51752758, 5.21693182,\n",
              "       4.92682743, 4.96540499, 4.97991133, 4.80337811, 4.29199505,\n",
              "       4.18490267, 4.01238346, 4.01238346, 4.05960369, 4.07935524,\n",
              "       4.17749596, 4.12780857, 4.06299639, 3.99232316, 3.76517797,\n",
              "       3.74172235, 3.87257767, 3.99510074, 3.85344338, 3.99355578,\n",
              "       3.93368459, 3.84634519, 3.77073288, 3.82134819, 3.75098062,\n",
              "       3.6867888 , 3.6954298 , 3.67722106, 3.79480624, 4.00929785])"
            ]
          },
          "metadata": {
            "tags": []
          },
          "execution_count": 32
        }
      ]
    },
    {
      "cell_type": "code",
      "metadata": {
        "id": "F1G_RJOhzx2o",
        "outputId": "c15c6f93-bbad-4c35-cb3f-fbdddd781b77",
        "colab": {
          "base_uri": "https://localhost:8080/",
          "height": 71
        }
      },
      "source": [
        "#prepare data for model\n",
        "df1 = df.reset_index()\n",
        "df1['day_count'] = range(0,len(df1))\n",
        "# df1\n",
        "\n",
        "#create list of independent(date) and dependent(adj close price) data\n",
        "days= []\n",
        "adj_close_prices = []\n",
        "df_days = df1.loc[:,'day_count']\n",
        "df_adj_close = df1.loc[:, 'Adj Close']\n",
        "\n",
        "for i in df_days:\n",
        "  days.append([i])\n",
        "for c in df_adj_close:\n",
        "  adj_close_prices.append(float(c))\n",
        "\n",
        "#make a smaller data set so the runtime is lower\n",
        "test_day = days[0:40]\n",
        "test_close = adj_close_prices[0:40]\n",
        "print(test_day)\n",
        "print(test_close)"
      ],
      "execution_count": 11,
      "outputs": [
        {
          "output_type": "stream",
          "text": [
            "[[0], [1], [2], [3], [4], [5], [6], [7], [8], [9], [10], [11], [12], [13], [14], [15], [16], [17], [18], [19], [20], [21], [22], [23], [24], [25], [26], [27], [28], [29], [30], [31], [32], [33], [34], [35], [36], [37], [38], [39]]\n",
            "[6.013175010681152, 6.015953063964844, 5.556723117828369, 5.4823455810546875, 5.285136699676514, 5.536662578582764, 5.494073867797852, 5.329577922821045, 5.5175275802612305, 5.2169318199157715, 4.926827430725098, 4.965404987335205, 4.9799113273620605, 4.803378105163574, 4.291995048522949, 4.184902667999268, 4.012383460998535, 4.012383460998535, 4.059603691101074, 4.079355239868164, 4.177495956420898, 4.127808570861816, 4.0629963874816895, 3.992323160171509, 3.7651779651641846, 3.741722345352173, 3.872577667236328, 3.995100736618042, 3.8534433841705322, 3.993555784225464, 3.9336845874786377, 3.8463451862335205, 3.770732879638672, 3.821348190307617, 3.7509806156158447, 3.68678879737854, 3.695429801940918, 3.6772210597991943, 3.7948062419891357, 4.009297847747803]\n"
          ],
          "name": "stdout"
        }
      ]
    },
    {
      "cell_type": "markdown",
      "metadata": {
        "id": "Pa241_-wSeS8"
      },
      "source": [
        "### Support Vector Regression"
      ]
    },
    {
      "cell_type": "code",
      "metadata": {
        "id": "ih08jOGp0G_e",
        "outputId": "db7a4ed0-377e-4577-b9ae-8ff35ea7ce88",
        "colab": {
          "base_uri": "https://localhost:8080/",
          "height": 51
        }
      },
      "source": [
        "#set up model\n",
        "\n",
        "#linear kernel\n",
        "lin_svr = SVR(kernel='linear', C=1000)\n",
        "lin_svr.fit(test_X, test_y)\n",
        "\n",
        "# #polynomial kernel\n",
        "poly_svr = SVR(kernel='poly', degree = 2)\n",
        "poly_svr.fit(test_X, test_y)\n",
        "\n",
        "# #rbf kernel\n",
        "rbf_svr = SVR(kernel='rbf', gamma=0.15)\n",
        "rbf_svr.fit(test_X, test_y)"
      ],
      "execution_count": 33,
      "outputs": [
        {
          "output_type": "execute_result",
          "data": {
            "text/plain": [
              "SVR(C=1.0, cache_size=200, coef0=0.0, degree=3, epsilon=0.1, gamma=0.15,\n",
              "    kernel='rbf', max_iter=-1, shrinking=True, tol=0.001, verbose=False)"
            ]
          },
          "metadata": {
            "tags": []
          },
          "execution_count": 33
        }
      ]
    },
    {
      "cell_type": "code",
      "metadata": {
        "id": "igNWG2sR6mgC",
        "outputId": "b76ea454-2520-4ac1-aa9a-6a98f93b9e81",
        "colab": {
          "base_uri": "https://localhost:8080/",
          "height": 1000
        }
      },
      "source": [
        "plt.figure(figsize=(16,8))\n",
        "plt.title('SVR')\n",
        "plt.scatter(test_day, test_close, color='red',label='Close')\n",
        "plt.plot(lin_svr.predict(test_y), color='green', label='Linear Model')\n",
        "plt.plot(rbf_svr.predict(test_y), color='blue', label='RBF Model')\n",
        "plt.plot(poly_svr.predict(test_day), color='orange', label='Poly Model')\n",
        "plt.xlabel('Date 2008-01-01:2019-12-31')\n",
        "plt.ylabel('Stock Close Price')\n",
        "plt.legend()\n",
        "plt.show()"
      ],
      "execution_count": 35,
      "outputs": [
        {
          "output_type": "error",
          "ename": "ValueError",
          "evalue": "ignored",
          "traceback": [
            "\u001b[0;31m---------------------------------------------------------------------------\u001b[0m",
            "\u001b[0;31mValueError\u001b[0m                                Traceback (most recent call last)",
            "\u001b[0;32m<ipython-input-35-dba8a24ef08a>\u001b[0m in \u001b[0;36m<module>\u001b[0;34m()\u001b[0m\n\u001b[1;32m      2\u001b[0m \u001b[0mplt\u001b[0m\u001b[0;34m.\u001b[0m\u001b[0mtitle\u001b[0m\u001b[0;34m(\u001b[0m\u001b[0;34m'SVR'\u001b[0m\u001b[0;34m)\u001b[0m\u001b[0;34m\u001b[0m\u001b[0;34m\u001b[0m\u001b[0m\n\u001b[1;32m      3\u001b[0m \u001b[0mplt\u001b[0m\u001b[0;34m.\u001b[0m\u001b[0mscatter\u001b[0m\u001b[0;34m(\u001b[0m\u001b[0mtest_day\u001b[0m\u001b[0;34m,\u001b[0m \u001b[0mtest_close\u001b[0m\u001b[0;34m,\u001b[0m \u001b[0mcolor\u001b[0m\u001b[0;34m=\u001b[0m\u001b[0;34m'red'\u001b[0m\u001b[0;34m,\u001b[0m\u001b[0mlabel\u001b[0m\u001b[0;34m=\u001b[0m\u001b[0;34m'Close'\u001b[0m\u001b[0;34m)\u001b[0m\u001b[0;34m\u001b[0m\u001b[0;34m\u001b[0m\u001b[0m\n\u001b[0;32m----> 4\u001b[0;31m \u001b[0mplt\u001b[0m\u001b[0;34m.\u001b[0m\u001b[0mplot\u001b[0m\u001b[0;34m(\u001b[0m\u001b[0mlin_svr\u001b[0m\u001b[0;34m.\u001b[0m\u001b[0mpredict\u001b[0m\u001b[0;34m(\u001b[0m\u001b[0mtest_y\u001b[0m\u001b[0;34m)\u001b[0m\u001b[0;34m,\u001b[0m \u001b[0mcolor\u001b[0m\u001b[0;34m=\u001b[0m\u001b[0;34m'green'\u001b[0m\u001b[0;34m,\u001b[0m \u001b[0mlabel\u001b[0m\u001b[0;34m=\u001b[0m\u001b[0;34m'Linear Model'\u001b[0m\u001b[0;34m)\u001b[0m\u001b[0;34m\u001b[0m\u001b[0;34m\u001b[0m\u001b[0m\n\u001b[0m\u001b[1;32m      5\u001b[0m \u001b[0mplt\u001b[0m\u001b[0;34m.\u001b[0m\u001b[0mplot\u001b[0m\u001b[0;34m(\u001b[0m\u001b[0mrbf_svr\u001b[0m\u001b[0;34m.\u001b[0m\u001b[0mpredict\u001b[0m\u001b[0;34m(\u001b[0m\u001b[0mtest_y\u001b[0m\u001b[0;34m)\u001b[0m\u001b[0;34m,\u001b[0m \u001b[0mcolor\u001b[0m\u001b[0;34m=\u001b[0m\u001b[0;34m'blue'\u001b[0m\u001b[0;34m,\u001b[0m \u001b[0mlabel\u001b[0m\u001b[0;34m=\u001b[0m\u001b[0;34m'RBF Model'\u001b[0m\u001b[0;34m)\u001b[0m\u001b[0;34m\u001b[0m\u001b[0;34m\u001b[0m\u001b[0m\n\u001b[1;32m      6\u001b[0m \u001b[0mplt\u001b[0m\u001b[0;34m.\u001b[0m\u001b[0mplot\u001b[0m\u001b[0;34m(\u001b[0m\u001b[0mpoly_svr\u001b[0m\u001b[0;34m.\u001b[0m\u001b[0mpredict\u001b[0m\u001b[0;34m(\u001b[0m\u001b[0mtest_day\u001b[0m\u001b[0;34m)\u001b[0m\u001b[0;34m,\u001b[0m \u001b[0mcolor\u001b[0m\u001b[0;34m=\u001b[0m\u001b[0;34m'orange'\u001b[0m\u001b[0;34m,\u001b[0m \u001b[0mlabel\u001b[0m\u001b[0;34m=\u001b[0m\u001b[0;34m'Poly Model'\u001b[0m\u001b[0;34m)\u001b[0m\u001b[0;34m\u001b[0m\u001b[0;34m\u001b[0m\u001b[0m\n",
            "\u001b[0;32m/usr/local/lib/python3.6/dist-packages/sklearn/svm/_base.py\u001b[0m in \u001b[0;36mpredict\u001b[0;34m(self, X)\u001b[0m\n\u001b[1;32m    313\u001b[0m         \u001b[0my_pred\u001b[0m \u001b[0;34m:\u001b[0m \u001b[0marray\u001b[0m\u001b[0;34m,\u001b[0m \u001b[0mshape\u001b[0m \u001b[0;34m(\u001b[0m\u001b[0mn_samples\u001b[0m\u001b[0;34m,\u001b[0m\u001b[0;34m)\u001b[0m\u001b[0;34m\u001b[0m\u001b[0;34m\u001b[0m\u001b[0m\n\u001b[1;32m    314\u001b[0m         \"\"\"\n\u001b[0;32m--> 315\u001b[0;31m         \u001b[0mX\u001b[0m \u001b[0;34m=\u001b[0m \u001b[0mself\u001b[0m\u001b[0;34m.\u001b[0m\u001b[0m_validate_for_predict\u001b[0m\u001b[0;34m(\u001b[0m\u001b[0mX\u001b[0m\u001b[0;34m)\u001b[0m\u001b[0;34m\u001b[0m\u001b[0;34m\u001b[0m\u001b[0m\n\u001b[0m\u001b[1;32m    316\u001b[0m         \u001b[0mpredict\u001b[0m \u001b[0;34m=\u001b[0m \u001b[0mself\u001b[0m\u001b[0;34m.\u001b[0m\u001b[0m_sparse_predict\u001b[0m \u001b[0;32mif\u001b[0m \u001b[0mself\u001b[0m\u001b[0;34m.\u001b[0m\u001b[0m_sparse\u001b[0m \u001b[0;32melse\u001b[0m \u001b[0mself\u001b[0m\u001b[0;34m.\u001b[0m\u001b[0m_dense_predict\u001b[0m\u001b[0;34m\u001b[0m\u001b[0;34m\u001b[0m\u001b[0m\n\u001b[1;32m    317\u001b[0m         \u001b[0;32mreturn\u001b[0m \u001b[0mpredict\u001b[0m\u001b[0;34m(\u001b[0m\u001b[0mX\u001b[0m\u001b[0;34m)\u001b[0m\u001b[0;34m\u001b[0m\u001b[0;34m\u001b[0m\u001b[0m\n",
            "\u001b[0;32m/usr/local/lib/python3.6/dist-packages/sklearn/svm/_base.py\u001b[0m in \u001b[0;36m_validate_for_predict\u001b[0;34m(self, X)\u001b[0m\n\u001b[1;32m    445\u001b[0m \u001b[0;34m\u001b[0m\u001b[0m\n\u001b[1;32m    446\u001b[0m         X = check_array(X, accept_sparse='csr', dtype=np.float64, order=\"C\",\n\u001b[0;32m--> 447\u001b[0;31m                         accept_large_sparse=False)\n\u001b[0m\u001b[1;32m    448\u001b[0m         \u001b[0;32mif\u001b[0m \u001b[0mself\u001b[0m\u001b[0;34m.\u001b[0m\u001b[0m_sparse\u001b[0m \u001b[0;32mand\u001b[0m \u001b[0;32mnot\u001b[0m \u001b[0msp\u001b[0m\u001b[0;34m.\u001b[0m\u001b[0misspmatrix\u001b[0m\u001b[0;34m(\u001b[0m\u001b[0mX\u001b[0m\u001b[0;34m)\u001b[0m\u001b[0;34m:\u001b[0m\u001b[0;34m\u001b[0m\u001b[0;34m\u001b[0m\u001b[0m\n\u001b[1;32m    449\u001b[0m             \u001b[0mX\u001b[0m \u001b[0;34m=\u001b[0m \u001b[0msp\u001b[0m\u001b[0;34m.\u001b[0m\u001b[0mcsr_matrix\u001b[0m\u001b[0;34m(\u001b[0m\u001b[0mX\u001b[0m\u001b[0;34m)\u001b[0m\u001b[0;34m\u001b[0m\u001b[0;34m\u001b[0m\u001b[0m\n",
            "\u001b[0;32m/usr/local/lib/python3.6/dist-packages/sklearn/utils/validation.py\u001b[0m in \u001b[0;36mcheck_array\u001b[0;34m(array, accept_sparse, accept_large_sparse, dtype, order, copy, force_all_finite, ensure_2d, allow_nd, ensure_min_samples, ensure_min_features, warn_on_dtype, estimator)\u001b[0m\n\u001b[1;32m    554\u001b[0m                     \u001b[0;34m\"Reshape your data either using array.reshape(-1, 1) if \"\u001b[0m\u001b[0;34m\u001b[0m\u001b[0;34m\u001b[0m\u001b[0m\n\u001b[1;32m    555\u001b[0m                     \u001b[0;34m\"your data has a single feature or array.reshape(1, -1) \"\u001b[0m\u001b[0;34m\u001b[0m\u001b[0;34m\u001b[0m\u001b[0m\n\u001b[0;32m--> 556\u001b[0;31m                     \"if it contains a single sample.\".format(array))\n\u001b[0m\u001b[1;32m    557\u001b[0m \u001b[0;34m\u001b[0m\u001b[0m\n\u001b[1;32m    558\u001b[0m         \u001b[0;31m# in the future np.flexible dtypes will be handled like object dtypes\u001b[0m\u001b[0;34m\u001b[0m\u001b[0;34m\u001b[0m\u001b[0;34m\u001b[0m\u001b[0m\n",
            "\u001b[0;31mValueError\u001b[0m: Expected 2D array, got 1D array instead:\narray=[6.01317501 6.01595306 5.55672312 5.48234558 5.2851367  5.53666258\n 5.49407387 5.32957792 5.51752758 5.21693182 4.92682743 4.96540499\n 4.97991133 4.80337811 4.29199505 4.18490267 4.01238346 4.01238346\n 4.05960369 4.07935524 4.17749596 4.12780857 4.06299639 3.99232316\n 3.76517797 3.74172235 3.87257767 3.99510074 3.85344338 3.99355578\n 3.93368459 3.84634519 3.77073288 3.82134819 3.75098062 3.6867888\n 3.6954298  3.67722106 3.79480624 4.00929785].\nReshape your data either using array.reshape(-1, 1) if your data has a single feature or array.reshape(1, -1) if it contains a single sample."
          ]
        },
        {
          "output_type": "display_data",
          "data": {
            "image/png": "[encoded data removed]",
            "text/plain": [
              "<Figure size 1152x576 with 1 Axes>"
            ]
          },
          "metadata": {
            "tags": [],
            "needs_background": "light"
          }
        }
      ]
    },
    {
      "cell_type": "markdown",
      "metadata": {
        "id": "-N60ELpUS40p"
      },
      "source": [
        "### SVC"
      ]
    },
    {
      "cell_type": "code",
      "metadata": {
        "id": "lqvy7s-U1CfG",
        "outputId": "92b81327-83ba-4e80-d955-286efd82dc95",
        "colab": {
          "base_uri": "https://localhost:8080/",
          "height": 136
        }
      },
      "source": [
        "adj_close = pd.concat([df['Adj Close'], df_nas['Adj Close'], df_dow['Adj Close']], axis=1)\n",
        "adj_close = adj_close.values\n",
        "adj_close"
      ],
      "execution_count": 14,
      "outputs": [
        {
          "output_type": "execute_result",
          "data": {
            "text/plain": [
              "array([[6.01317501e+00, 2.60962988e+03, 1.30439600e+04],\n",
              "       [6.01595306e+00, 2.60267993e+03, 1.30567197e+04],\n",
              "       [5.55672312e+00, 2.50464990e+03, 1.28001797e+04],\n",
              "       ...,\n",
              "       [7.19535980e+01, 9.00662012e+03, 2.86452598e+04],\n",
              "       [7.23806534e+01, 8.94599023e+03, 2.84621406e+04],\n",
              "       [7.29095001e+01, 8.97259961e+03, 2.85384395e+04]])"
            ]
          },
          "metadata": {
            "tags": []
          },
          "execution_count": 14
        }
      ]
    },
    {
      "cell_type": "code",
      "metadata": {
        "id": "D6KfmAyV_eHI",
        "outputId": "480617a3-365e-4572-d75b-a8acf93138c6",
        "colab": {
          "base_uri": "https://localhost:8080/",
          "height": 136
        }
      },
      "source": [
        "#creating a new dataframe with the close column\n",
        "close_data = df.filter(['Adj Close'])\n",
        "#convert to np array\n",
        "close_df = close_data.values\n",
        "# #number of rows to train the model on\n",
        "# train_len = int(len(close_df)*.8)\n",
        "# #train_len = 2416\n",
        "close_df"
      ],
      "execution_count": 15,
      "outputs": [
        {
          "output_type": "execute_result",
          "data": {
            "text/plain": [
              "array([[ 6.01317501],\n",
              "       [ 6.01595306],\n",
              "       [ 5.55672312],\n",
              "       ...,\n",
              "       [71.95359802],\n",
              "       [72.38065338],\n",
              "       [72.90950012]])"
            ]
          },
          "metadata": {
            "tags": []
          },
          "execution_count": 15
        }
      ]
    },
    {
      "cell_type": "code",
      "metadata": {
        "id": "o0qLaUfz3y8h",
        "outputId": "b549dc46-fbe6-4116-b238-10ced221500c",
        "colab": {
          "base_uri": "https://localhost:8080/",
          "height": 136
        }
      },
      "source": [
        "#scale the data\n",
        "scaler = MinMaxScaler(feature_range=(0,1))\n",
        "scaled_data = scaler.fit_transform(adj_close)\n",
        "scaled_data"
      ],
      "execution_count": 21,
      "outputs": [
        {
          "output_type": "execute_result",
          "data": {
            "text/plain": [
              "array([[0.17294727, 0.29400165],\n",
              "       [0.17205094, 0.29457906],\n",
              "       [0.15940802, 0.28296997],\n",
              "       ...,\n",
              "       [0.99796621, 1.        ],\n",
              "       [0.99014678, 0.99171339],\n",
              "       [0.99357859, 0.99516611]])"
            ]
          },
          "metadata": {
            "tags": []
          },
          "execution_count": 21
        }
      ]
    },
    {
      "cell_type": "code",
      "metadata": {
        "id": "A4-vcXjU4ngt"
      },
      "source": [
        "#create training dataset\n",
        "X = scaled_data\n",
        "y = dep_df\n",
        "from sklearn.model_selection import train_test_split\n",
        "\n",
        "X_train, X_test, y_train, y_test = \\\n",
        "    train_test_split(X, y, \n",
        "                     test_size=0.25,\n",
        "                     random_state=1)"
      ],
      "execution_count": 22,
      "outputs": []
    },
    {
      "cell_type": "code",
      "metadata": {
        "id": "LcNfnVfGWOj4",
        "outputId": "8ae64ab1-df56-44b0-b032-3d15231f15fa",
        "colab": {
          "base_uri": "https://localhost:8080/",
          "height": 51
        }
      },
      "source": [
        "print(X_train.shape)\n",
        "print(len(y_test))"
      ],
      "execution_count": 23,
      "outputs": [
        {
          "output_type": "stream",
          "text": [
            "(2265, 2)\n",
            "756\n"
          ],
          "name": "stdout"
        }
      ]
    },
    {
      "cell_type": "code",
      "metadata": {
        "id": "WjlGjZPt5olR",
        "outputId": "4eaeed40-4ab9-4ca5-dfa6-fb4be8b88532",
        "colab": {
          "base_uri": "https://localhost:8080/",
          "height": 51
        }
      },
      "source": [
        "#linear kernel\n",
        "lin_svr = SVR(kernel='linear', C=0.1)\n",
        "lin_svr.fit(X_train, y_train)\n",
        "# 0.9 = 87.1\n",
        "\n",
        "\n",
        "# polynomial kernel\n",
        "# poly_svr = SVC(kernel='poly', degree = 1)\n",
        "# poly_svr.fit(X_train, y_train)\n",
        "# # 1 = 87.1\n",
        "\n",
        "# #rbf kernel\n",
        "# rbf_svr = SVC(kernel='rbf', gamma=0.01)\n",
        "# rbf_svr.fit(X_train, y_train)\n"
      ],
      "execution_count": 26,
      "outputs": [
        {
          "output_type": "execute_result",
          "data": {
            "text/plain": [
              "SVR(C=0.1, cache_size=200, coef0=0.0, degree=3, epsilon=0.1, gamma='scale',\n",
              "    kernel='linear', max_iter=-1, shrinking=True, tol=0.001, verbose=False)"
            ]
          },
          "metadata": {
            "tags": []
          },
          "execution_count": 26
        }
      ]
    },
    {
      "cell_type": "code",
      "metadata": {
        "id": "cjsTSPR1UWnB",
        "outputId": "62e06613-87ce-48cf-982d-c5120e2b6c64",
        "colab": {
          "base_uri": "https://localhost:8080/",
          "height": 51
        }
      },
      "source": [
        "print('linear train',lin_svr.score(X_train, y_train))\n",
        "print('linear test',lin_svr.score(X_test, y_test))\n",
        "\n",
        "# print('poly train', poly_svr.score(X_train, y_train))\n",
        "# print('poly test', poly_svr.score(X_test, y_test))\n",
        "\n",
        "# print('rbf train', rbf_svr.score(X_train, y_train))\n",
        "# print('rbf test',rbf_svr.score(X_test, y_test))"
      ],
      "execution_count": 27,
      "outputs": [
        {
          "output_type": "stream",
          "text": [
            "linear train 0.9355376564680374\n",
            "linear test 0.9334529978137224\n"
          ],
          "name": "stdout"
        }
      ]
    },
    {
      "cell_type": "code",
      "metadata": {
        "id": "J1VB2ZEQ7Jz3",
        "outputId": "21b0d78b-638d-4fe0-fec3-1ba269dc3fd5",
        "colab": {
          "base_uri": "https://localhost:8080/",
          "height": 295
        }
      },
      "source": [
        "plt.title('SVR')\n",
        "plt.plot(X, y, color='red',label='Close')\n",
        "plt.plot(X, lin_svr.predict(X), color='green', label='Linear Model')\n",
        "plt.plot(X, rbf_svr.predict(X), color='blue', label='RBF Model')\n",
        "plt.plot(X, poly_svr.predict(X), color='orange', label='Poly Model')\n",
        "plt.xlabel('Date 2008-01-01:2019-12-31')\n",
        "plt.ylabel('Stock Close Price')\n",
        "plt.legend()\n",
        "plt.show()"
      ],
      "execution_count": 32,
      "outputs": [
        {
          "output_type": "display_data",
          "data": {
            "image/png": "[encoded data removed]",
            "text/plain": [
              "<Figure size 432x288 with 1 Axes>"
            ]
          },
          "metadata": {
            "tags": [],
            "needs_background": "light"
          }
        }
      ]
    },
    {
      "cell_type": "code",
      "metadata": {
        "id": "ssTqi1EEY5Ap"
      },
      "source": [
        ""
      ],
      "execution_count": null,
      "outputs": []
    }
  ]
}