{
  "nbformat": 4,
  "nbformat_minor": 0,
  "metadata": {
    "colab": {
      "name": "SVM_Stock_Prediction.ipynb",
      "provenance": [],
      "collapsed_sections": [],
      "authorship_tag": "ABX9TyPfIeYD8pVYadgbXjQFksSa",
      "include_colab_link": true
    },
    "kernelspec": {
      "name": "python3",
      "display_name": "Python 3"
    }
  },
  "cells": [
    {
      "cell_type": "markdown",
      "metadata": {
        "id": "view-in-github",
        "colab_type": "text"
      },
      "source": [
        "<a href=\"https://colab.research.google.com/github/zlibutmatthew/Stock-Prediction-SVM/blob/master/SVM_Stock_Prediction.ipynb\" target=\"_parent\"><img src=\"https://colab.research.google.com/assets/colab-badge.svg\" alt=\"Open In Colab\"/></a>"
      ]
    },
    {
      "cell_type": "code",
      "metadata": {
        "id": "PI3dDje16wV5"
      },
      "source": [
        "import numpy as np\n",
        "import pandas as pd\n",
        "import pandas_datareader as web\n",
        "import matplotlib.pyplot as plt\n",
        "from sklearn.svm import SVC\n",
        "from sklearn.svm import SVR\n",
        "from sklearn.preprocessing import MinMaxScaler"
      ],
      "execution_count": 3,
      "outputs": []
    },
    {
      "cell_type": "code",
      "metadata": {
        "id": "XCAmAxEn40op",
        "outputId": "40011682-8fca-445e-e3e0-3ff8634ada42",
        "colab": {
          "base_uri": "https://localhost:8080/",
          "height": 450
        }
      },
      "source": [
        "#Get the stock info and store into a dataframe\n",
        "df = web.DataReader('AAPL', data_source='yahoo', start='2008-01-01', end='2019-12-31')\n",
        "df"
      ],
      "execution_count": 4,
      "outputs": [
        {
          "output_type": "execute_result",
          "data": {
            "text/html": [
              "<div>\n",
              "<style scoped>\n",
              "    .dataframe tbody tr th:only-of-type {\n",
              "        vertical-align: middle;\n",
              "    }\n",
              "\n",
              "    .dataframe tbody tr th {\n",
              "        vertical-align: top;\n",
              "    }\n",
              "\n",
              "    .dataframe thead th {\n",
              "        text-align: right;\n",
              "    }\n",
              "</style>\n",
              "<table border=\"1\" class=\"dataframe\">\n",
              "  <thead>\n",
              "    <tr style=\"text-align: right;\">\n",
              "      <th></th>\n",
              "      <th>High</th>\n",
              "      <th>Low</th>\n",
              "      <th>Open</th>\n",
              "      <th>Close</th>\n",
              "      <th>Volume</th>\n",
              "      <th>Adj Close</th>\n",
              "    </tr>\n",
              "    <tr>\n",
              "      <th>Date</th>\n",
              "      <th></th>\n",
              "      <th></th>\n",
              "      <th></th>\n",
              "      <th></th>\n",
              "      <th></th>\n",
              "      <th></th>\n",
              "    </tr>\n",
              "  </thead>\n",
              "  <tbody>\n",
              "    <tr>\n",
              "      <th>2008-01-02</th>\n",
              "      <td>7.152143</td>\n",
              "      <td>6.876786</td>\n",
              "      <td>7.116786</td>\n",
              "      <td>6.958571</td>\n",
              "      <td>1.079179e+09</td>\n",
              "      <td>6.013175</td>\n",
              "    </tr>\n",
              "    <tr>\n",
              "      <th>2008-01-03</th>\n",
              "      <td>7.049643</td>\n",
              "      <td>6.881786</td>\n",
              "      <td>6.978929</td>\n",
              "      <td>6.961786</td>\n",
              "      <td>8.420664e+08</td>\n",
              "      <td>6.015953</td>\n",
              "    </tr>\n",
              "    <tr>\n",
              "      <th>2008-01-04</th>\n",
              "      <td>6.892857</td>\n",
              "      <td>6.388928</td>\n",
              "      <td>6.837500</td>\n",
              "      <td>6.430357</td>\n",
              "      <td>1.455832e+09</td>\n",
              "      <td>5.556723</td>\n",
              "    </tr>\n",
              "    <tr>\n",
              "      <th>2008-01-07</th>\n",
              "      <td>6.557143</td>\n",
              "      <td>6.079643</td>\n",
              "      <td>6.473214</td>\n",
              "      <td>6.344285</td>\n",
              "      <td>2.072193e+09</td>\n",
              "      <td>5.482346</td>\n",
              "    </tr>\n",
              "    <tr>\n",
              "      <th>2008-01-08</th>\n",
              "      <td>6.516428</td>\n",
              "      <td>6.100000</td>\n",
              "      <td>6.433571</td>\n",
              "      <td>6.116071</td>\n",
              "      <td>1.523816e+09</td>\n",
              "      <td>5.285137</td>\n",
              "    </tr>\n",
              "    <tr>\n",
              "      <th>...</th>\n",
              "      <td>...</td>\n",
              "      <td>...</td>\n",
              "      <td>...</td>\n",
              "      <td>...</td>\n",
              "      <td>...</td>\n",
              "      <td>...</td>\n",
              "    </tr>\n",
              "    <tr>\n",
              "      <th>2019-12-24</th>\n",
              "      <td>71.222504</td>\n",
              "      <td>70.730003</td>\n",
              "      <td>71.172501</td>\n",
              "      <td>71.067497</td>\n",
              "      <td>4.847880e+07</td>\n",
              "      <td>70.580566</td>\n",
              "    </tr>\n",
              "    <tr>\n",
              "      <th>2019-12-26</th>\n",
              "      <td>72.495003</td>\n",
              "      <td>71.175003</td>\n",
              "      <td>71.205002</td>\n",
              "      <td>72.477501</td>\n",
              "      <td>9.312120e+07</td>\n",
              "      <td>71.980911</td>\n",
              "    </tr>\n",
              "    <tr>\n",
              "      <th>2019-12-27</th>\n",
              "      <td>73.492500</td>\n",
              "      <td>72.029999</td>\n",
              "      <td>72.779999</td>\n",
              "      <td>72.449997</td>\n",
              "      <td>1.462660e+08</td>\n",
              "      <td>71.953598</td>\n",
              "    </tr>\n",
              "    <tr>\n",
              "      <th>2019-12-30</th>\n",
              "      <td>73.172501</td>\n",
              "      <td>71.305000</td>\n",
              "      <td>72.364998</td>\n",
              "      <td>72.879997</td>\n",
              "      <td>1.441144e+08</td>\n",
              "      <td>72.380653</td>\n",
              "    </tr>\n",
              "    <tr>\n",
              "      <th>2019-12-31</th>\n",
              "      <td>73.419998</td>\n",
              "      <td>72.379997</td>\n",
              "      <td>72.482498</td>\n",
              "      <td>73.412498</td>\n",
              "      <td>1.008056e+08</td>\n",
              "      <td>72.909500</td>\n",
              "    </tr>\n",
              "  </tbody>\n",
              "</table>\n",
              "<p>3021 rows × 6 columns</p>\n",
              "</div>"
            ],
            "text/plain": [
              "                 High        Low       Open      Close        Volume  Adj Close\n",
              "Date                                                                           \n",
              "2008-01-02   7.152143   6.876786   7.116786   6.958571  1.079179e+09   6.013175\n",
              "2008-01-03   7.049643   6.881786   6.978929   6.961786  8.420664e+08   6.015953\n",
              "2008-01-04   6.892857   6.388928   6.837500   6.430357  1.455832e+09   5.556723\n",
              "2008-01-07   6.557143   6.079643   6.473214   6.344285  2.072193e+09   5.482346\n",
              "2008-01-08   6.516428   6.100000   6.433571   6.116071  1.523816e+09   5.285137\n",
              "...               ...        ...        ...        ...           ...        ...\n",
              "2019-12-24  71.222504  70.730003  71.172501  71.067497  4.847880e+07  70.580566\n",
              "2019-12-26  72.495003  71.175003  71.205002  72.477501  9.312120e+07  71.980911\n",
              "2019-12-27  73.492500  72.029999  72.779999  72.449997  1.462660e+08  71.953598\n",
              "2019-12-30  73.172501  71.305000  72.364998  72.879997  1.441144e+08  72.380653\n",
              "2019-12-31  73.419998  72.379997  72.482498  73.412498  1.008056e+08  72.909500\n",
              "\n",
              "[3021 rows x 6 columns]"
            ]
          },
          "metadata": {
            "tags": []
          },
          "execution_count": 4
        }
      ]
    },
    {
      "cell_type": "code",
      "metadata": {
        "id": "d03UdOtK4BsO",
        "outputId": "d99f6f03-1cc1-4287-e456-7310a44c332e",
        "colab": {
          "base_uri": "https://localhost:8080/",
          "height": 34
        }
      },
      "source": [
        "df.shape"
      ],
      "execution_count": 5,
      "outputs": [
        {
          "output_type": "execute_result",
          "data": {
            "text/plain": [
              "(3021, 6)"
            ]
          },
          "metadata": {
            "tags": []
          },
          "execution_count": 5
        }
      ]
    },
    {
      "cell_type": "code",
      "metadata": {
        "id": "benMK3TMvXfA",
        "outputId": "af5a3e72-30ed-482a-fc9d-0ec26eee7fc1",
        "colab": {
          "base_uri": "https://localhost:8080/",
          "height": 450
        }
      },
      "source": [
        "df_nas = web.DataReader('^IXIC', data_source='yahoo', start='2008-01-01', end='2019-12-31')\n",
        "df_nas"
      ],
      "execution_count": 6,
      "outputs": [
        {
          "output_type": "execute_result",
          "data": {
            "text/html": [
              "<div>\n",
              "<style scoped>\n",
              "    .dataframe tbody tr th:only-of-type {\n",
              "        vertical-align: middle;\n",
              "    }\n",
              "\n",
              "    .dataframe tbody tr th {\n",
              "        vertical-align: top;\n",
              "    }\n",
              "\n",
              "    .dataframe thead th {\n",
              "        text-align: right;\n",
              "    }\n",
              "</style>\n",
              "<table border=\"1\" class=\"dataframe\">\n",
              "  <thead>\n",
              "    <tr style=\"text-align: right;\">\n",
              "      <th></th>\n",
              "      <th>High</th>\n",
              "      <th>Low</th>\n",
              "      <th>Open</th>\n",
              "      <th>Close</th>\n",
              "      <th>Volume</th>\n",
              "      <th>Adj Close</th>\n",
              "    </tr>\n",
              "    <tr>\n",
              "      <th>Date</th>\n",
              "      <th></th>\n",
              "      <th></th>\n",
              "      <th></th>\n",
              "      <th></th>\n",
              "      <th></th>\n",
              "      <th></th>\n",
              "    </tr>\n",
              "  </thead>\n",
              "  <tbody>\n",
              "    <tr>\n",
              "      <th>2008-01-02</th>\n",
              "      <td>2661.500000</td>\n",
              "      <td>2597.810059</td>\n",
              "      <td>2653.909912</td>\n",
              "      <td>2609.629883</td>\n",
              "      <td>2076690000</td>\n",
              "      <td>2609.629883</td>\n",
              "    </tr>\n",
              "    <tr>\n",
              "      <th>2008-01-03</th>\n",
              "      <td>2624.270020</td>\n",
              "      <td>2592.179932</td>\n",
              "      <td>2611.959961</td>\n",
              "      <td>2602.679932</td>\n",
              "      <td>1970200000</td>\n",
              "      <td>2602.679932</td>\n",
              "    </tr>\n",
              "    <tr>\n",
              "      <th>2008-01-04</th>\n",
              "      <td>2571.080078</td>\n",
              "      <td>2502.679932</td>\n",
              "      <td>2571.080078</td>\n",
              "      <td>2504.649902</td>\n",
              "      <td>2516310000</td>\n",
              "      <td>2504.649902</td>\n",
              "    </tr>\n",
              "    <tr>\n",
              "      <th>2008-01-07</th>\n",
              "      <td>2521.620117</td>\n",
              "      <td>2471.229980</td>\n",
              "      <td>2514.149902</td>\n",
              "      <td>2499.459961</td>\n",
              "      <td>2600100000</td>\n",
              "      <td>2499.459961</td>\n",
              "    </tr>\n",
              "    <tr>\n",
              "      <th>2008-01-08</th>\n",
              "      <td>2527.419922</td>\n",
              "      <td>2440.510010</td>\n",
              "      <td>2506.969971</td>\n",
              "      <td>2440.510010</td>\n",
              "      <td>2566480000</td>\n",
              "      <td>2440.510010</td>\n",
              "    </tr>\n",
              "    <tr>\n",
              "      <th>...</th>\n",
              "      <td>...</td>\n",
              "      <td>...</td>\n",
              "      <td>...</td>\n",
              "      <td>...</td>\n",
              "      <td>...</td>\n",
              "      <td>...</td>\n",
              "    </tr>\n",
              "    <tr>\n",
              "      <th>2019-12-24</th>\n",
              "      <td>8957.120117</td>\n",
              "      <td>8934.360352</td>\n",
              "      <td>8955.009766</td>\n",
              "      <td>8952.879883</td>\n",
              "      <td>1014520000</td>\n",
              "      <td>8952.879883</td>\n",
              "    </tr>\n",
              "    <tr>\n",
              "      <th>2019-12-26</th>\n",
              "      <td>9022.459961</td>\n",
              "      <td>8968.459961</td>\n",
              "      <td>8970.209961</td>\n",
              "      <td>9022.389648</td>\n",
              "      <td>1634920000</td>\n",
              "      <td>9022.389648</td>\n",
              "    </tr>\n",
              "    <tr>\n",
              "      <th>2019-12-27</th>\n",
              "      <td>9052.000000</td>\n",
              "      <td>8987.320312</td>\n",
              "      <td>9049.469727</td>\n",
              "      <td>9006.620117</td>\n",
              "      <td>1832200000</td>\n",
              "      <td>9006.620117</td>\n",
              "    </tr>\n",
              "    <tr>\n",
              "      <th>2019-12-30</th>\n",
              "      <td>9006.360352</td>\n",
              "      <td>8909.190430</td>\n",
              "      <td>9004.450195</td>\n",
              "      <td>8945.990234</td>\n",
              "      <td>2042420000</td>\n",
              "      <td>8945.990234</td>\n",
              "    </tr>\n",
              "    <tr>\n",
              "      <th>2019-12-31</th>\n",
              "      <td>8975.360352</td>\n",
              "      <td>8912.769531</td>\n",
              "      <td>8918.740234</td>\n",
              "      <td>8972.599609</td>\n",
              "      <td>2182800000</td>\n",
              "      <td>8972.599609</td>\n",
              "    </tr>\n",
              "  </tbody>\n",
              "</table>\n",
              "<p>3021 rows × 6 columns</p>\n",
              "</div>"
            ],
            "text/plain": [
              "                   High          Low  ...      Volume    Adj Close\n",
              "Date                                  ...                         \n",
              "2008-01-02  2661.500000  2597.810059  ...  2076690000  2609.629883\n",
              "2008-01-03  2624.270020  2592.179932  ...  1970200000  2602.679932\n",
              "2008-01-04  2571.080078  2502.679932  ...  2516310000  2504.649902\n",
              "2008-01-07  2521.620117  2471.229980  ...  2600100000  2499.459961\n",
              "2008-01-08  2527.419922  2440.510010  ...  2566480000  2440.510010\n",
              "...                 ...          ...  ...         ...          ...\n",
              "2019-12-24  8957.120117  8934.360352  ...  1014520000  8952.879883\n",
              "2019-12-26  9022.459961  8968.459961  ...  1634920000  9022.389648\n",
              "2019-12-27  9052.000000  8987.320312  ...  1832200000  9006.620117\n",
              "2019-12-30  9006.360352  8909.190430  ...  2042420000  8945.990234\n",
              "2019-12-31  8975.360352  8912.769531  ...  2182800000  8972.599609\n",
              "\n",
              "[3021 rows x 6 columns]"
            ]
          },
          "metadata": {
            "tags": []
          },
          "execution_count": 6
        }
      ]
    },
    {
      "cell_type": "code",
      "metadata": {
        "id": "N8SCO4Kv3_ke",
        "outputId": "70821c63-1142-4e18-af72-452ab0d90a8f",
        "colab": {
          "base_uri": "https://localhost:8080/",
          "height": 34
        }
      },
      "source": [
        "df_nas.shape"
      ],
      "execution_count": 7,
      "outputs": [
        {
          "output_type": "execute_result",
          "data": {
            "text/plain": [
              "(3021, 6)"
            ]
          },
          "metadata": {
            "tags": []
          },
          "execution_count": 7
        }
      ]
    },
    {
      "cell_type": "code",
      "metadata": {
        "id": "fcbhSFMEv4fH",
        "outputId": "51455f9c-d90e-4b10-f8ee-ea90d2471d61",
        "colab": {
          "base_uri": "https://localhost:8080/",
          "height": 450
        }
      },
      "source": [
        "df_dow = web.DataReader('^DJI', data_source='yahoo', start='2008-01-01', end='2019-12-31')\n",
        "df_dow"
      ],
      "execution_count": 8,
      "outputs": [
        {
          "output_type": "execute_result",
          "data": {
            "text/html": [
              "<div>\n",
              "<style scoped>\n",
              "    .dataframe tbody tr th:only-of-type {\n",
              "        vertical-align: middle;\n",
              "    }\n",
              "\n",
              "    .dataframe tbody tr th {\n",
              "        vertical-align: top;\n",
              "    }\n",
              "\n",
              "    .dataframe thead th {\n",
              "        text-align: right;\n",
              "    }\n",
              "</style>\n",
              "<table border=\"1\" class=\"dataframe\">\n",
              "  <thead>\n",
              "    <tr style=\"text-align: right;\">\n",
              "      <th></th>\n",
              "      <th>High</th>\n",
              "      <th>Low</th>\n",
              "      <th>Open</th>\n",
              "      <th>Close</th>\n",
              "      <th>Volume</th>\n",
              "      <th>Adj Close</th>\n",
              "    </tr>\n",
              "    <tr>\n",
              "      <th>Date</th>\n",
              "      <th></th>\n",
              "      <th></th>\n",
              "      <th></th>\n",
              "      <th></th>\n",
              "      <th></th>\n",
              "      <th></th>\n",
              "    </tr>\n",
              "  </thead>\n",
              "  <tbody>\n",
              "    <tr>\n",
              "      <th>2008-01-02</th>\n",
              "      <td>13279.540039</td>\n",
              "      <td>12991.370117</td>\n",
              "      <td>13261.820312</td>\n",
              "      <td>13043.959961</td>\n",
              "      <td>239580000</td>\n",
              "      <td>13043.959961</td>\n",
              "    </tr>\n",
              "    <tr>\n",
              "      <th>2008-01-03</th>\n",
              "      <td>13137.929688</td>\n",
              "      <td>13023.559570</td>\n",
              "      <td>13044.120117</td>\n",
              "      <td>13056.719727</td>\n",
              "      <td>200620000</td>\n",
              "      <td>13056.719727</td>\n",
              "    </tr>\n",
              "    <tr>\n",
              "      <th>2008-01-04</th>\n",
              "      <td>13046.719727</td>\n",
              "      <td>12789.040039</td>\n",
              "      <td>13046.559570</td>\n",
              "      <td>12800.179688</td>\n",
              "      <td>304210000</td>\n",
              "      <td>12800.179688</td>\n",
              "    </tr>\n",
              "    <tr>\n",
              "      <th>2008-01-07</th>\n",
              "      <td>12884.150391</td>\n",
              "      <td>12733.839844</td>\n",
              "      <td>12801.150391</td>\n",
              "      <td>12827.490234</td>\n",
              "      <td>306700000</td>\n",
              "      <td>12827.490234</td>\n",
              "    </tr>\n",
              "    <tr>\n",
              "      <th>2008-01-08</th>\n",
              "      <td>12906.419922</td>\n",
              "      <td>12565.410156</td>\n",
              "      <td>12820.900391</td>\n",
              "      <td>12589.070312</td>\n",
              "      <td>322690000</td>\n",
              "      <td>12589.070312</td>\n",
              "    </tr>\n",
              "    <tr>\n",
              "      <th>...</th>\n",
              "      <td>...</td>\n",
              "      <td>...</td>\n",
              "      <td>...</td>\n",
              "      <td>...</td>\n",
              "      <td>...</td>\n",
              "      <td>...</td>\n",
              "    </tr>\n",
              "    <tr>\n",
              "      <th>2019-12-24</th>\n",
              "      <td>28576.800781</td>\n",
              "      <td>28503.210938</td>\n",
              "      <td>28572.570312</td>\n",
              "      <td>28515.449219</td>\n",
              "      <td>86150000</td>\n",
              "      <td>28515.449219</td>\n",
              "    </tr>\n",
              "    <tr>\n",
              "      <th>2019-12-26</th>\n",
              "      <td>28624.099609</td>\n",
              "      <td>28535.150391</td>\n",
              "      <td>28539.460938</td>\n",
              "      <td>28621.390625</td>\n",
              "      <td>155970000</td>\n",
              "      <td>28621.390625</td>\n",
              "    </tr>\n",
              "    <tr>\n",
              "      <th>2019-12-27</th>\n",
              "      <td>28701.660156</td>\n",
              "      <td>28608.980469</td>\n",
              "      <td>28675.339844</td>\n",
              "      <td>28645.259766</td>\n",
              "      <td>182280000</td>\n",
              "      <td>28645.259766</td>\n",
              "    </tr>\n",
              "    <tr>\n",
              "      <th>2019-12-30</th>\n",
              "      <td>28664.689453</td>\n",
              "      <td>28428.980469</td>\n",
              "      <td>28654.759766</td>\n",
              "      <td>28462.140625</td>\n",
              "      <td>181600000</td>\n",
              "      <td>28462.140625</td>\n",
              "    </tr>\n",
              "    <tr>\n",
              "      <th>2019-12-31</th>\n",
              "      <td>28547.349609</td>\n",
              "      <td>28376.490234</td>\n",
              "      <td>28414.640625</td>\n",
              "      <td>28538.439453</td>\n",
              "      <td>193340000</td>\n",
              "      <td>28538.439453</td>\n",
              "    </tr>\n",
              "  </tbody>\n",
              "</table>\n",
              "<p>3021 rows × 6 columns</p>\n",
              "</div>"
            ],
            "text/plain": [
              "                    High           Low  ...     Volume     Adj Close\n",
              "Date                                    ...                         \n",
              "2008-01-02  13279.540039  12991.370117  ...  239580000  13043.959961\n",
              "2008-01-03  13137.929688  13023.559570  ...  200620000  13056.719727\n",
              "2008-01-04  13046.719727  12789.040039  ...  304210000  12800.179688\n",
              "2008-01-07  12884.150391  12733.839844  ...  306700000  12827.490234\n",
              "2008-01-08  12906.419922  12565.410156  ...  322690000  12589.070312\n",
              "...                  ...           ...  ...        ...           ...\n",
              "2019-12-24  28576.800781  28503.210938  ...   86150000  28515.449219\n",
              "2019-12-26  28624.099609  28535.150391  ...  155970000  28621.390625\n",
              "2019-12-27  28701.660156  28608.980469  ...  182280000  28645.259766\n",
              "2019-12-30  28664.689453  28428.980469  ...  181600000  28462.140625\n",
              "2019-12-31  28547.349609  28376.490234  ...  193340000  28538.439453\n",
              "\n",
              "[3021 rows x 6 columns]"
            ]
          },
          "metadata": {
            "tags": []
          },
          "execution_count": 8
        }
      ]
    },
    {
      "cell_type": "code",
      "metadata": {
        "id": "2yZo889S72Xv",
        "outputId": "8e958c38-fca7-4b16-85f0-5b5ccb9c294e",
        "colab": {
          "base_uri": "https://localhost:8080/",
          "height": 34
        }
      },
      "source": [
        "df_dow.shape"
      ],
      "execution_count": 9,
      "outputs": [
        {
          "output_type": "execute_result",
          "data": {
            "text/plain": [
              "(3021, 6)"
            ]
          },
          "metadata": {
            "tags": []
          },
          "execution_count": 9
        }
      ]
    },
    {
      "cell_type": "code",
      "metadata": {
        "id": "pOk9KkVv7-7W",
        "outputId": "53140d8c-dbed-4419-dc8d-5d4abdb7cfea",
        "colab": {
          "base_uri": "https://localhost:8080/",
          "height": 530
        }
      },
      "source": [
        "#Visualize the closing prince of the Apple stock.\n",
        "plt.figure(figsize=(16,8))\n",
        "plt.title('Close Price History')\n",
        "plt.plot(df['Adj Close'], 'r', label='Apple Close')\n",
        "# plt.plot(df_nas['Close'], 'b', label='NASDAQ Close')\n",
        "# plt.plot(df_dow['Close'], 'g', label='Dow Close')\n",
        "plt.xlabel('Date 2008-01-01:2019-12-31')\n",
        "plt.ylabel('Stock Close Price')\n",
        "plt.legend()"
      ],
      "execution_count": 48,
      "outputs": [
        {
          "output_type": "execute_result",
          "data": {
            "text/plain": [
              "<matplotlib.legend.Legend at 0x7f85cec66940>"
            ]
          },
          "metadata": {
            "tags": []
          },
          "execution_count": 48
        },
        {
          "output_type": "display_data",
          "data": {
            "image/png": "[encoded data removed]",
            "text/plain": [
              "<Figure size 1152x576 with 1 Axes>"
            ]
          },
          "metadata": {
            "tags": [],
            "needs_background": "light"
          }
        }
      ]
    },
    {
      "cell_type": "code",
      "metadata": {
        "id": "w7OLfZRe5E3w",
        "outputId": "dbb79c5f-0513-4998-a208-40585064a334",
        "colab": {
          "base_uri": "https://localhost:8080/",
          "height": 51
        }
      },
      "source": [
        "appl_df= df['Adj Close']\n",
        "appl = appl_df.values\n",
        "appl"
      ],
      "execution_count": 49,
      "outputs": [
        {
          "output_type": "execute_result",
          "data": {
            "text/plain": [
              "array([ 6.01317501,  6.01595306,  5.55672312, ..., 71.95359802,\n",
              "       72.38065338, 72.90950012])"
            ]
          },
          "metadata": {
            "tags": []
          },
          "execution_count": 49
        }
      ]
    },
    {
      "cell_type": "code",
      "metadata": {
        "id": "I-p6pjSa5Rim",
        "outputId": "eb469d81-5eaa-4add-d478-45ec19ab50c2",
        "colab": {
          "base_uri": "https://localhost:8080/",
          "height": 136
        }
      },
      "source": [
        "adj_close = pd.concat([df_nas['Adj Close'], df_dow['Adj Close']], axis=1)\n",
        "adj_close = adj_close.values\n",
        "adj_close"
      ],
      "execution_count": 50,
      "outputs": [
        {
          "output_type": "execute_result",
          "data": {
            "text/plain": [
              "array([[ 2609.62988281, 13043.95996094],\n",
              "       [ 2602.67993164, 13056.71972656],\n",
              "       [ 2504.64990234, 12800.1796875 ],\n",
              "       ...,\n",
              "       [ 9006.62011719, 28645.25976562],\n",
              "       [ 8945.99023438, 28462.140625  ],\n",
              "       [ 8972.59960938, 28538.43945312]])"
            ]
          },
          "metadata": {
            "tags": []
          },
          "execution_count": 50
        }
      ]
    },
    {
      "cell_type": "code",
      "metadata": {
        "id": "DfSvfjfj5ak2",
        "outputId": "7328ff84-ec6b-42a2-ddff-a8bbb579c75e",
        "colab": {
          "base_uri": "https://localhost:8080/",
          "height": 697
        }
      },
      "source": [
        "nas_dow_test = adj_close[:40,:]\n",
        "nas_dow_test"
      ],
      "execution_count": 56,
      "outputs": [
        {
          "output_type": "execute_result",
          "data": {
            "text/plain": [
              "array([[ 2609.62988281, 13043.95996094],\n",
              "       [ 2602.67993164, 13056.71972656],\n",
              "       [ 2504.64990234, 12800.1796875 ],\n",
              "       [ 2499.45996094, 12827.49023438],\n",
              "       [ 2440.51000977, 12589.0703125 ],\n",
              "       [ 2474.55004883, 12735.30957031],\n",
              "       [ 2488.52001953, 12853.08984375],\n",
              "       [ 2439.93994141, 12606.29980469],\n",
              "       [ 2478.30004883, 12778.15039062],\n",
              "       [ 2417.59008789, 12501.11035156],\n",
              "       [ 2394.59008789, 12466.16015625],\n",
              "       [ 2346.89990234, 12159.20996094],\n",
              "       [ 2340.02001953, 12099.29980469],\n",
              "       [ 2292.27001953, 11971.19042969],\n",
              "       [ 2316.40991211, 12270.16992188],\n",
              "       [ 2360.91992188, 12378.61035156],\n",
              "       [ 2326.19995117, 12207.16992188],\n",
              "       [ 2349.90991211, 12383.88964844],\n",
              "       [ 2358.06005859, 12480.29980469],\n",
              "       [ 2349.        , 12442.83007812],\n",
              "       [ 2389.86010742, 12650.36035156],\n",
              "       [ 2413.36010742, 12743.19042969],\n",
              "       [ 2382.85009766, 12635.16015625],\n",
              "       [ 2309.57006836, 12265.12988281],\n",
              "       [ 2278.75      , 12200.09960938],\n",
              "       [ 2293.0300293 , 12247.        ],\n",
              "       [ 2304.85009766, 12182.12988281],\n",
              "       [ 2320.06005859, 12240.00976562],\n",
              "       [ 2320.04003906, 12373.41015625],\n",
              "       [ 2373.92993164, 12552.24023438],\n",
              "       [ 2332.54003906, 12376.98046875],\n",
              "       [ 2321.80004883, 12348.20996094],\n",
              "       [ 2306.19995117, 12337.21972656],\n",
              "       [ 2327.10009766, 12427.25976562],\n",
              "       [ 2299.7800293 , 12284.29980469],\n",
              "       [ 2303.35009766, 12381.01953125],\n",
              "       [ 2327.47998047, 12570.21972656],\n",
              "       [ 2344.98999023, 12684.91992188],\n",
              "       [ 2353.7800293 , 12694.28027344],\n",
              "       [ 2331.57006836, 12582.1796875 ]])"
            ]
          },
          "metadata": {
            "tags": []
          },
          "execution_count": 56
        }
      ]
    },
    {
      "cell_type": "code",
      "metadata": {
        "id": "D0yp44FUJ9mp",
        "outputId": "1aee53ee-85dc-4e60-e3c2-de05015ba94c",
        "colab": {
          "base_uri": "https://localhost:8080/",
          "height": 153
        }
      },
      "source": [
        "appl_test = appl[:40]\n",
        "appl_test"
      ],
      "execution_count": 76,
      "outputs": [
        {
          "output_type": "execute_result",
          "data": {
            "text/plain": [
              "array([6.01317501, 6.01595306, 5.55672312, 5.48234558, 5.2851367 ,\n",
              "       5.53666258, 5.49407387, 5.32957792, 5.51752758, 5.21693182,\n",
              "       4.92682743, 4.96540499, 4.97991133, 4.80337811, 4.29199505,\n",
              "       4.18490267, 4.01238346, 4.01238346, 4.05960369, 4.07935524,\n",
              "       4.17749596, 4.12780857, 4.06299639, 3.99232316, 3.76517797,\n",
              "       3.74172235, 3.87257767, 3.99510074, 3.85344338, 3.99355578,\n",
              "       3.93368459, 3.84634519, 3.77073288, 3.82134819, 3.75098062,\n",
              "       3.6867888 , 3.6954298 , 3.67722106, 3.79480624, 4.00929785])"
            ]
          },
          "metadata": {
            "tags": []
          },
          "execution_count": 76
        }
      ]
    },
    {
      "cell_type": "code",
      "metadata": {
        "id": "w26qYyi2JRHn",
        "outputId": "45e109d0-87b6-4a36-cd35-93942e58af9b",
        "colab": {
          "base_uri": "https://localhost:8080/",
          "height": 34
        }
      },
      "source": [
        "day_count=[]\n",
        "for i in range(1, len(appl)+1):\n",
        "  day_count.append(i)\n",
        "day_count[:10]"
      ],
      "execution_count": 73,
      "outputs": [
        {
          "output_type": "execute_result",
          "data": {
            "text/plain": [
              "[1, 2, 3, 4, 5, 6, 7, 8, 9, 10]"
            ]
          },
          "metadata": {
            "tags": []
          },
          "execution_count": 73
        }
      ]
    },
    {
      "cell_type": "code",
      "metadata": {
        "id": "F1G_RJOhzx2o",
        "outputId": "a0192c42-7d43-4739-f052-c5cc1566b7ab",
        "colab": {
          "base_uri": "https://localhost:8080/",
          "height": 51
        }
      },
      "source": [
        "#set up model\n",
        "#linear kernel\n",
        "lin_svr = SVR(kernel='linear', C=1000)\n",
        "lin_svr.fit(nas_dow_test, appl_test)\n",
        "\n",
        "# #polynomial kernel\n",
        "poly_svr = SVR(kernel='poly', degree = 2)\n",
        "poly_svr.fit(nas_dow_test, appl_test)\n",
        "\n",
        "# #rbf kernel\n",
        "rbf_svr = SVR(kernel='rbf', gamma=0.15)\n",
        "rbf_svr.fit(nas_dow_test, appl_test)"
      ],
      "execution_count": 78,
      "outputs": [
        {
          "output_type": "execute_result",
          "data": {
            "text/plain": [
              "SVR(C=1.0, cache_size=200, coef0=0.0, degree=3, epsilon=0.1, gamma=0.15,\n",
              "    kernel='rbf', max_iter=-1, shrinking=True, tol=0.001, verbose=False)"
            ]
          },
          "metadata": {
            "tags": []
          },
          "execution_count": 78
        }
      ]
    },
    {
      "cell_type": "code",
      "metadata": {
        "id": "HtT6ByqFgyU7"
      },
      "source": [
        "print('linear train',lin_svr.score(X_train, y_train))\n",
        "print('linear test',lin_svr.score(X_test, y_test))\n",
        "\n",
        "print('poly train', poly_svr.score(X_train, y_train))\n",
        "print('poly test', poly_svr.score(X_test, y_test))\n",
        "\n",
        "print('rbf train', rbf_svr.score(X_train, y_train))\n",
        "print('rbf test',rbf_svr.score(X_test, y_test))"
      ],
      "execution_count": null,
      "outputs": []
    },
    {
      "cell_type": "markdown",
      "metadata": {
        "id": "Pa241_-wSeS8"
      },
      "source": [
        "### Support Vector Regression"
      ]
    },
    {
      "cell_type": "code",
      "metadata": {
        "id": "lqvy7s-U1CfG",
        "outputId": "d60ca2f7-3a46-4926-bd63-ede8a9eab336",
        "colab": {
          "base_uri": "https://localhost:8080/",
          "height": 136
        }
      },
      "source": [
        "adj_close = pd.concat([df_nas['Adj Close'], df_dow['Adj Close']], axis=1)\n",
        "adj_close = adj_close.values\n",
        "adj_close"
      ],
      "execution_count": 87,
      "outputs": [
        {
          "output_type": "execute_result",
          "data": {
            "text/plain": [
              "array([[ 2609.62988281, 13043.95996094],\n",
              "       [ 2602.67993164, 13056.71972656],\n",
              "       [ 2504.64990234, 12800.1796875 ],\n",
              "       ...,\n",
              "       [ 9006.62011719, 28645.25976562],\n",
              "       [ 8945.99023438, 28462.140625  ],\n",
              "       [ 8972.59960938, 28538.43945312]])"
            ]
          },
          "metadata": {
            "tags": []
          },
          "execution_count": 87
        }
      ]
    },
    {
      "cell_type": "code",
      "metadata": {
        "id": "D6KfmAyV_eHI",
        "outputId": "f812b964-c6c8-413e-c93d-34b72a85b394",
        "colab": {
          "base_uri": "https://localhost:8080/",
          "height": 136
        }
      },
      "source": [
        "#creating a new dataframe with the close column\n",
        "close_data = df.filter(['Adj Close'])\n",
        "#convert to np array\n",
        "close_df = close_data.values\n",
        "# #number of rows to train the model on\n",
        "# train_len = int(len(close_df)*.8)\n",
        "# #train_len = 2416\n",
        "close_df"
      ],
      "execution_count": 88,
      "outputs": [
        {
          "output_type": "execute_result",
          "data": {
            "text/plain": [
              "array([[ 6.01317501],\n",
              "       [ 6.01595306],\n",
              "       [ 5.55672312],\n",
              "       ...,\n",
              "       [71.95359802],\n",
              "       [72.38065338],\n",
              "       [72.90950012]])"
            ]
          },
          "metadata": {
            "tags": []
          },
          "execution_count": 88
        }
      ]
    },
    {
      "cell_type": "code",
      "metadata": {
        "id": "o0qLaUfz3y8h",
        "outputId": "57ab451c-f59c-491b-a446-37c3242829c8",
        "colab": {
          "base_uri": "https://localhost:8080/",
          "height": 136
        }
      },
      "source": [
        "#scale the data\n",
        "scaler = MinMaxScaler(feature_range=(0,1))\n",
        "scaled_data = scaler.fit_transform(adj_close)\n",
        "scaled_data"
      ],
      "execution_count": 89,
      "outputs": [
        {
          "output_type": "execute_result",
          "data": {
            "text/plain": [
              "array([[0.17294727, 0.29400165],\n",
              "       [0.17205094, 0.29457906],\n",
              "       [0.15940802, 0.28296997],\n",
              "       ...,\n",
              "       [0.99796621, 1.        ],\n",
              "       [0.99014678, 0.99171339],\n",
              "       [0.99357859, 0.99516611]])"
            ]
          },
          "metadata": {
            "tags": []
          },
          "execution_count": 89
        }
      ]
    },
    {
      "cell_type": "code",
      "metadata": {
        "id": "A4-vcXjU4ngt"
      },
      "source": [
        "#create training dataset\n",
        "X = scaled_data\n",
        "y = close_df\n",
        "from sklearn.model_selection import train_test_split\n",
        "\n",
        "X_train, X_test, y_train, y_test = \\\n",
        "    train_test_split(X, y, \n",
        "                     test_size=0.25,\n",
        "                     random_state=1)"
      ],
      "execution_count": 123,
      "outputs": []
    },
    {
      "cell_type": "code",
      "metadata": {
        "id": "LcNfnVfGWOj4",
        "outputId": "5a96a644-4b31-4a6b-c8dc-a0648fb6ed14",
        "colab": {
          "base_uri": "https://localhost:8080/",
          "height": 51
        }
      },
      "source": [
        "print(X_train.shape)\n",
        "print(len(y_test))"
      ],
      "execution_count": 124,
      "outputs": [
        {
          "output_type": "stream",
          "text": [
            "(2265, 2)\n",
            "756\n"
          ],
          "name": "stdout"
        }
      ]
    },
    {
      "cell_type": "code",
      "metadata": {
        "id": "WjlGjZPt5olR",
        "outputId": "bc0b7342-55d7-45ee-de48-fa1ed87454de",
        "colab": {
          "base_uri": "https://localhost:8080/",
          "height": 173
        }
      },
      "source": [
        "#linear kernel\n",
        "lin_svr = SVR(kernel='linear', C=0.1)\n",
        "lin_svr.fit(X_train, y_train)\n",
        "# 0.9 = 87.1\n",
        "\n",
        "\n",
        "# polynomial kernel\n",
        "poly_svr = SVR(kernel='poly', degree = 1)\n",
        "poly_svr.fit(X_train, y_train)\n",
        "# # 1 = 87.1\n",
        "\n",
        "# #rbf kernel\n",
        "rbf_svr = SVR(kernel='rbf', gamma=0.15)\n",
        "rbf_svr.fit(X_train, y_train)\n"
      ],
      "execution_count": 125,
      "outputs": [
        {
          "output_type": "stream",
          "text": [
            "/usr/local/lib/python3.6/dist-packages/sklearn/utils/validation.py:760: DataConversionWarning: A column-vector y was passed when a 1d array was expected. Please change the shape of y to (n_samples, ), for example using ravel().\n",
            "  y = column_or_1d(y, warn=True)\n",
            "/usr/local/lib/python3.6/dist-packages/sklearn/utils/validation.py:760: DataConversionWarning: A column-vector y was passed when a 1d array was expected. Please change the shape of y to (n_samples, ), for example using ravel().\n",
            "  y = column_or_1d(y, warn=True)\n",
            "/usr/local/lib/python3.6/dist-packages/sklearn/utils/validation.py:760: DataConversionWarning: A column-vector y was passed when a 1d array was expected. Please change the shape of y to (n_samples, ), for example using ravel().\n",
            "  y = column_or_1d(y, warn=True)\n"
          ],
          "name": "stderr"
        },
        {
          "output_type": "execute_result",
          "data": {
            "text/plain": [
              "SVR(C=1.0, cache_size=200, coef0=0.0, degree=3, epsilon=0.1, gamma=0.15,\n",
              "    kernel='rbf', max_iter=-1, shrinking=True, tol=0.001, verbose=False)"
            ]
          },
          "metadata": {
            "tags": []
          },
          "execution_count": 125
        }
      ]
    },
    {
      "cell_type": "code",
      "metadata": {
        "id": "cjsTSPR1UWnB",
        "outputId": "77b58d9b-80e4-49ed-ded1-2873483891c9",
        "colab": {
          "base_uri": "https://localhost:8080/",
          "height": 119
        }
      },
      "source": [
        "print('linear train',lin_svr.score(X_train, y_train))\n",
        "print('linear test',lin_svr.score(X_test, y_test))\n",
        "\n",
        "print('poly train', poly_svr.score(X_train, y_train))\n",
        "print('poly test', poly_svr.score(X_test, y_test))\n",
        "\n",
        "print('rbf train', rbf_svr.score(X_train, y_train))\n",
        "print('rbf test',rbf_svr.score(X_test, y_test))"
      ],
      "execution_count": 126,
      "outputs": [
        {
          "output_type": "stream",
          "text": [
            "linear train 0.9355376564680374\n",
            "linear test 0.9334529978137224\n",
            "poly train 0.9577194780818229\n",
            "poly test 0.9554117403580352\n",
            "rbf train 0.9501876540949717\n",
            "rbf test 0.947727644785823\n"
          ],
          "name": "stdout"
        }
      ]
    },
    {
      "cell_type": "code",
      "metadata": {
        "id": "J1VB2ZEQ7Jz3",
        "outputId": "9d2c1f0c-31f8-42d0-b1d8-b40ab049b5d5",
        "colab": {
          "base_uri": "https://localhost:8080/",
          "height": 513
        }
      },
      "source": [
        "plt.figure(figsize=(16,8))\n",
        "plt.title('SVR')\n",
        "plt.plot(day_count[:756], y_test, color='red',label='Close')\n",
        "# plt.plot(day_count[:756], lin_svr.predict(X_test), color='green', label='Linear Model')\n",
        "# plt.plot(day_count[:756], rbf_svr.predict(X_test), color='blue', label='RBF Model')\n",
        "# plt.plot(day_count[:756], poly_svr.predict(X_test), color='orange', label='Poly Model')\n",
        "plt.xlabel('Date 2008-01-01:2019-12-31')\n",
        "plt.ylabel('Stock Close Price')\n",
        "plt.legend()\n",
        "plt.show()"
      ],
      "execution_count": 119,
      "outputs": [
        {
          "output_type": "display_data",
          "data": {
            "image/png": "[encoded data removed]",
            "text/plain": [
              "<Figure size 1152x576 with 1 Axes>"
            ]
          },
          "metadata": {
            "tags": [],
            "needs_background": "light"
          }
        }
      ]
    },
    {
      "cell_type": "code",
      "metadata": {
        "id": "ssTqi1EEY5Ap"
      },
      "source": [
        ""
      ],
      "execution_count": null,
      "outputs": []
    }
  ]
}