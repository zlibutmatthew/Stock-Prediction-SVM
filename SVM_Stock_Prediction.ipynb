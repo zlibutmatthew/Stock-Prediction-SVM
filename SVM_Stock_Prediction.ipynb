{
  "nbformat": 4,
  "nbformat_minor": 0,
  "metadata": {
    "colab": {
      "name": "SVM_Stock_Prediction.ipynb",
      "provenance": [],
      "collapsed_sections": [],
      "authorship_tag": "ABX9TyPY1clcCDZG3Eypj8MR8M/X",
      "include_colab_link": true
    },
    "kernelspec": {
      "name": "python3",
      "display_name": "Python 3"
    }
  },
  "cells": [
    {
      "cell_type": "markdown",
      "metadata": {
        "id": "view-in-github",
        "colab_type": "text"
      },
      "source": [
        "<a href=\"https://colab.research.google.com/github/zlibutmatthew/Stock-Prediction-SVM/blob/master/SVM_Stock_Prediction.ipynb\" target=\"_parent\"><img src=\"https://colab.research.google.com/assets/colab-badge.svg\" alt=\"Open In Colab\"/></a>"
      ]
    },
    {
      "cell_type": "code",
      "metadata": {
        "id": "PI3dDje16wV5"
      },
      "source": [
        "import numpy as np\n",
        "import pandas as pd\n",
        "import pandas_datareader as web\n",
        "import matplotlib.pyplot as plt\n",
        "from sklearn.svm import SVC\n",
        "from sklearn.svm import SVR\n",
        "from sklearn.preprocessing import MinMaxScaler\n",
        "from sklearn.model_selection import GridSearchCV\n",
        "from sklearn.metrics import confusion_matrix"
      ],
      "execution_count": 1,
      "outputs": []
    },
    {
      "cell_type": "markdown",
      "metadata": {
        "id": "En-0US-a8sZn"
      },
      "source": [
        "## Using API to Import Data from Yahoo\n",
        "\n",
        "### Data Attributes:\n",
        "High: The highest price of the day\n",
        "\n",
        "Low: The lowest price of the day\n",
        "\n",
        "Open: The opening price of the day\n",
        "\n",
        "Close: The Closing price of the day\n",
        "\n",
        "Volume: Amount of stocks traded in the day\n",
        "\n",
        "Adjusted Close: The adjusted closing price amends a stock's closing price to reflect that stock's value after accounting for any corporate actions."
      ]
    },
    {
      "cell_type": "code",
      "metadata": {
        "id": "XCAmAxEn40op",
        "outputId": "46322667-96a8-4977-be3a-ea63bbd36031",
        "colab": {
          "base_uri": "https://localhost:8080/",
          "height": 235
        }
      },
      "source": [
        "#Get the stock info and store into a dataframe\n",
        "df = web.DataReader('AAPL', data_source='yahoo', start='2014-10-23', end='2020-12-31')\n",
        "df.head()"
      ],
      "execution_count": 2,
      "outputs": [
        {
          "output_type": "execute_result",
          "data": {
            "text/html": [
              "<div>\n",
              "<style scoped>\n",
              "    .dataframe tbody tr th:only-of-type {\n",
              "        vertical-align: middle;\n",
              "    }\n",
              "\n",
              "    .dataframe tbody tr th {\n",
              "        vertical-align: top;\n",
              "    }\n",
              "\n",
              "    .dataframe thead th {\n",
              "        text-align: right;\n",
              "    }\n",
              "</style>\n",
              "<table border=\"1\" class=\"dataframe\">\n",
              "  <thead>\n",
              "    <tr style=\"text-align: right;\">\n",
              "      <th></th>\n",
              "      <th>High</th>\n",
              "      <th>Low</th>\n",
              "      <th>Open</th>\n",
              "      <th>Close</th>\n",
              "      <th>Volume</th>\n",
              "      <th>Adj Close</th>\n",
              "    </tr>\n",
              "    <tr>\n",
              "      <th>Date</th>\n",
              "      <th></th>\n",
              "      <th></th>\n",
              "      <th></th>\n",
              "      <th></th>\n",
              "      <th></th>\n",
              "      <th></th>\n",
              "    </tr>\n",
              "  </thead>\n",
              "  <tbody>\n",
              "    <tr>\n",
              "      <th>2014-10-23</th>\n",
              "      <td>26.262501</td>\n",
              "      <td>25.907499</td>\n",
              "      <td>26.0200</td>\n",
              "      <td>26.207500</td>\n",
              "      <td>284298800.0</td>\n",
              "      <td>23.577621</td>\n",
              "    </tr>\n",
              "    <tr>\n",
              "      <th>2014-10-24</th>\n",
              "      <td>26.372499</td>\n",
              "      <td>26.132500</td>\n",
              "      <td>26.2950</td>\n",
              "      <td>26.305000</td>\n",
              "      <td>188215600.0</td>\n",
              "      <td>23.665333</td>\n",
              "    </tr>\n",
              "    <tr>\n",
              "      <th>2014-10-27</th>\n",
              "      <td>26.370001</td>\n",
              "      <td>26.174999</td>\n",
              "      <td>26.2125</td>\n",
              "      <td>26.277500</td>\n",
              "      <td>136750800.0</td>\n",
              "      <td>23.640593</td>\n",
              "    </tr>\n",
              "    <tr>\n",
              "      <th>2014-10-28</th>\n",
              "      <td>26.684999</td>\n",
              "      <td>26.337500</td>\n",
              "      <td>26.3500</td>\n",
              "      <td>26.684999</td>\n",
              "      <td>192243600.0</td>\n",
              "      <td>24.007200</td>\n",
              "    </tr>\n",
              "    <tr>\n",
              "      <th>2014-10-29</th>\n",
              "      <td>26.842501</td>\n",
              "      <td>26.590000</td>\n",
              "      <td>26.6625</td>\n",
              "      <td>26.834999</td>\n",
              "      <td>210751600.0</td>\n",
              "      <td>24.142147</td>\n",
              "    </tr>\n",
              "  </tbody>\n",
              "</table>\n",
              "</div>"
            ],
            "text/plain": [
              "                 High        Low     Open      Close       Volume  Adj Close\n",
              "Date                                                                        \n",
              "2014-10-23  26.262501  25.907499  26.0200  26.207500  284298800.0  23.577621\n",
              "2014-10-24  26.372499  26.132500  26.2950  26.305000  188215600.0  23.665333\n",
              "2014-10-27  26.370001  26.174999  26.2125  26.277500  136750800.0  23.640593\n",
              "2014-10-28  26.684999  26.337500  26.3500  26.684999  192243600.0  24.007200\n",
              "2014-10-29  26.842501  26.590000  26.6625  26.834999  210751600.0  24.142147"
            ]
          },
          "metadata": {
            "tags": []
          },
          "execution_count": 2
        }
      ]
    },
    {
      "cell_type": "code",
      "metadata": {
        "id": "benMK3TMvXfA",
        "outputId": "5dbc06b8-c61c-4a83-fac1-3b0136ede8d7",
        "colab": {
          "base_uri": "https://localhost:8080/",
          "height": 320
        }
      },
      "source": [
        "'''Nasdaq is a global electronic marketplace for buying and selling securities'''\n",
        "df_nas = web.DataReader('^IXIC', data_source='yahoo', start='2014-10-23', end='2020-12-31')\n",
        "df_nas.head()"
      ],
      "execution_count": 3,
      "outputs": [
        {
          "output_type": "execute_result",
          "data": {
            "text/html": [
              "<div>\n",
              "<style scoped>\n",
              "    .dataframe tbody tr th:only-of-type {\n",
              "        vertical-align: middle;\n",
              "    }\n",
              "\n",
              "    .dataframe tbody tr th {\n",
              "        vertical-align: top;\n",
              "    }\n",
              "\n",
              "    .dataframe thead th {\n",
              "        text-align: right;\n",
              "    }\n",
              "</style>\n",
              "<table border=\"1\" class=\"dataframe\">\n",
              "  <thead>\n",
              "    <tr style=\"text-align: right;\">\n",
              "      <th></th>\n",
              "      <th>High</th>\n",
              "      <th>Low</th>\n",
              "      <th>Open</th>\n",
              "      <th>Close</th>\n",
              "      <th>Volume</th>\n",
              "      <th>Adj Close</th>\n",
              "    </tr>\n",
              "    <tr>\n",
              "      <th>Date</th>\n",
              "      <th></th>\n",
              "      <th></th>\n",
              "      <th></th>\n",
              "      <th></th>\n",
              "      <th></th>\n",
              "      <th></th>\n",
              "    </tr>\n",
              "  </thead>\n",
              "  <tbody>\n",
              "    <tr>\n",
              "      <th>2014-10-23</th>\n",
              "      <td>4475.549805</td>\n",
              "      <td>4421.560059</td>\n",
              "      <td>4427.439941</td>\n",
              "      <td>4452.790039</td>\n",
              "      <td>1952380000</td>\n",
              "      <td>4452.790039</td>\n",
              "    </tr>\n",
              "    <tr>\n",
              "      <th>2014-10-24</th>\n",
              "      <td>4486.259766</td>\n",
              "      <td>4445.850098</td>\n",
              "      <td>4459.459961</td>\n",
              "      <td>4483.720215</td>\n",
              "      <td>1754300000</td>\n",
              "      <td>4483.720215</td>\n",
              "    </tr>\n",
              "    <tr>\n",
              "      <th>2014-10-27</th>\n",
              "      <td>4489.600098</td>\n",
              "      <td>4450.290039</td>\n",
              "      <td>4469.020020</td>\n",
              "      <td>4485.930176</td>\n",
              "      <td>1585580000</td>\n",
              "      <td>4485.930176</td>\n",
              "    </tr>\n",
              "    <tr>\n",
              "      <th>2014-10-28</th>\n",
              "      <td>4564.290039</td>\n",
              "      <td>4505.109863</td>\n",
              "      <td>4505.729980</td>\n",
              "      <td>4564.290039</td>\n",
              "      <td>1966920000</td>\n",
              "      <td>4564.290039</td>\n",
              "    </tr>\n",
              "    <tr>\n",
              "      <th>2014-10-29</th>\n",
              "      <td>4564.439941</td>\n",
              "      <td>4517.020020</td>\n",
              "      <td>4551.370117</td>\n",
              "      <td>4549.229980</td>\n",
              "      <td>2184050000</td>\n",
              "      <td>4549.229980</td>\n",
              "    </tr>\n",
              "  </tbody>\n",
              "</table>\n",
              "</div>"
            ],
            "text/plain": [
              "                   High          Low  ...      Volume    Adj Close\n",
              "Date                                  ...                         \n",
              "2014-10-23  4475.549805  4421.560059  ...  1952380000  4452.790039\n",
              "2014-10-24  4486.259766  4445.850098  ...  1754300000  4483.720215\n",
              "2014-10-27  4489.600098  4450.290039  ...  1585580000  4485.930176\n",
              "2014-10-28  4564.290039  4505.109863  ...  1966920000  4564.290039\n",
              "2014-10-29  4564.439941  4517.020020  ...  2184050000  4549.229980\n",
              "\n",
              "[5 rows x 6 columns]"
            ]
          },
          "metadata": {
            "tags": []
          },
          "execution_count": 3
        }
      ]
    },
    {
      "cell_type": "code",
      "metadata": {
        "id": "fcbhSFMEv4fH",
        "outputId": "2076425a-e21f-421a-e3c0-e338cbbdcb50",
        "colab": {
          "base_uri": "https://localhost:8080/",
          "height": 340
        }
      },
      "source": [
        "'''The DJIA is a price-weighted index that tracks 30 large, publicly-owned companies trading \n",
        "on the New York Stock Exchange and the NASDAQ.'''\n",
        "df_dow = web.DataReader('^DJI', data_source='yahoo', start='2014-10-23', end='2020-12-31')\n",
        "df_dow.head()"
      ],
      "execution_count": 4,
      "outputs": [
        {
          "output_type": "execute_result",
          "data": {
            "text/html": [
              "<div>\n",
              "<style scoped>\n",
              "    .dataframe tbody tr th:only-of-type {\n",
              "        vertical-align: middle;\n",
              "    }\n",
              "\n",
              "    .dataframe tbody tr th {\n",
              "        vertical-align: top;\n",
              "    }\n",
              "\n",
              "    .dataframe thead th {\n",
              "        text-align: right;\n",
              "    }\n",
              "</style>\n",
              "<table border=\"1\" class=\"dataframe\">\n",
              "  <thead>\n",
              "    <tr style=\"text-align: right;\">\n",
              "      <th></th>\n",
              "      <th>High</th>\n",
              "      <th>Low</th>\n",
              "      <th>Open</th>\n",
              "      <th>Close</th>\n",
              "      <th>Volume</th>\n",
              "      <th>Adj Close</th>\n",
              "    </tr>\n",
              "    <tr>\n",
              "      <th>Date</th>\n",
              "      <th></th>\n",
              "      <th></th>\n",
              "      <th></th>\n",
              "      <th></th>\n",
              "      <th></th>\n",
              "      <th></th>\n",
              "    </tr>\n",
              "  </thead>\n",
              "  <tbody>\n",
              "    <tr>\n",
              "      <th>2014-10-23</th>\n",
              "      <td>16767.519531</td>\n",
              "      <td>16468.070312</td>\n",
              "      <td>16468.070312</td>\n",
              "      <td>16677.900391</td>\n",
              "      <td>99420000</td>\n",
              "      <td>16677.900391</td>\n",
              "    </tr>\n",
              "    <tr>\n",
              "      <th>2014-10-24</th>\n",
              "      <td>16811.710938</td>\n",
              "      <td>16649.720703</td>\n",
              "      <td>16677.039062</td>\n",
              "      <td>16805.410156</td>\n",
              "      <td>90400000</td>\n",
              "      <td>16805.410156</td>\n",
              "    </tr>\n",
              "    <tr>\n",
              "      <th>2014-10-27</th>\n",
              "      <td>16836.980469</td>\n",
              "      <td>16729.830078</td>\n",
              "      <td>16796.099609</td>\n",
              "      <td>16817.939453</td>\n",
              "      <td>72580000</td>\n",
              "      <td>16817.939453</td>\n",
              "    </tr>\n",
              "    <tr>\n",
              "      <th>2014-10-28</th>\n",
              "      <td>17006.449219</td>\n",
              "      <td>16825.189453</td>\n",
              "      <td>16825.189453</td>\n",
              "      <td>17005.750000</td>\n",
              "      <td>83870000</td>\n",
              "      <td>17005.750000</td>\n",
              "    </tr>\n",
              "    <tr>\n",
              "      <th>2014-10-29</th>\n",
              "      <td>17065.500000</td>\n",
              "      <td>16895.380859</td>\n",
              "      <td>17005.070312</td>\n",
              "      <td>16974.310547</td>\n",
              "      <td>76450000</td>\n",
              "      <td>16974.310547</td>\n",
              "    </tr>\n",
              "  </tbody>\n",
              "</table>\n",
              "</div>"
            ],
            "text/plain": [
              "                    High           Low  ...    Volume     Adj Close\n",
              "Date                                    ...                        \n",
              "2014-10-23  16767.519531  16468.070312  ...  99420000  16677.900391\n",
              "2014-10-24  16811.710938  16649.720703  ...  90400000  16805.410156\n",
              "2014-10-27  16836.980469  16729.830078  ...  72580000  16817.939453\n",
              "2014-10-28  17006.449219  16825.189453  ...  83870000  17005.750000\n",
              "2014-10-29  17065.500000  16895.380859  ...  76450000  16974.310547\n",
              "\n",
              "[5 rows x 6 columns]"
            ]
          },
          "metadata": {
            "tags": []
          },
          "execution_count": 4
        }
      ]
    },
    {
      "cell_type": "code",
      "metadata": {
        "id": "o9yCsKKD7V8y",
        "outputId": "d1bf1c37-08ba-4bbc-c254-aa2caa64bcdb",
        "colab": {
          "base_uri": "https://localhost:8080/",
          "height": 320
        }
      },
      "source": [
        "'''S&P 500 tracks the top 500 traded stocks'''\n",
        "df_snp = web.DataReader('^GSPC', data_source='yahoo', start='2014-10-23', end='2020-12-31')\n",
        "df_snp.head()"
      ],
      "execution_count": 5,
      "outputs": [
        {
          "output_type": "execute_result",
          "data": {
            "text/html": [
              "<div>\n",
              "<style scoped>\n",
              "    .dataframe tbody tr th:only-of-type {\n",
              "        vertical-align: middle;\n",
              "    }\n",
              "\n",
              "    .dataframe tbody tr th {\n",
              "        vertical-align: top;\n",
              "    }\n",
              "\n",
              "    .dataframe thead th {\n",
              "        text-align: right;\n",
              "    }\n",
              "</style>\n",
              "<table border=\"1\" class=\"dataframe\">\n",
              "  <thead>\n",
              "    <tr style=\"text-align: right;\">\n",
              "      <th></th>\n",
              "      <th>High</th>\n",
              "      <th>Low</th>\n",
              "      <th>Open</th>\n",
              "      <th>Close</th>\n",
              "      <th>Volume</th>\n",
              "      <th>Adj Close</th>\n",
              "    </tr>\n",
              "    <tr>\n",
              "      <th>Date</th>\n",
              "      <th></th>\n",
              "      <th></th>\n",
              "      <th></th>\n",
              "      <th></th>\n",
              "      <th></th>\n",
              "      <th></th>\n",
              "    </tr>\n",
              "  </thead>\n",
              "  <tbody>\n",
              "    <tr>\n",
              "      <th>2014-10-23</th>\n",
              "      <td>1961.949951</td>\n",
              "      <td>1931.020020</td>\n",
              "      <td>1931.020020</td>\n",
              "      <td>1950.819946</td>\n",
              "      <td>3789250000</td>\n",
              "      <td>1950.819946</td>\n",
              "    </tr>\n",
              "    <tr>\n",
              "      <th>2014-10-24</th>\n",
              "      <td>1965.270020</td>\n",
              "      <td>1946.270020</td>\n",
              "      <td>1951.589966</td>\n",
              "      <td>1964.579956</td>\n",
              "      <td>3078380000</td>\n",
              "      <td>1964.579956</td>\n",
              "    </tr>\n",
              "    <tr>\n",
              "      <th>2014-10-27</th>\n",
              "      <td>1964.640015</td>\n",
              "      <td>1951.369995</td>\n",
              "      <td>1962.969971</td>\n",
              "      <td>1961.630005</td>\n",
              "      <td>3538860000</td>\n",
              "      <td>1961.630005</td>\n",
              "    </tr>\n",
              "    <tr>\n",
              "      <th>2014-10-28</th>\n",
              "      <td>1985.050049</td>\n",
              "      <td>1964.140015</td>\n",
              "      <td>1964.140015</td>\n",
              "      <td>1985.050049</td>\n",
              "      <td>3653260000</td>\n",
              "      <td>1985.050049</td>\n",
              "    </tr>\n",
              "    <tr>\n",
              "      <th>2014-10-29</th>\n",
              "      <td>1991.400024</td>\n",
              "      <td>1969.040039</td>\n",
              "      <td>1983.290039</td>\n",
              "      <td>1982.300049</td>\n",
              "      <td>3740350000</td>\n",
              "      <td>1982.300049</td>\n",
              "    </tr>\n",
              "  </tbody>\n",
              "</table>\n",
              "</div>"
            ],
            "text/plain": [
              "                   High          Low  ...      Volume    Adj Close\n",
              "Date                                  ...                         \n",
              "2014-10-23  1961.949951  1931.020020  ...  3789250000  1950.819946\n",
              "2014-10-24  1965.270020  1946.270020  ...  3078380000  1964.579956\n",
              "2014-10-27  1964.640015  1951.369995  ...  3538860000  1961.630005\n",
              "2014-10-28  1985.050049  1964.140015  ...  3653260000  1985.050049\n",
              "2014-10-29  1991.400024  1969.040039  ...  3740350000  1982.300049\n",
              "\n",
              "[5 rows x 6 columns]"
            ]
          },
          "metadata": {
            "tags": []
          },
          "execution_count": 5
        }
      ]
    },
    {
      "cell_type": "code",
      "metadata": {
        "id": "b4iKlrcr7V_X",
        "outputId": "7fd8f7d1-fba5-4fb6-bb52-039ccb76e5f8",
        "colab": {
          "base_uri": "https://localhost:8080/",
          "height": 340
        }
      },
      "source": [
        "'''The Nikkei is short for Japan's Nikkei 225 Stock Average, the leading and most-respected index of Japanese stocks.'''\n",
        "df_nik = web.DataReader('^N225', data_source='yahoo', start='2014-10-23', end='2020-12-31')\n",
        "df_nik.head()"
      ],
      "execution_count": 6,
      "outputs": [
        {
          "output_type": "execute_result",
          "data": {
            "text/html": [
              "<div>\n",
              "<style scoped>\n",
              "    .dataframe tbody tr th:only-of-type {\n",
              "        vertical-align: middle;\n",
              "    }\n",
              "\n",
              "    .dataframe tbody tr th {\n",
              "        vertical-align: top;\n",
              "    }\n",
              "\n",
              "    .dataframe thead th {\n",
              "        text-align: right;\n",
              "    }\n",
              "</style>\n",
              "<table border=\"1\" class=\"dataframe\">\n",
              "  <thead>\n",
              "    <tr style=\"text-align: right;\">\n",
              "      <th></th>\n",
              "      <th>High</th>\n",
              "      <th>Low</th>\n",
              "      <th>Open</th>\n",
              "      <th>Close</th>\n",
              "      <th>Volume</th>\n",
              "      <th>Adj Close</th>\n",
              "    </tr>\n",
              "    <tr>\n",
              "      <th>Date</th>\n",
              "      <th></th>\n",
              "      <th></th>\n",
              "      <th></th>\n",
              "      <th></th>\n",
              "      <th></th>\n",
              "      <th></th>\n",
              "    </tr>\n",
              "  </thead>\n",
              "  <tbody>\n",
              "    <tr>\n",
              "      <th>2014-10-23</th>\n",
              "      <td>15232.509766</td>\n",
              "      <td>15059.639648</td>\n",
              "      <td>15093.780273</td>\n",
              "      <td>15138.959961</td>\n",
              "      <td>119600.0</td>\n",
              "      <td>15138.959961</td>\n",
              "    </tr>\n",
              "    <tr>\n",
              "      <th>2014-10-24</th>\n",
              "      <td>15377.049805</td>\n",
              "      <td>15232.000000</td>\n",
              "      <td>15354.349609</td>\n",
              "      <td>15291.639648</td>\n",
              "      <td>121800.0</td>\n",
              "      <td>15291.639648</td>\n",
              "    </tr>\n",
              "    <tr>\n",
              "      <th>2014-10-27</th>\n",
              "      <td>15424.049805</td>\n",
              "      <td>15333.709961</td>\n",
              "      <td>15404.280273</td>\n",
              "      <td>15388.719727</td>\n",
              "      <td>121000.0</td>\n",
              "      <td>15388.719727</td>\n",
              "    </tr>\n",
              "    <tr>\n",
              "      <th>2014-10-28</th>\n",
              "      <td>15374.459961</td>\n",
              "      <td>15263.360352</td>\n",
              "      <td>15363.280273</td>\n",
              "      <td>15329.910156</td>\n",
              "      <td>122300.0</td>\n",
              "      <td>15329.910156</td>\n",
              "    </tr>\n",
              "    <tr>\n",
              "      <th>2014-10-29</th>\n",
              "      <td>15595.290039</td>\n",
              "      <td>15394.790039</td>\n",
              "      <td>15442.389648</td>\n",
              "      <td>15553.910156</td>\n",
              "      <td>148800.0</td>\n",
              "      <td>15553.910156</td>\n",
              "    </tr>\n",
              "  </tbody>\n",
              "</table>\n",
              "</div>"
            ],
            "text/plain": [
              "                    High           Low  ...    Volume     Adj Close\n",
              "Date                                    ...                        \n",
              "2014-10-23  15232.509766  15059.639648  ...  119600.0  15138.959961\n",
              "2014-10-24  15377.049805  15232.000000  ...  121800.0  15291.639648\n",
              "2014-10-27  15424.049805  15333.709961  ...  121000.0  15388.719727\n",
              "2014-10-28  15374.459961  15263.360352  ...  122300.0  15329.910156\n",
              "2014-10-29  15595.290039  15394.790039  ...  148800.0  15553.910156\n",
              "\n",
              "[5 rows x 6 columns]"
            ]
          },
          "metadata": {
            "tags": []
          },
          "execution_count": 6
        }
      ]
    },
    {
      "cell_type": "code",
      "metadata": {
        "id": "M7JsKsa77WCy",
        "outputId": "97b3b047-e5dc-4a02-fef2-13c232d84120",
        "colab": {
          "base_uri": "https://localhost:8080/",
          "height": 340
        }
      },
      "source": [
        "'''The Hang Seng Index (HSI) is a freefloat-adjusted market-capitalization-weighted stock-market index in Hong Kong.'''\n",
        "df_hsi = web.DataReader('^HSI', data_source='yahoo', start='2014-10-23', end='2020-12-31')\n",
        "df_hsi.head()"
      ],
      "execution_count": 7,
      "outputs": [
        {
          "output_type": "execute_result",
          "data": {
            "text/html": [
              "<div>\n",
              "<style scoped>\n",
              "    .dataframe tbody tr th:only-of-type {\n",
              "        vertical-align: middle;\n",
              "    }\n",
              "\n",
              "    .dataframe tbody tr th {\n",
              "        vertical-align: top;\n",
              "    }\n",
              "\n",
              "    .dataframe thead th {\n",
              "        text-align: right;\n",
              "    }\n",
              "</style>\n",
              "<table border=\"1\" class=\"dataframe\">\n",
              "  <thead>\n",
              "    <tr style=\"text-align: right;\">\n",
              "      <th></th>\n",
              "      <th>High</th>\n",
              "      <th>Low</th>\n",
              "      <th>Open</th>\n",
              "      <th>Close</th>\n",
              "      <th>Volume</th>\n",
              "      <th>Adj Close</th>\n",
              "    </tr>\n",
              "    <tr>\n",
              "      <th>Date</th>\n",
              "      <th></th>\n",
              "      <th></th>\n",
              "      <th></th>\n",
              "      <th></th>\n",
              "      <th></th>\n",
              "      <th></th>\n",
              "    </tr>\n",
              "  </thead>\n",
              "  <tbody>\n",
              "    <tr>\n",
              "      <th>2014-10-23</th>\n",
              "      <td>23397.169922</td>\n",
              "      <td>23221.689453</td>\n",
              "      <td>23296.000000</td>\n",
              "      <td>23333.179688</td>\n",
              "      <td>1.038978e+09</td>\n",
              "      <td>23333.179688</td>\n",
              "    </tr>\n",
              "    <tr>\n",
              "      <th>2014-10-24</th>\n",
              "      <td>23352.589844</td>\n",
              "      <td>23157.480469</td>\n",
              "      <td>23311.880859</td>\n",
              "      <td>23302.199219</td>\n",
              "      <td>1.201348e+09</td>\n",
              "      <td>23302.199219</td>\n",
              "    </tr>\n",
              "    <tr>\n",
              "      <th>2014-10-27</th>\n",
              "      <td>23275.400391</td>\n",
              "      <td>23012.800781</td>\n",
              "      <td>23275.400391</td>\n",
              "      <td>23143.230469</td>\n",
              "      <td>1.229645e+09</td>\n",
              "      <td>23143.230469</td>\n",
              "    </tr>\n",
              "    <tr>\n",
              "      <th>2014-10-28</th>\n",
              "      <td>23570.919922</td>\n",
              "      <td>23189.830078</td>\n",
              "      <td>23189.830078</td>\n",
              "      <td>23520.359375</td>\n",
              "      <td>1.889125e+09</td>\n",
              "      <td>23520.359375</td>\n",
              "    </tr>\n",
              "    <tr>\n",
              "      <th>2014-10-29</th>\n",
              "      <td>23855.669922</td>\n",
              "      <td>23699.560547</td>\n",
              "      <td>23703.949219</td>\n",
              "      <td>23819.869141</td>\n",
              "      <td>2.017536e+09</td>\n",
              "      <td>23819.869141</td>\n",
              "    </tr>\n",
              "  </tbody>\n",
              "</table>\n",
              "</div>"
            ],
            "text/plain": [
              "                    High           Low  ...        Volume     Adj Close\n",
              "Date                                    ...                            \n",
              "2014-10-23  23397.169922  23221.689453  ...  1.038978e+09  23333.179688\n",
              "2014-10-24  23352.589844  23157.480469  ...  1.201348e+09  23302.199219\n",
              "2014-10-27  23275.400391  23012.800781  ...  1.229645e+09  23143.230469\n",
              "2014-10-28  23570.919922  23189.830078  ...  1.889125e+09  23520.359375\n",
              "2014-10-29  23855.669922  23699.560547  ...  2.017536e+09  23819.869141\n",
              "\n",
              "[5 rows x 6 columns]"
            ]
          },
          "metadata": {
            "tags": []
          },
          "execution_count": 7
        }
      ]
    },
    {
      "cell_type": "code",
      "metadata": {
        "id": "RVWiU8ry7WIZ",
        "outputId": "2ab93613-b874-4e40-a3cb-5cfcbe4b9cd9",
        "colab": {
          "base_uri": "https://localhost:8080/",
          "height": 235
        }
      },
      "source": [
        "'''The DAX—also known as the Deutscher Aktien Index—is a stock index that represents 30 of the largest and most \n",
        "liquid German companies that trade on the Frankfurt Exchange.'''\n",
        "df_dax = web.DataReader('DAX', data_source='yahoo', start='2014-10-23', end='2020-12-31')\n",
        "df_dax.head()"
      ],
      "execution_count": 8,
      "outputs": [
        {
          "output_type": "execute_result",
          "data": {
            "text/html": [
              "<div>\n",
              "<style scoped>\n",
              "    .dataframe tbody tr th:only-of-type {\n",
              "        vertical-align: middle;\n",
              "    }\n",
              "\n",
              "    .dataframe tbody tr th {\n",
              "        vertical-align: top;\n",
              "    }\n",
              "\n",
              "    .dataframe thead th {\n",
              "        text-align: right;\n",
              "    }\n",
              "</style>\n",
              "<table border=\"1\" class=\"dataframe\">\n",
              "  <thead>\n",
              "    <tr style=\"text-align: right;\">\n",
              "      <th></th>\n",
              "      <th>High</th>\n",
              "      <th>Low</th>\n",
              "      <th>Open</th>\n",
              "      <th>Close</th>\n",
              "      <th>Volume</th>\n",
              "      <th>Adj Close</th>\n",
              "    </tr>\n",
              "    <tr>\n",
              "      <th>Date</th>\n",
              "      <th></th>\n",
              "      <th></th>\n",
              "      <th></th>\n",
              "      <th></th>\n",
              "      <th></th>\n",
              "      <th></th>\n",
              "    </tr>\n",
              "  </thead>\n",
              "  <tbody>\n",
              "    <tr>\n",
              "      <th>2014-10-23</th>\n",
              "      <td>25.270000</td>\n",
              "      <td>25.090000</td>\n",
              "      <td>25.090000</td>\n",
              "      <td>25.250000</td>\n",
              "      <td>7400.0</td>\n",
              "      <td>22.448982</td>\n",
              "    </tr>\n",
              "    <tr>\n",
              "      <th>2014-10-24</th>\n",
              "      <td>25.190001</td>\n",
              "      <td>25.139999</td>\n",
              "      <td>25.139999</td>\n",
              "      <td>25.190001</td>\n",
              "      <td>15200.0</td>\n",
              "      <td>22.395638</td>\n",
              "    </tr>\n",
              "    <tr>\n",
              "      <th>2014-10-27</th>\n",
              "      <td>25.028000</td>\n",
              "      <td>25.028000</td>\n",
              "      <td>25.028000</td>\n",
              "      <td>25.028000</td>\n",
              "      <td>300.0</td>\n",
              "      <td>22.251610</td>\n",
              "    </tr>\n",
              "    <tr>\n",
              "      <th>2014-10-28</th>\n",
              "      <td>25.510000</td>\n",
              "      <td>25.440001</td>\n",
              "      <td>25.440001</td>\n",
              "      <td>25.510000</td>\n",
              "      <td>3800.0</td>\n",
              "      <td>22.680141</td>\n",
              "    </tr>\n",
              "    <tr>\n",
              "      <th>2014-10-29</th>\n",
              "      <td>25.670000</td>\n",
              "      <td>25.660000</td>\n",
              "      <td>25.660000</td>\n",
              "      <td>25.670000</td>\n",
              "      <td>13600.0</td>\n",
              "      <td>22.822393</td>\n",
              "    </tr>\n",
              "  </tbody>\n",
              "</table>\n",
              "</div>"
            ],
            "text/plain": [
              "                 High        Low       Open      Close   Volume  Adj Close\n",
              "Date                                                                      \n",
              "2014-10-23  25.270000  25.090000  25.090000  25.250000   7400.0  22.448982\n",
              "2014-10-24  25.190001  25.139999  25.139999  25.190001  15200.0  22.395638\n",
              "2014-10-27  25.028000  25.028000  25.028000  25.028000    300.0  22.251610\n",
              "2014-10-28  25.510000  25.440001  25.440001  25.510000   3800.0  22.680141\n",
              "2014-10-29  25.670000  25.660000  25.660000  25.670000  13600.0  22.822393"
            ]
          },
          "metadata": {
            "tags": []
          },
          "execution_count": 8
        }
      ]
    },
    {
      "cell_type": "code",
      "metadata": {
        "id": "U3_HpF8y7WLW",
        "outputId": "b04286f2-db1f-4629-b80a-cc03abf8d458",
        "colab": {
          "base_uri": "https://localhost:8080/",
          "height": 235
        }
      },
      "source": [
        "'''Crude Oil'''\n",
        "df_oil = web.DataReader('CL=F', data_source='yahoo', start='2014-10-23', end='2020-12-31')\n",
        "df_oil.head()"
      ],
      "execution_count": 9,
      "outputs": [
        {
          "output_type": "execute_result",
          "data": {
            "text/html": [
              "<div>\n",
              "<style scoped>\n",
              "    .dataframe tbody tr th:only-of-type {\n",
              "        vertical-align: middle;\n",
              "    }\n",
              "\n",
              "    .dataframe tbody tr th {\n",
              "        vertical-align: top;\n",
              "    }\n",
              "\n",
              "    .dataframe thead th {\n",
              "        text-align: right;\n",
              "    }\n",
              "</style>\n",
              "<table border=\"1\" class=\"dataframe\">\n",
              "  <thead>\n",
              "    <tr style=\"text-align: right;\">\n",
              "      <th></th>\n",
              "      <th>High</th>\n",
              "      <th>Low</th>\n",
              "      <th>Open</th>\n",
              "      <th>Close</th>\n",
              "      <th>Volume</th>\n",
              "      <th>Adj Close</th>\n",
              "    </tr>\n",
              "    <tr>\n",
              "      <th>Date</th>\n",
              "      <th></th>\n",
              "      <th></th>\n",
              "      <th></th>\n",
              "      <th></th>\n",
              "      <th></th>\n",
              "      <th></th>\n",
              "    </tr>\n",
              "  </thead>\n",
              "  <tbody>\n",
              "    <tr>\n",
              "      <th>2014-10-23</th>\n",
              "      <td>82.370003</td>\n",
              "      <td>80.050003</td>\n",
              "      <td>80.419998</td>\n",
              "      <td>82.089996</td>\n",
              "      <td>354839.0</td>\n",
              "      <td>82.089996</td>\n",
              "    </tr>\n",
              "    <tr>\n",
              "      <th>2014-10-24</th>\n",
              "      <td>81.949997</td>\n",
              "      <td>80.360001</td>\n",
              "      <td>81.949997</td>\n",
              "      <td>81.010002</td>\n",
              "      <td>272509.0</td>\n",
              "      <td>81.010002</td>\n",
              "    </tr>\n",
              "    <tr>\n",
              "      <th>2014-10-27</th>\n",
              "      <td>81.290001</td>\n",
              "      <td>79.440002</td>\n",
              "      <td>81.269997</td>\n",
              "      <td>81.000000</td>\n",
              "      <td>285327.0</td>\n",
              "      <td>81.000000</td>\n",
              "    </tr>\n",
              "    <tr>\n",
              "      <th>2014-10-28</th>\n",
              "      <td>81.660004</td>\n",
              "      <td>80.360001</td>\n",
              "      <td>80.639999</td>\n",
              "      <td>81.419998</td>\n",
              "      <td>226066.0</td>\n",
              "      <td>81.419998</td>\n",
              "    </tr>\n",
              "    <tr>\n",
              "      <th>2014-10-29</th>\n",
              "      <td>82.879997</td>\n",
              "      <td>81.440002</td>\n",
              "      <td>81.550003</td>\n",
              "      <td>82.199997</td>\n",
              "      <td>283762.0</td>\n",
              "      <td>82.199997</td>\n",
              "    </tr>\n",
              "  </tbody>\n",
              "</table>\n",
              "</div>"
            ],
            "text/plain": [
              "                 High        Low       Open      Close    Volume  Adj Close\n",
              "Date                                                                       \n",
              "2014-10-23  82.370003  80.050003  80.419998  82.089996  354839.0  82.089996\n",
              "2014-10-24  81.949997  80.360001  81.949997  81.010002  272509.0  81.010002\n",
              "2014-10-27  81.290001  79.440002  81.269997  81.000000  285327.0  81.000000\n",
              "2014-10-28  81.660004  80.360001  80.639999  81.419998  226066.0  81.419998\n",
              "2014-10-29  82.879997  81.440002  81.550003  82.199997  283762.0  82.199997"
            ]
          },
          "metadata": {
            "tags": []
          },
          "execution_count": 9
        }
      ]
    },
    {
      "cell_type": "code",
      "metadata": {
        "id": "7IDOnkIW7WOq",
        "outputId": "c57b5981-5fee-4dcf-a388-d558b1014196",
        "colab": {
          "base_uri": "https://localhost:8080/",
          "height": 235
        }
      },
      "source": [
        "'''Gold Index'''\n",
        "df_gold = web.DataReader('XAU=F', data_source='yahoo', start='2014-10-23', end='2020-12-31')\n",
        "df_gold.head()"
      ],
      "execution_count": 10,
      "outputs": [
        {
          "output_type": "execute_result",
          "data": {
            "text/html": [
              "<div>\n",
              "<style scoped>\n",
              "    .dataframe tbody tr th:only-of-type {\n",
              "        vertical-align: middle;\n",
              "    }\n",
              "\n",
              "    .dataframe tbody tr th {\n",
              "        vertical-align: top;\n",
              "    }\n",
              "\n",
              "    .dataframe thead th {\n",
              "        text-align: right;\n",
              "    }\n",
              "</style>\n",
              "<table border=\"1\" class=\"dataframe\">\n",
              "  <thead>\n",
              "    <tr style=\"text-align: right;\">\n",
              "      <th></th>\n",
              "      <th>High</th>\n",
              "      <th>Low</th>\n",
              "      <th>Open</th>\n",
              "      <th>Close</th>\n",
              "      <th>Volume</th>\n",
              "      <th>Adj Close</th>\n",
              "    </tr>\n",
              "    <tr>\n",
              "      <th>Date</th>\n",
              "      <th></th>\n",
              "      <th></th>\n",
              "      <th></th>\n",
              "      <th></th>\n",
              "      <th></th>\n",
              "      <th></th>\n",
              "    </tr>\n",
              "  </thead>\n",
              "  <tbody>\n",
              "    <tr>\n",
              "      <th>2014-10-23</th>\n",
              "      <td>445.500000</td>\n",
              "      <td>441.299988</td>\n",
              "      <td>444.100006</td>\n",
              "      <td>442.700012</td>\n",
              "      <td>321.0</td>\n",
              "      <td>442.700012</td>\n",
              "    </tr>\n",
              "    <tr>\n",
              "      <th>2014-10-24</th>\n",
              "      <td>448.200012</td>\n",
              "      <td>443.799988</td>\n",
              "      <td>444.399994</td>\n",
              "      <td>447.200012</td>\n",
              "      <td>34.0</td>\n",
              "      <td>447.200012</td>\n",
              "    </tr>\n",
              "    <tr>\n",
              "      <th>2014-10-27</th>\n",
              "      <td>448.600006</td>\n",
              "      <td>445.299988</td>\n",
              "      <td>447.100006</td>\n",
              "      <td>446.299988</td>\n",
              "      <td>80.0</td>\n",
              "      <td>446.299988</td>\n",
              "    </tr>\n",
              "    <tr>\n",
              "      <th>2014-10-28</th>\n",
              "      <td>449.100006</td>\n",
              "      <td>444.100006</td>\n",
              "      <td>447.399994</td>\n",
              "      <td>449.100006</td>\n",
              "      <td>353.0</td>\n",
              "      <td>449.100006</td>\n",
              "    </tr>\n",
              "    <tr>\n",
              "      <th>2014-10-29</th>\n",
              "      <td>450.799988</td>\n",
              "      <td>442.299988</td>\n",
              "      <td>449.500000</td>\n",
              "      <td>446.500000</td>\n",
              "      <td>213.0</td>\n",
              "      <td>446.500000</td>\n",
              "    </tr>\n",
              "  </tbody>\n",
              "</table>\n",
              "</div>"
            ],
            "text/plain": [
              "                  High         Low        Open       Close  Volume   Adj Close\n",
              "Date                                                                          \n",
              "2014-10-23  445.500000  441.299988  444.100006  442.700012   321.0  442.700012\n",
              "2014-10-24  448.200012  443.799988  444.399994  447.200012    34.0  447.200012\n",
              "2014-10-27  448.600006  445.299988  447.100006  446.299988    80.0  446.299988\n",
              "2014-10-28  449.100006  444.100006  447.399994  449.100006   353.0  449.100006\n",
              "2014-10-29  450.799988  442.299988  449.500000  446.500000   213.0  446.500000"
            ]
          },
          "metadata": {
            "tags": []
          },
          "execution_count": 10
        }
      ]
    },
    {
      "cell_type": "code",
      "metadata": {
        "id": "thXpU1vu7WQ8"
      },
      "source": [
        "df = df.reset_index() \n",
        "df_nas = df_nas.reset_index() \n",
        "df_dow=df_dow.reset_index()\n",
        "df_snp=df_snp.reset_index() \n",
        "df_dax=df_dax.reset_index() \n",
        "df_hsi=df_hsi.reset_index()\n",
        "df_nik=df_nik.reset_index()\n",
        "df_oil=df_oil.reset_index()\n",
        "df_gold=df_gold.reset_index()"
      ],
      "execution_count": 11,
      "outputs": []
    },
    {
      "cell_type": "code",
      "metadata": {
        "id": "P0Ag9SU27WGg",
        "outputId": "ac66d1cf-638f-4664-9acb-bd6367c41ad6",
        "colab": {
          "base_uri": "https://localhost:8080/"
        }
      },
      "source": [
        "final_ls=[]\n",
        "df_ls=df['Date'].tolist()\n",
        "df_nas_ls=df_nas['Date'].tolist()\n",
        "df_dow_ls=df_dow['Date'].tolist()\n",
        "df_snp_ls=df_snp['Date'].tolist()\n",
        "df_dax_ls=df_dax['Date'].tolist()\n",
        "df_hsi_ls=df_hsi['Date'].tolist()\n",
        "df_nik_ls=df_nik['Date'].tolist()\n",
        "df_oil_ls=df_oil['Date'].tolist()\n",
        "df_gold_ls=df_gold['Date'].tolist()\n",
        "for item in df_ls:\n",
        "    if item in df_nas_ls and item in df_dow_ls and item in df_snp_ls and item in df_dax_ls and item in df_hsi_ls and item in df_nik_ls and item in df_oil_ls and item in df_gold_ls:\n",
        "        final_ls.append(item)\n",
        "print(len(final_ls))"
      ],
      "execution_count": 12,
      "outputs": [
        {
          "output_type": "stream",
          "text": [
            "1358\n"
          ],
          "name": "stdout"
        }
      ]
    },
    {
      "cell_type": "code",
      "metadata": {
        "id": "pOk9KkVv7-7W"
      },
      "source": [
        "def date_check(df, ls):\n",
        "\n",
        "    for i in range(len(df)):\n",
        "        if df['Date'][i] not in ls:\n",
        "            df['Date'][i] = None\n",
        "            \n",
        "    return df.dropna()"
      ],
      "execution_count": 13,
      "outputs": []
    },
    {
      "cell_type": "code",
      "metadata": {
        "id": "2H6kuyaI7qlP",
        "outputId": "3c6f5f47-2dd8-47ec-9dcc-9d61be3b81a1",
        "colab": {
          "base_uri": "https://localhost:8080/"
        }
      },
      "source": [
        "df = date_check(df, final_ls)\n",
        "df_nas = date_check(df_nas, final_ls)\n",
        "df_dow = date_check(df_dow, final_ls)\n",
        "df_snp = date_check(df_snp, final_ls)\n",
        "df_dax = date_check(df_dax, final_ls)\n",
        "df_hsi = date_check(df_hsi, final_ls)\n",
        "df_nik = date_check(df_nik, final_ls)\n",
        "df_oil = date_check(df_oil, final_ls)\n",
        "df_gold = date_check(df_gold, final_ls)"
      ],
      "execution_count": 14,
      "outputs": [
        {
          "output_type": "stream",
          "text": [
            "/usr/local/lib/python3.6/dist-packages/ipykernel_launcher.py:5: SettingWithCopyWarning: \n",
            "A value is trying to be set on a copy of a slice from a DataFrame\n",
            "\n",
            "See the caveats in the documentation: https://pandas.pydata.org/pandas-docs/stable/user_guide/indexing.html#returning-a-view-versus-a-copy\n",
            "  \"\"\"\n",
            "/usr/local/lib/python3.6/dist-packages/ipykernel_launcher.py:5: SettingWithCopyWarning: \n",
            "A value is trying to be set on a copy of a slice from a DataFrame\n",
            "\n",
            "See the caveats in the documentation: https://pandas.pydata.org/pandas-docs/stable/user_guide/indexing.html#returning-a-view-versus-a-copy\n",
            "  \"\"\"\n",
            "/usr/local/lib/python3.6/dist-packages/ipykernel_launcher.py:5: SettingWithCopyWarning: \n",
            "A value is trying to be set on a copy of a slice from a DataFrame\n",
            "\n",
            "See the caveats in the documentation: https://pandas.pydata.org/pandas-docs/stable/user_guide/indexing.html#returning-a-view-versus-a-copy\n",
            "  \"\"\"\n",
            "/usr/local/lib/python3.6/dist-packages/ipykernel_launcher.py:5: SettingWithCopyWarning: \n",
            "A value is trying to be set on a copy of a slice from a DataFrame\n",
            "\n",
            "See the caveats in the documentation: https://pandas.pydata.org/pandas-docs/stable/user_guide/indexing.html#returning-a-view-versus-a-copy\n",
            "  \"\"\"\n",
            "/usr/local/lib/python3.6/dist-packages/ipykernel_launcher.py:5: SettingWithCopyWarning: \n",
            "A value is trying to be set on a copy of a slice from a DataFrame\n",
            "\n",
            "See the caveats in the documentation: https://pandas.pydata.org/pandas-docs/stable/user_guide/indexing.html#returning-a-view-versus-a-copy\n",
            "  \"\"\"\n",
            "/usr/local/lib/python3.6/dist-packages/ipykernel_launcher.py:5: SettingWithCopyWarning: \n",
            "A value is trying to be set on a copy of a slice from a DataFrame\n",
            "\n",
            "See the caveats in the documentation: https://pandas.pydata.org/pandas-docs/stable/user_guide/indexing.html#returning-a-view-versus-a-copy\n",
            "  \"\"\"\n",
            "/usr/local/lib/python3.6/dist-packages/ipykernel_launcher.py:5: SettingWithCopyWarning: \n",
            "A value is trying to be set on a copy of a slice from a DataFrame\n",
            "\n",
            "See the caveats in the documentation: https://pandas.pydata.org/pandas-docs/stable/user_guide/indexing.html#returning-a-view-versus-a-copy\n",
            "  \"\"\"\n",
            "/usr/local/lib/python3.6/dist-packages/ipykernel_launcher.py:5: SettingWithCopyWarning: \n",
            "A value is trying to be set on a copy of a slice from a DataFrame\n",
            "\n",
            "See the caveats in the documentation: https://pandas.pydata.org/pandas-docs/stable/user_guide/indexing.html#returning-a-view-versus-a-copy\n",
            "  \"\"\"\n",
            "/usr/local/lib/python3.6/dist-packages/ipykernel_launcher.py:5: SettingWithCopyWarning: \n",
            "A value is trying to be set on a copy of a slice from a DataFrame\n",
            "\n",
            "See the caveats in the documentation: https://pandas.pydata.org/pandas-docs/stable/user_guide/indexing.html#returning-a-view-versus-a-copy\n",
            "  \"\"\"\n"
          ],
          "name": "stderr"
        }
      ]
    },
    {
      "cell_type": "code",
      "metadata": {
        "id": "_qVn8GT47qon"
      },
      "source": [
        "df = df.reset_index() \n",
        "df_nas = df_nas.reset_index() \n",
        "df_dow=df_dow.reset_index()\n",
        "df_snp=df_snp.reset_index() \n",
        "df_dax=df_dax.reset_index() \n",
        "df_hsi=df_hsi.reset_index()\n",
        "df_nik=df_nik.reset_index()\n",
        "df_oil=df_oil.reset_index()\n",
        "df_gold=df_gold.reset_index()"
      ],
      "execution_count": 15,
      "outputs": []
    },
    {
      "cell_type": "code",
      "metadata": {
        "id": "ldoHn4x_7qrx",
        "outputId": "7069aa7e-2d72-418b-808b-2313e0137b4f",
        "colab": {
          "base_uri": "https://localhost:8080/"
        }
      },
      "source": [
        "print(len(df), len(df_nas), len(df_dow), len(df_snp), len(df_dax), len(df_hsi), len(df_nik), len(df_oil), len(df_gold))"
      ],
      "execution_count": 16,
      "outputs": [
        {
          "output_type": "stream",
          "text": [
            "1358 1358 1358 1358 1358 1358 1358 1358 1358\n"
          ],
          "name": "stdout"
        }
      ]
    },
    {
      "cell_type": "code",
      "metadata": {
        "id": "K_1m4VgN7qwp",
        "outputId": "84cf27f0-7627-4095-cebb-0d35c2a04515",
        "colab": {
          "base_uri": "https://localhost:8080/"
        }
      },
      "source": [
        "df.shape, df_nas.shape, df_dow.shape, df_snp.shape, df_dax.shape, df_hsi.shape, df_nik.shape, df_oil.shape, df_gold.shape"
      ],
      "execution_count": 17,
      "outputs": [
        {
          "output_type": "execute_result",
          "data": {
            "text/plain": [
              "((1358, 8),\n",
              " (1358, 8),\n",
              " (1358, 8),\n",
              " (1358, 8),\n",
              " (1358, 8),\n",
              " (1358, 8),\n",
              " (1358, 8),\n",
              " (1358, 8),\n",
              " (1358, 8))"
            ]
          },
          "metadata": {
            "tags": []
          },
          "execution_count": 17
        }
      ]
    },
    {
      "cell_type": "code",
      "metadata": {
        "id": "Ao478zpZ7q1s",
        "outputId": "721d3d3d-fd97-4bee-ac3d-da4873063bd2",
        "colab": {
          "base_uri": "https://localhost:8080/",
          "height": 456
        }
      },
      "source": [
        "adj_close = pd.concat([df_nas['Adj Close'], df_dow['Adj Close'], df_snp['Adj Close'], df_dax['Adj Close'], df_hsi['Adj Close'], df_nik['Adj Close'], df_oil['Adj Close'], df_gold['Adj Close']], axis=1)\n",
        "adj_close"
      ],
      "execution_count": 18,
      "outputs": [
        {
          "output_type": "execute_result",
          "data": {
            "text/html": [
              "<div>\n",
              "<style scoped>\n",
              "    .dataframe tbody tr th:only-of-type {\n",
              "        vertical-align: middle;\n",
              "    }\n",
              "\n",
              "    .dataframe tbody tr th {\n",
              "        vertical-align: top;\n",
              "    }\n",
              "\n",
              "    .dataframe thead th {\n",
              "        text-align: right;\n",
              "    }\n",
              "</style>\n",
              "<table border=\"1\" class=\"dataframe\">\n",
              "  <thead>\n",
              "    <tr style=\"text-align: right;\">\n",
              "      <th></th>\n",
              "      <th>Adj Close</th>\n",
              "      <th>Adj Close</th>\n",
              "      <th>Adj Close</th>\n",
              "      <th>Adj Close</th>\n",
              "      <th>Adj Close</th>\n",
              "      <th>Adj Close</th>\n",
              "      <th>Adj Close</th>\n",
              "      <th>Adj Close</th>\n",
              "    </tr>\n",
              "  </thead>\n",
              "  <tbody>\n",
              "    <tr>\n",
              "      <th>0</th>\n",
              "      <td>4452.790039</td>\n",
              "      <td>16677.900391</td>\n",
              "      <td>1950.819946</td>\n",
              "      <td>22.448982</td>\n",
              "      <td>23333.179688</td>\n",
              "      <td>15138.959961</td>\n",
              "      <td>82.089996</td>\n",
              "      <td>442.700012</td>\n",
              "    </tr>\n",
              "    <tr>\n",
              "      <th>1</th>\n",
              "      <td>4483.720215</td>\n",
              "      <td>16805.410156</td>\n",
              "      <td>1964.579956</td>\n",
              "      <td>22.395638</td>\n",
              "      <td>23302.199219</td>\n",
              "      <td>15291.639648</td>\n",
              "      <td>81.010002</td>\n",
              "      <td>447.200012</td>\n",
              "    </tr>\n",
              "    <tr>\n",
              "      <th>2</th>\n",
              "      <td>4485.930176</td>\n",
              "      <td>16817.939453</td>\n",
              "      <td>1961.630005</td>\n",
              "      <td>22.251610</td>\n",
              "      <td>23143.230469</td>\n",
              "      <td>15388.719727</td>\n",
              "      <td>81.000000</td>\n",
              "      <td>446.299988</td>\n",
              "    </tr>\n",
              "    <tr>\n",
              "      <th>3</th>\n",
              "      <td>4564.290039</td>\n",
              "      <td>17005.750000</td>\n",
              "      <td>1985.050049</td>\n",
              "      <td>22.680141</td>\n",
              "      <td>23520.359375</td>\n",
              "      <td>15329.910156</td>\n",
              "      <td>81.419998</td>\n",
              "      <td>449.100006</td>\n",
              "    </tr>\n",
              "    <tr>\n",
              "      <th>4</th>\n",
              "      <td>4549.229980</td>\n",
              "      <td>16974.310547</td>\n",
              "      <td>1982.300049</td>\n",
              "      <td>22.822393</td>\n",
              "      <td>23819.869141</td>\n",
              "      <td>15553.910156</td>\n",
              "      <td>82.199997</td>\n",
              "      <td>446.500000</td>\n",
              "    </tr>\n",
              "    <tr>\n",
              "      <th>...</th>\n",
              "      <td>...</td>\n",
              "      <td>...</td>\n",
              "      <td>...</td>\n",
              "      <td>...</td>\n",
              "      <td>...</td>\n",
              "      <td>...</td>\n",
              "      <td>...</td>\n",
              "      <td>...</td>\n",
              "    </tr>\n",
              "    <tr>\n",
              "      <th>1353</th>\n",
              "      <td>11713.780273</td>\n",
              "      <td>29157.970703</td>\n",
              "      <td>3550.500000</td>\n",
              "      <td>28.850000</td>\n",
              "      <td>26016.169922</td>\n",
              "      <td>24839.839844</td>\n",
              "      <td>40.290001</td>\n",
              "      <td>657.900024</td>\n",
              "    </tr>\n",
              "    <tr>\n",
              "      <th>1354</th>\n",
              "      <td>11553.860352</td>\n",
              "      <td>29420.919922</td>\n",
              "      <td>3545.530029</td>\n",
              "      <td>29.200001</td>\n",
              "      <td>26301.480469</td>\n",
              "      <td>24905.589844</td>\n",
              "      <td>41.360001</td>\n",
              "      <td>667.400024</td>\n",
              "    </tr>\n",
              "    <tr>\n",
              "      <th>1355</th>\n",
              "      <td>11786.429688</td>\n",
              "      <td>29397.630859</td>\n",
              "      <td>3572.659912</td>\n",
              "      <td>29.129999</td>\n",
              "      <td>26226.980469</td>\n",
              "      <td>25349.599609</td>\n",
              "      <td>41.450001</td>\n",
              "      <td>669.799988</td>\n",
              "    </tr>\n",
              "    <tr>\n",
              "      <th>1356</th>\n",
              "      <td>11709.589844</td>\n",
              "      <td>29080.169922</td>\n",
              "      <td>3537.010010</td>\n",
              "      <td>28.690001</td>\n",
              "      <td>26169.380859</td>\n",
              "      <td>25520.880859</td>\n",
              "      <td>41.119999</td>\n",
              "      <td>659.200012</td>\n",
              "    </tr>\n",
              "    <tr>\n",
              "      <th>1357</th>\n",
              "      <td>11768.974609</td>\n",
              "      <td>29415.089844</td>\n",
              "      <td>3572.080078</td>\n",
              "      <td>29.054399</td>\n",
              "      <td>26156.859375</td>\n",
              "      <td>25385.869141</td>\n",
              "      <td>40.299999</td>\n",
              "      <td>666.299988</td>\n",
              "    </tr>\n",
              "  </tbody>\n",
              "</table>\n",
              "<p>1358 rows × 8 columns</p>\n",
              "</div>"
            ],
            "text/plain": [
              "         Adj Close     Adj Close  ...  Adj Close   Adj Close\n",
              "0      4452.790039  16677.900391  ...  82.089996  442.700012\n",
              "1      4483.720215  16805.410156  ...  81.010002  447.200012\n",
              "2      4485.930176  16817.939453  ...  81.000000  446.299988\n",
              "3      4564.290039  17005.750000  ...  81.419998  449.100006\n",
              "4      4549.229980  16974.310547  ...  82.199997  446.500000\n",
              "...            ...           ...  ...        ...         ...\n",
              "1353  11713.780273  29157.970703  ...  40.290001  657.900024\n",
              "1354  11553.860352  29420.919922  ...  41.360001  667.400024\n",
              "1355  11786.429688  29397.630859  ...  41.450001  669.799988\n",
              "1356  11709.589844  29080.169922  ...  41.119999  659.200012\n",
              "1357  11768.974609  29415.089844  ...  40.299999  666.299988\n",
              "\n",
              "[1358 rows x 8 columns]"
            ]
          },
          "metadata": {
            "tags": []
          },
          "execution_count": 18
        }
      ]
    },
    {
      "cell_type": "code",
      "metadata": {
        "id": "erLqTywb7q5A",
        "outputId": "fbe2a025-3053-4c09-f796-3b27668fdf61",
        "colab": {
          "base_uri": "https://localhost:8080/"
        }
      },
      "source": [
        "adj_close.isna().sum()"
      ],
      "execution_count": 19,
      "outputs": [
        {
          "output_type": "execute_result",
          "data": {
            "text/plain": [
              "Adj Close    0\n",
              "Adj Close    0\n",
              "Adj Close    0\n",
              "Adj Close    0\n",
              "Adj Close    0\n",
              "Adj Close    0\n",
              "Adj Close    0\n",
              "Adj Close    0\n",
              "dtype: int64"
            ]
          },
          "metadata": {
            "tags": []
          },
          "execution_count": 19
        }
      ]
    },
    {
      "cell_type": "code",
      "metadata": {
        "id": "6g6Nq8gZ7q8k",
        "outputId": "41c7ece3-b66c-44bf-b406-8ec6da7caf35",
        "colab": {
          "base_uri": "https://localhost:8080/"
        }
      },
      "source": [
        "adj_close = adj_close.values\n",
        "adj_close"
      ],
      "execution_count": 20,
      "outputs": [
        {
          "output_type": "execute_result",
          "data": {
            "text/plain": [
              "array([[ 4452.79003906, 16677.90039062,  1950.81994629, ...,\n",
              "        15138.95996094,    82.08999634,   442.70001221],\n",
              "       [ 4483.72021484, 16805.41015625,  1964.57995605, ...,\n",
              "        15291.63964844,    81.01000214,   447.20001221],\n",
              "       [ 4485.93017578, 16817.93945312,  1961.63000488, ...,\n",
              "        15388.71972656,    81.        ,   446.29998779],\n",
              "       ...,\n",
              "       [11786.4296875 , 29397.63085938,  3572.65991211, ...,\n",
              "        25349.59960938,    41.45000076,   669.79998779],\n",
              "       [11709.58984375, 29080.16992188,  3537.01000977, ...,\n",
              "        25520.88085938,    41.11999893,   659.20001221],\n",
              "       [11768.97460938, 29415.08984375,  3572.08007812, ...,\n",
              "        25385.86914062,    40.29999924,   666.29998779]])"
            ]
          },
          "metadata": {
            "tags": []
          },
          "execution_count": 20
        }
      ]
    },
    {
      "cell_type": "code",
      "metadata": {
        "id": "oO8L1C8L7qzl",
        "outputId": "f64144ba-5077-4bc9-98c0-4f4b46cad259",
        "colab": {
          "base_uri": "https://localhost:8080/"
        }
      },
      "source": [
        "adj_close.shape"
      ],
      "execution_count": 21,
      "outputs": [
        {
          "output_type": "execute_result",
          "data": {
            "text/plain": [
              "(1358, 8)"
            ]
          },
          "metadata": {
            "tags": []
          },
          "execution_count": 21
        }
      ]
    },
    {
      "cell_type": "code",
      "metadata": {
        "id": "KhbZITkG7qub",
        "outputId": "ea967d19-0867-4854-a353-6b85142c54ca",
        "colab": {
          "base_uri": "https://localhost:8080/"
        }
      },
      "source": [
        "appl = df['Adj Close']\n",
        "appl = appl.values\n",
        "print(len(appl))\n",
        "appl"
      ],
      "execution_count": 22,
      "outputs": [
        {
          "output_type": "stream",
          "text": [
            "1358\n"
          ],
          "name": "stdout"
        },
        {
          "output_type": "execute_result",
          "data": {
            "text/plain": [
              "array([ 23.57762146,  23.66533279,  23.64059258, ..., 119.48999786,\n",
              "       119.20999908, 118.63500214])"
            ]
          },
          "metadata": {
            "tags": []
          },
          "execution_count": 22
        }
      ]
    },
    {
      "cell_type": "code",
      "metadata": {
        "id": "1mv3-Yde75Ye",
        "outputId": "357e5d57-3576-4acf-8bee-c8f49417e037",
        "colab": {
          "base_uri": "https://localhost:8080/"
        }
      },
      "source": [
        "scaler = MinMaxScaler(feature_range=(0,1))\n",
        "scaled_data = scaler.fit_transform(adj_close)\n",
        "scaled_data"
      ],
      "execution_count": 23,
      "outputs": [
        {
          "output_type": "execute_result",
          "data": {
            "text/plain": [
              "array([[0.01493475, 0.07284562, 0.05314519, ..., 0.01768785, 0.99908203,\n",
              "        0.10470866],\n",
              "       [0.0189418 , 0.08202891, 0.06113818, ..., 0.03213403, 0.99006931,\n",
              "        0.11952592],\n",
              "       [0.01922811, 0.08293127, 0.0594246 , ..., 0.04131951, 0.98998584,\n",
              "        0.11656238],\n",
              "       ...,\n",
              "       [0.96501967, 0.98892407, 0.99524826, ..., 0.98379378, 0.65993493,\n",
              "        0.85248604],\n",
              "       [0.95506494, 0.96606045, 0.97453975, ..., 1.        , 0.65718102,\n",
              "        0.81758325],\n",
              "       [0.96275834, 0.99018147, 0.99491144, ..., 0.98722552, 0.65033799,\n",
              "        0.84096151]])"
            ]
          },
          "metadata": {
            "tags": []
          },
          "execution_count": 23
        }
      ]
    },
    {
      "cell_type": "code",
      "metadata": {
        "id": "WaSC4Q9L75bZ"
      },
      "source": [
        "X = scaled_data\n",
        "y = appl\n",
        "from sklearn.model_selection import train_test_split\n",
        "\n",
        "X_train, X_test, y_train, y_test = \\\n",
        "    train_test_split(X, y, \n",
        "                     test_size=0.25,\n",
        "                     random_state=1)"
      ],
      "execution_count": 24,
      "outputs": []
    },
    {
      "cell_type": "code",
      "metadata": {
        "id": "_pFWAPze75eZ",
        "outputId": "4f44f0e3-30a0-4700-cae0-c447da8bb27b",
        "colab": {
          "base_uri": "https://localhost:8080/"
        }
      },
      "source": [
        "print(X_train.shape)\n",
        "print(len(y_train))"
      ],
      "execution_count": 25,
      "outputs": [
        {
          "output_type": "stream",
          "text": [
            "(1018, 8)\n",
            "1018\n"
          ],
          "name": "stdout"
        }
      ]
    },
    {
      "cell_type": "code",
      "metadata": {
        "id": "Oie_PHRi75jg",
        "outputId": "cf643b65-f635-4943-c9f1-dd6321608781",
        "colab": {
          "base_uri": "https://localhost:8080/"
        }
      },
      "source": [
        "print(X_test.shape)\n",
        "print(len(y_test))"
      ],
      "execution_count": 26,
      "outputs": [
        {
          "output_type": "stream",
          "text": [
            "(340, 8)\n",
            "340\n"
          ],
          "name": "stdout"
        }
      ]
    },
    {
      "cell_type": "code",
      "metadata": {
        "id": "rOyy_wvW75mP",
        "outputId": "ede860d6-7c86-4b44-b216-7efaaecdd1c1",
        "colab": {
          "base_uri": "https://localhost:8080/"
        }
      },
      "source": [
        "C_range = np.logspace(-4, 2, 7)\n",
        "gamma_range = np.logspace(-4, 2, 7)\n",
        "print(gamma_range)"
      ],
      "execution_count": 27,
      "outputs": [
        {
          "output_type": "stream",
          "text": [
            "[1.e-04 1.e-03 1.e-02 1.e-01 1.e+00 1.e+01 1.e+02]\n"
          ],
          "name": "stdout"
        }
      ]
    },
    {
      "cell_type": "code",
      "metadata": {
        "id": "nqkVXtjV75ra"
      },
      "source": [
        "param_grid = [{'C': C_range, 'kernel': ['linear']},\n",
        "    {'C': C_range, \n",
        "    'gamma': gamma_range, \n",
        "    'kernel': ['rbf']}]"
      ],
      "execution_count": 28,
      "outputs": []
    },
    {
      "cell_type": "markdown",
      "metadata": {
        "id": "Iv4CMa048EHz"
      },
      "source": [
        "#### Testing for Mean Squared Error (the proportion of the variance in the dependent variable that is predictable from the independent variable(s))"
      ]
    },
    {
      "cell_type": "code",
      "metadata": {
        "id": "oCG2YUZ_75pS",
        "outputId": "ea931440-bff8-4337-8a81-d6638f6399f3",
        "colab": {
          "base_uri": "https://localhost:8080/"
        }
      },
      "source": [
        "from sklearn.svm import SVC\n",
        "\n",
        "svr = SVR()\n",
        "gs = GridSearchCV(estimator=svr, \n",
        "    param_grid=param_grid, \n",
        "    scoring='r2', \n",
        "    cv=10,\n",
        "    n_jobs=-1)\n",
        "\n",
        "gs.fit(X_train, y_train)\n",
        "print(gs.best_estimator_)\n",
        "print(gs.best_score_)\n",
        "\n",
        "#retrain model with the best hyper-parameters\n",
        "gs.best_estimator_.fit(X_train, y_train)\n",
        "y_train_pred = gs.best_estimator_.predict(X_train)\n",
        "y_test_pred = gs.best_estimator_.predict(X_test)\n",
        "\n",
        "print(\"The accuracy for the training data is :\", gs.best_estimator_.score(X_train,y_train))\n",
        "print(\"The accuracy for the test data is :\",gs.best_estimator_.score(X_test,y_test))"
      ],
      "execution_count": 29,
      "outputs": [
        {
          "output_type": "stream",
          "text": [
            "SVR(C=100.0, cache_size=200, coef0=0.0, degree=3, epsilon=0.1, gamma=10.0,\n",
            "    kernel='rbf', max_iter=-1, shrinking=True, tol=0.001, verbose=False)\n",
            "0.9979031408131608\n",
            "The accuracy for the training data is : 0.9993000694682078\n",
            "The accuracy for the test data is : 0.998219597905962\n"
          ],
          "name": "stdout"
        }
      ]
    },
    {
      "cell_type": "markdown",
      "metadata": {
        "id": "VfXQbRy88KXF"
      },
      "source": [
        "### Best Hyper-parameters\n",
        "For our support vector regression model, the best hyper-parameters are:\n",
        "\n",
        "Kernel = 'rbf', C = 100, gamma = 10"
      ]
    },
    {
      "cell_type": "code",
      "metadata": {
        "id": "1-S-3KiM75hZ",
        "outputId": "19baba38-66d8-4078-9a0e-7c0e44ed3c6f",
        "colab": {
          "base_uri": "https://localhost:8080/"
        }
      },
      "source": [
        "#rbf kernel         \n",
        "rbf_svr = SVR(kernel='rbf', C=100, gamma=10)\n",
        "rbf_svr.fit(X_train, y_train)"
      ],
      "execution_count": 30,
      "outputs": [
        {
          "output_type": "execute_result",
          "data": {
            "text/plain": [
              "SVR(C=100, cache_size=200, coef0=0.0, degree=3, epsilon=0.1, gamma=10,\n",
              "    kernel='rbf', max_iter=-1, shrinking=True, tol=0.001, verbose=False)"
            ]
          },
          "metadata": {
            "tags": []
          },
          "execution_count": 30
        }
      ]
    },
    {
      "cell_type": "markdown",
      "metadata": {
        "id": "Af20aI1o8VOn"
      },
      "source": [
        "### Testing the Model"
      ]
    },
    {
      "cell_type": "code",
      "metadata": {
        "id": "WOBG72Pe8Rq2",
        "outputId": "fa530266-1711-4411-a11d-0833e3cd2313",
        "colab": {
          "base_uri": "https://localhost:8080/"
        }
      },
      "source": [
        "print('rbf train', rbf_svr.score(X_train, y_train))\n",
        "print('rbf test',rbf_svr.score(X_test, y_test))"
      ],
      "execution_count": 31,
      "outputs": [
        {
          "output_type": "stream",
          "text": [
            "rbf train 0.9993000694682078\n",
            "rbf test 0.998219597905962\n"
          ],
          "name": "stdout"
        }
      ]
    },
    {
      "cell_type": "markdown",
      "metadata": {
        "id": "WY6Z6Mhq8c4_"
      },
      "source": [
        "### Plotting the Model"
      ]
    },
    {
      "cell_type": "code",
      "metadata": {
        "id": "gCuDnBJ786Wx",
        "outputId": "cf5636a8-1097-45a6-a4a0-03e09c0ac86a",
        "colab": {
          "base_uri": "https://localhost:8080/"
        }
      },
      "source": [
        "day_count=[]\n",
        "for i in range(1, 1359):\n",
        "    day_count.append(i)\n",
        "day_count[:10]"
      ],
      "execution_count": 35,
      "outputs": [
        {
          "output_type": "execute_result",
          "data": {
            "text/plain": [
              "[1, 2, 3, 4, 5, 6, 7, 8, 9, 10]"
            ]
          },
          "metadata": {
            "tags": []
          },
          "execution_count": 35
        }
      ]
    },
    {
      "cell_type": "code",
      "metadata": {
        "id": "OvfL8mXe8SEK",
        "outputId": "5fa28172-92c7-44e4-d240-3c9f1e460e82",
        "colab": {
          "base_uri": "https://localhost:8080/",
          "height": 346
        }
      },
      "source": [
        "plt.figure(figsize=(16,8))\n",
        "plt.title('SVR')\n",
        "plt.plot(day_count, y, color='red',label='Apple Close')\n",
        "# plt.plot(day_count, lin_svr.predict(X), color='green', label='Linear Model')\n",
        "plt.plot(day_count, rbf_svr.predict(X), color='blue', label='RBF Model')\n",
        "# plt.plot(day_count, poly_svr.predict(X), color='orange', label='Poly Model')\n",
        "plt.xlabel('Date 2008-01-01:2019-12-31')\n",
        "plt.ylabel('Stock Close Price')\n",
        "plt.legend()\n",
        "plt.show()"
      ],
      "execution_count": 36,
      "outputs": [
        {
          "output_type": "display_data",
          "data": {
            "image/png": "[encoded data removed]",
            "text/plain": [
              "<Figure size 1152x576 with 1 Axes>"
            ]
          },
          "metadata": {
            "tags": [],
            "needs_background": "light"
          }
        }
      ]
    },
    {
      "cell_type": "code",
      "metadata": {
        "id": "AGFnMzeS89xF"
      },
      "source": [
        ""
      ],
      "execution_count": null,
      "outputs": []
    }
  ]
}